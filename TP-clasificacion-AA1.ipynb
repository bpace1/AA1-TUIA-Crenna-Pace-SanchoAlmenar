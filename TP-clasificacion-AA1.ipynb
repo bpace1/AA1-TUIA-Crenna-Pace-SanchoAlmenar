{
  "cells": [
    {
      "cell_type": "markdown",
      "metadata": {
        "id": "KVU8b4zYdqlU"
      },
      "source": [
        "**UNR - TUIA**\n",
        "\n",
        "# Trabajo Prático N°: 2 - Aprendizaje Automático\n",
        "\n",
        "### Integrantes:\n",
        "*   Crenna, Giuliano. Legajo: C-7438/1.\n",
        "*   Pace, Bruno. Legajo: P-5295/7.\n",
        "*   Sancho Almenar, Mariano. Legajo: S-5778/9."
      ]
    },
    {
      "cell_type": "code",
      "execution_count": 2,
      "metadata": {
        "id": "2TdOjxNrdqlf"
      },
      "outputs": [],
      "source": [
        "#Tratamiento de datos:\n",
        "import numpy as np\n",
        "import pandas as pd\n",
        "import math\n",
        "\n",
        "#Gráficos:\n",
        "import matplotlib.pyplot as plt\n",
        "import seaborn as sns\n",
        "import plotly.express as px\n",
        "\n",
        "#Preprocesado y modelado:\n",
        "from sklearn.model_selection import train_test_split, GridSearchCV\n",
        "from imblearn.over_sampling import RandomOverSampler\n",
        "from sklearn.preprocessing import StandardScaler, OneHotEncoder\n",
        "from sklearn.impute import KNNImputer\n",
        "from sklearn.linear_model import LinearRegression, Ridge, Lasso, ElasticNet, RidgeCV, ElasticNetCV, LassoCV, SGDRegressor\n",
        "from sklearn.metrics import mean_squared_error, r2_score, accuracy_score\n",
        "import random\n",
        "\n",
        "from typing import Dict, List, Tuple\n",
        "\n",
        "#Configuración de warnings:\n",
        "import warnings\n",
        "warnings.filterwarnings('ignore')"
      ]
    },
    {
      "cell_type": "markdown",
      "metadata": {
        "id": "pU7pQtrodqlm"
      },
      "source": [
        "\n",
        "## Lectura, selección de ciudades y analisis de variables"
      ]
    },
    {
      "cell_type": "code",
      "execution_count": 3,
      "metadata": {
        "id": "Ejn__JDPdqlo"
      },
      "outputs": [],
      "source": [
        "df: pd.DataFrame = pd.read_csv('weatherAUS.csv')"
      ]
    },
    {
      "cell_type": "markdown",
      "metadata": {},
      "source": [
        "Se seleccionan 10 ciudades aleatorias de dataset para analizar"
      ]
    },
    {
      "cell_type": "code",
      "execution_count": 4,
      "metadata": {
        "colab": {
          "base_uri": "https://localhost:8080/"
        },
        "id": "09BgJw0Gdqlr",
        "outputId": "c98ae50b-b46d-4b02-ee59-0f21cea8686e"
      },
      "outputs": [],
      "source": [
        "random.seed(42)\n",
        "choosen_cities =  random.sample(df['Location'].unique().tolist(), k=10)"
      ]
    },
    {
      "cell_type": "code",
      "execution_count": 5,
      "metadata": {
        "id": "uR_Ixeb2dqly"
      },
      "outputs": [],
      "source": [
        "# Se guarda en el DataFrame las tuplas con las ciudades elegidas\n",
        "df: pd.DataFrame = df[df['Location'].isin(choosen_cities)].reset_index(drop = True) "
      ]
    },
    {
      "cell_type": "markdown",
      "metadata": {},
      "source": [
        "\n",
        "### Tipo de dato de las variables"
      ]
    },
    {
      "cell_type": "code",
      "execution_count": 6,
      "metadata": {},
      "outputs": [
        {
          "name": "stdout",
          "output_type": "stream",
          "text": [
            "<class 'pandas.core.frame.DataFrame'>\n",
            "RangeIndex: 30818 entries, 0 to 30817\n",
            "Data columns (total 23 columns):\n",
            " #   Column         Non-Null Count  Dtype  \n",
            "---  ------         --------------  -----  \n",
            " 0   Date           30818 non-null  object \n",
            " 1   Location       30818 non-null  object \n",
            " 2   MinTemp        30254 non-null  float64\n",
            " 3   MaxTemp        30421 non-null  float64\n",
            " 4   Rainfall       30243 non-null  float64\n",
            " 5   Evaporation    10686 non-null  float64\n",
            " 6   Sunshine       10127 non-null  float64\n",
            " 7   WindGustDir    26779 non-null  object \n",
            " 8   WindGustSpeed  26797 non-null  float64\n",
            " 9   WindDir9am     27071 non-null  object \n",
            " 10  WindDir3pm     28746 non-null  object \n",
            " 11  WindSpeed9am   29921 non-null  float64\n",
            " 12  WindSpeed3pm   29269 non-null  float64\n",
            " 13  Humidity9am    29837 non-null  float64\n",
            " 14  Humidity3pm    29348 non-null  float64\n",
            " 15  Pressure9am    21206 non-null  float64\n",
            " 16  Pressure3pm    21250 non-null  float64\n",
            " 17  Cloud9am       15523 non-null  float64\n",
            " 18  Cloud3pm       14073 non-null  float64\n",
            " 19  Temp9am        29988 non-null  float64\n",
            " 20  Temp3pm        29450 non-null  float64\n",
            " 21  RainToday      30243 non-null  object \n",
            " 22  RainTomorrow   30243 non-null  object \n",
            "dtypes: float64(16), object(7)\n",
            "memory usage: 5.4+ MB\n"
          ]
        }
      ],
      "source": [
        "df.info()"
      ]
    },
    {
      "cell_type": "code",
      "execution_count": 7,
      "metadata": {},
      "outputs": [
        {
          "data": {
            "text/html": [
              "<div>\n",
              "<style scoped>\n",
              "    .dataframe tbody tr th:only-of-type {\n",
              "        vertical-align: middle;\n",
              "    }\n",
              "\n",
              "    .dataframe tbody tr th {\n",
              "        vertical-align: top;\n",
              "    }\n",
              "\n",
              "    .dataframe thead th {\n",
              "        text-align: right;\n",
              "    }\n",
              "</style>\n",
              "<table border=\"1\" class=\"dataframe\">\n",
              "  <thead>\n",
              "    <tr style=\"text-align: right;\">\n",
              "      <th></th>\n",
              "      <th>Date</th>\n",
              "      <th>Location</th>\n",
              "      <th>WindGustDir</th>\n",
              "      <th>WindDir9am</th>\n",
              "      <th>WindDir3pm</th>\n",
              "      <th>RainToday</th>\n",
              "      <th>RainTomorrow</th>\n",
              "    </tr>\n",
              "  </thead>\n",
              "  <tbody>\n",
              "    <tr>\n",
              "      <th>30358</th>\n",
              "      <td>2016-03-23</td>\n",
              "      <td>Perth</td>\n",
              "      <td>SE</td>\n",
              "      <td>SE</td>\n",
              "      <td>SE</td>\n",
              "      <td>No</td>\n",
              "      <td>No</td>\n",
              "    </tr>\n",
              "    <tr>\n",
              "      <th>2153</th>\n",
              "      <td>2015-02-21</td>\n",
              "      <td>BadgerysCreek</td>\n",
              "      <td>E</td>\n",
              "      <td>SE</td>\n",
              "      <td>SSW</td>\n",
              "      <td>Yes</td>\n",
              "      <td>Yes</td>\n",
              "    </tr>\n",
              "  </tbody>\n",
              "</table>\n",
              "</div>"
            ],
            "text/plain": [
              "             Date       Location WindGustDir WindDir9am WindDir3pm RainToday  \\\n",
              "30358  2016-03-23          Perth          SE         SE         SE        No   \n",
              "2153   2015-02-21  BadgerysCreek           E         SE        SSW       Yes   \n",
              "\n",
              "      RainTomorrow  \n",
              "30358           No  \n",
              "2153           Yes  "
            ]
          },
          "execution_count": 7,
          "metadata": {},
          "output_type": "execute_result"
        }
      ],
      "source": [
        "df[['Date', 'Location', 'WindGustDir', 'WindDir9am', 'WindDir3pm',  'RainToday', 'RainTomorrow']].sample(2)"
      ]
    },
    {
      "cell_type": "markdown",
      "metadata": {},
      "source": [
        "Se observa la presencia de ocho columnas categóricas, su análisis y procesamiento a continuacion."
      ]
    },
    {
      "cell_type": "markdown",
      "metadata": {
        "id": "JHfX5Gj3g5sp"
      },
      "source": [
        "\n",
        "### Date\n",
        "\n",
        "Dado que 'Date' se encuentra con formato 'YYYY-MM-DD', se dividirá en 2 columnas distintas.\n",
        "\n",
        "- **Year**: Será una variable categórica indicando el año, luego se codificará utilizando One-Hot Encoder.\n",
        "- **Season**:  Indicará en qué temporada del año ocurrió la medición."
      ]
    },
    {
      "cell_type": "code",
      "execution_count": 8,
      "metadata": {
        "id": "2EYJpue7rcke"
      },
      "outputs": [],
      "source": [
        "# Cambiamos el formato de 'Date' a datetime de pandas para su manejo\n",
        "df['Date'] = pd.to_datetime(df['Date'])\n",
        "df['Year'] = df['Date'].dt.year\n",
        "\n",
        "# Función para determinar la estación\n",
        "def get_season(date):\n",
        "    Y = date.year\n",
        "    if pd.Timestamp(f'{Y}-12-1') <= date or date < pd.Timestamp(f'{Y}-03-01'):\n",
        "        return 'Verano'\n",
        "    elif pd.Timestamp(f'{Y}-03-01') <= date < pd.Timestamp(f'{Y}-06-01'):\n",
        "        return 'Otoño'\n",
        "    elif pd.Timestamp(f'{Y}-06-01') <= date < pd.Timestamp(f'{Y}-09-01'):\n",
        "        return 'Invierno'\n",
        "    else:\n",
        "        return 'Primavera'\n",
        "\n",
        "\n",
        "df['Season'] = df['Date'].apply(get_season)\n",
        "\n",
        "df.drop(columns='Date', inplace=True)"
      ]
    },
    {
      "cell_type": "markdown",
      "metadata": {
        "id": "f5jf3t5gxJyE"
      },
      "source": [
        "\n",
        "### Mediciones del viento\n",
        "\n",
        "Las columnas *WindGustDir*, *WindDir9am*, *WindDir3pm*, *WindSpeed3pm* indican la dirección del viento utilizando las direcciones cardinales.\n",
        "\n",
        "Se transformarán dichas direcciones en las proyecciones que tienen sobre los ejes x e y."
      ]
    },
    {
      "cell_type": "code",
      "execution_count": 9,
      "metadata": {
        "id": "70qalt8exQLi"
      },
      "outputs": [],
      "source": [
        "def angle_to_xy(angle):\n",
        "    \"\"\"\n",
        "    Función que recibe la dirección del viento en grados y la transformará en projecciones sobre el eje x e y, \n",
        "    obteniendo así dos valores numéricos por cada columna.\n",
        "    \"\"\"\n",
        "\n",
        "    if math.isnan(angle):\n",
        "        return (np.nan, np.nan)\n",
        "\n",
        "    # Convertimos el ángulo a radianes\n",
        "    angle_rad = math.radians(angle)\n",
        "\n",
        "\n",
        "    x = math.sin(angle_rad)\n",
        "    y = math.cos(angle_rad)\n",
        "\n",
        "    return (x, y)"
      ]
    },
    {
      "cell_type": "code",
      "execution_count": 10,
      "metadata": {
        "id": "RkJYEsPjzBXc"
      },
      "outputs": [],
      "source": [
        "direction_angles = {\n",
        "        'N': 0,\n",
        "        'NNE': 22.5,\n",
        "        'NE': 45,\n",
        "        'ENE': 67.5,\n",
        "        'E': 90,\n",
        "        'ESE': 112.5,\n",
        "        'SE': 135,\n",
        "        'SSE': 157.5,\n",
        "        'S': 180,\n",
        "        'SSW': 202.5,\n",
        "        'SW': 225,\n",
        "        'WSW': 247.5,\n",
        "        'W': 270,\n",
        "        'WNW': 292.5,\n",
        "        'NW': 315,\n",
        "        'NNW': 337.5\n",
        "}\n",
        "\n",
        "# Cambiamos los valores categóricos por sus respectivos ángulos\n",
        "df['WindDir3pm'] = df['WindDir3pm'].map(direction_angles)\n",
        "df['WindDir9am'] = df['WindDir9am'].map(direction_angles)\n",
        "df['WindGustDir'] = df['WindGustDir'].map(direction_angles)\n",
        "\n",
        "# Creamos las columnas con las projecciones x e y para los distintos vientos.\n",
        "df[['WindDir3pm_x', 'WindDir3pm_y']] = df['WindDir3pm'].apply(\n",
        "    lambda angle: pd.Series(angle_to_xy(angle))\n",
        ")\n",
        "\n",
        "df[['WindDir9am_x', 'WindDir9am_y']] = df['WindDir9am'].apply(\n",
        "    lambda angle: pd.Series(angle_to_xy(angle))\n",
        ")\n",
        "\n",
        "df[['WindGustDir_x', 'WindGustDir_y']] = df['WindGustDir'].apply(\n",
        "    lambda angle: pd.Series(angle_to_xy(angle))\n",
        ")"
      ]
    },
    {
      "cell_type": "code",
      "execution_count": 11,
      "metadata": {
        "id": "0tguaPok7T-2"
      },
      "outputs": [],
      "source": [
        "df.drop(columns=['WindDir3pm', 'WindDir9am', 'WindGustDir'], inplace=True)"
      ]
    },
    {
      "cell_type": "markdown",
      "metadata": {
        "id": "N6Oa_hXz80QQ"
      },
      "source": [
        "\n",
        "### Columnas categóricas Yes/No\n",
        "\n",
        "Se remplazan por valores 1 y 0 "
      ]
    },
    {
      "cell_type": "code",
      "execution_count": 12,
      "metadata": {
        "id": "AdLyjIPU86IV"
      },
      "outputs": [],
      "source": [
        "df['RainToday'] = df['RainToday'].map({'Yes': 1, 'No': 0})\n",
        "df['RainTomorrow'] = df['RainTomorrow'].map({'Yes': 1, 'No': 0})"
      ]
    },
    {
      "cell_type": "code",
      "execution_count": 13,
      "metadata": {},
      "outputs": [
        {
          "data": {
            "text/html": [
              "<div>\n",
              "<style scoped>\n",
              "    .dataframe tbody tr th:only-of-type {\n",
              "        vertical-align: middle;\n",
              "    }\n",
              "\n",
              "    .dataframe tbody tr th {\n",
              "        vertical-align: top;\n",
              "    }\n",
              "\n",
              "    .dataframe thead th {\n",
              "        text-align: right;\n",
              "    }\n",
              "</style>\n",
              "<table border=\"1\" class=\"dataframe\">\n",
              "  <thead>\n",
              "    <tr style=\"text-align: right;\">\n",
              "      <th></th>\n",
              "      <th>Year</th>\n",
              "      <th>Season</th>\n",
              "      <th>Location</th>\n",
              "      <th>WindDir3pm_x</th>\n",
              "      <th>WindDir3pm_y</th>\n",
              "      <th>WindDir9am_x</th>\n",
              "      <th>WindDir9am_y</th>\n",
              "      <th>WindGustDir_x</th>\n",
              "      <th>WindGustDir_y</th>\n",
              "      <th>RainToday</th>\n",
              "      <th>RainTomorrow</th>\n",
              "    </tr>\n",
              "  </thead>\n",
              "  <tbody>\n",
              "    <tr>\n",
              "      <th>19995</th>\n",
              "      <td>2013</td>\n",
              "      <td>Verano</td>\n",
              "      <td>Canberra</td>\n",
              "      <td>0.000000</td>\n",
              "      <td>1.00000</td>\n",
              "      <td>1.224647e-16</td>\n",
              "      <td>-1.000000</td>\n",
              "      <td>NaN</td>\n",
              "      <td>NaN</td>\n",
              "      <td>1.0</td>\n",
              "      <td>0.0</td>\n",
              "    </tr>\n",
              "    <tr>\n",
              "      <th>25712</th>\n",
              "      <td>2012</td>\n",
              "      <td>Verano</td>\n",
              "      <td>Nuriootpa</td>\n",
              "      <td>-0.382683</td>\n",
              "      <td>-0.92388</td>\n",
              "      <td>9.238795e-01</td>\n",
              "      <td>-0.382683</td>\n",
              "      <td>0.707107</td>\n",
              "      <td>-0.707107</td>\n",
              "      <td>0.0</td>\n",
              "      <td>0.0</td>\n",
              "    </tr>\n",
              "  </tbody>\n",
              "</table>\n",
              "</div>"
            ],
            "text/plain": [
              "       Year  Season   Location  WindDir3pm_x  WindDir3pm_y  WindDir9am_x  \\\n",
              "19995  2013  Verano   Canberra      0.000000       1.00000  1.224647e-16   \n",
              "25712  2012  Verano  Nuriootpa     -0.382683      -0.92388  9.238795e-01   \n",
              "\n",
              "       WindDir9am_y  WindGustDir_x  WindGustDir_y  RainToday  RainTomorrow  \n",
              "19995     -1.000000            NaN            NaN        1.0           0.0  \n",
              "25712     -0.382683       0.707107      -0.707107        0.0           0.0  "
            ]
          },
          "execution_count": 13,
          "metadata": {},
          "output_type": "execute_result"
        }
      ],
      "source": [
        "df[['Year', 'Season', 'Location', 'WindDir3pm_x', 'WindDir3pm_y', 'WindDir9am_x', 'WindDir9am_y','WindGustDir_x', 'WindGustDir_y' ,  'RainToday', 'RainTomorrow']].sample(2)"
      ]
    },
    {
      "cell_type": "markdown",
      "metadata": {},
      "source": [
        "## Categórica Location\n",
        "\n",
        "Se crea un diccionario con los nombres de las ciudades y las coordenadas, para poder transformarlas."
      ]
    },
    {
      "cell_type": "code",
      "execution_count": 14,
      "metadata": {},
      "outputs": [],
      "source": [
        "chosen_cities_coordinates: Dict [str, Dict[str, float]] = {\n",
        "    \"Newcastle\": {\"latitude\": -32.9282, \"longitude\": 151.7817},\n",
        "    \"BadgerysCreek\": {\"latitude\": -33.8836, \"longitude\": 150.7386},\n",
        "    \"Penrith\": {\"latitude\": -33.7532, \"longitude\": 150.6880},\n",
        "    \"Perth\": {\"latitude\": -31.9505, \"longitude\": 115.8605},\n",
        "    \"Canberra\": {\"latitude\": -35.2809, \"longitude\": 149.1300},\n",
        "    \"Wollongong\": {\"latitude\": -34.4278, \"longitude\": 150.8931},\n",
        "    \"Nuriootpa\": {\"latitude\": -34.4658, \"longitude\": 138.9784},\n",
        "    \"NorahHead\": {\"latitude\": -33.2886, \"longitude\": 151.6154},\n",
        "    \"NorfolkIsland\": {\"latitude\": -29.0408, \"longitude\": 167.9547},\n",
        "    \"MountGinini\": {\"latitude\": -35.4622, \"longitude\": 148.9525}\n",
        "}\n"
      ]
    },
    {
      "cell_type": "code",
      "execution_count": 15,
      "metadata": {},
      "outputs": [
        {
          "data": {
            "text/html": [
              "<div>\n",
              "<style scoped>\n",
              "    .dataframe tbody tr th:only-of-type {\n",
              "        vertical-align: middle;\n",
              "    }\n",
              "\n",
              "    .dataframe tbody tr th {\n",
              "        vertical-align: top;\n",
              "    }\n",
              "\n",
              "    .dataframe thead th {\n",
              "        text-align: right;\n",
              "    }\n",
              "</style>\n",
              "<table border=\"1\" class=\"dataframe\">\n",
              "  <thead>\n",
              "    <tr style=\"text-align: right;\">\n",
              "      <th></th>\n",
              "      <th>Location</th>\n",
              "      <th>latitude</th>\n",
              "      <th>longitude</th>\n",
              "    </tr>\n",
              "  </thead>\n",
              "  <tbody>\n",
              "    <tr>\n",
              "      <th>0</th>\n",
              "      <td>Newcastle</td>\n",
              "      <td>-32.9282</td>\n",
              "      <td>151.7817</td>\n",
              "    </tr>\n",
              "    <tr>\n",
              "      <th>1</th>\n",
              "      <td>BadgerysCreek</td>\n",
              "      <td>-33.8836</td>\n",
              "      <td>150.7386</td>\n",
              "    </tr>\n",
              "    <tr>\n",
              "      <th>2</th>\n",
              "      <td>Penrith</td>\n",
              "      <td>-33.7532</td>\n",
              "      <td>150.6880</td>\n",
              "    </tr>\n",
              "    <tr>\n",
              "      <th>3</th>\n",
              "      <td>Perth</td>\n",
              "      <td>-31.9505</td>\n",
              "      <td>115.8605</td>\n",
              "    </tr>\n",
              "    <tr>\n",
              "      <th>4</th>\n",
              "      <td>Canberra</td>\n",
              "      <td>-35.2809</td>\n",
              "      <td>149.1300</td>\n",
              "    </tr>\n",
              "    <tr>\n",
              "      <th>5</th>\n",
              "      <td>Wollongong</td>\n",
              "      <td>-34.4278</td>\n",
              "      <td>150.8931</td>\n",
              "    </tr>\n",
              "    <tr>\n",
              "      <th>6</th>\n",
              "      <td>Nuriootpa</td>\n",
              "      <td>-34.4658</td>\n",
              "      <td>138.9784</td>\n",
              "    </tr>\n",
              "    <tr>\n",
              "      <th>7</th>\n",
              "      <td>NorahHead</td>\n",
              "      <td>-33.2886</td>\n",
              "      <td>151.6154</td>\n",
              "    </tr>\n",
              "    <tr>\n",
              "      <th>8</th>\n",
              "      <td>NorfolkIsland</td>\n",
              "      <td>-29.0408</td>\n",
              "      <td>167.9547</td>\n",
              "    </tr>\n",
              "    <tr>\n",
              "      <th>9</th>\n",
              "      <td>MountGinini</td>\n",
              "      <td>-35.4622</td>\n",
              "      <td>148.9525</td>\n",
              "    </tr>\n",
              "  </tbody>\n",
              "</table>\n",
              "</div>"
            ],
            "text/plain": [
              "        Location  latitude  longitude\n",
              "0      Newcastle  -32.9282   151.7817\n",
              "1  BadgerysCreek  -33.8836   150.7386\n",
              "2        Penrith  -33.7532   150.6880\n",
              "3          Perth  -31.9505   115.8605\n",
              "4       Canberra  -35.2809   149.1300\n",
              "5     Wollongong  -34.4278   150.8931\n",
              "6      Nuriootpa  -34.4658   138.9784\n",
              "7      NorahHead  -33.2886   151.6154\n",
              "8  NorfolkIsland  -29.0408   167.9547\n",
              "9    MountGinini  -35.4622   148.9525"
            ]
          },
          "execution_count": 15,
          "metadata": {},
          "output_type": "execute_result"
        }
      ],
      "source": [
        "coords_df: pd.DataFrame = pd.DataFrame.from_dict(chosen_cities_coordinates, orient='index') #creo dataset a partir del diccionario anterior\n",
        "coords_df.reset_index(inplace=True) #reseteo indices\n",
        "coords_df.rename(columns={'index':'Location'}, inplace=True) #renombro index a location\n",
        "coords_df\n"
      ]
    },
    {
      "cell_type": "code",
      "execution_count": 16,
      "metadata": {},
      "outputs": [],
      "source": [
        "df: pd.DataFrame = df.merge(coords_df, on='Location', how='left')\n",
        "df: pd.DataFrame = df.drop(columns=['Location'])"
      ]
    },
    {
      "cell_type": "markdown",
      "metadata": {
        "id": "A37M2V1Ws9ZL"
      },
      "source": [
        "\n",
        "## Division del conjunto"
      ]
    },
    {
      "cell_type": "code",
      "execution_count": 17,
      "metadata": {
        "id": "8qdx_7_sdql5"
      },
      "outputs": [],
      "source": [
        "X: pd.DataFrame = df.drop(columns='RainTomorrow')\n",
        "y: pd.DataFrame = df[['RainTomorrow']] #Variable a predecir"
      ]
    },
    {
      "cell_type": "markdown",
      "metadata": {
        "id": "G2KMmdIadql6"
      },
      "source": [
        "Separación test y train conforme a las convenciones del 80% para Train y 20% para test."
      ]
    },
    {
      "cell_type": "code",
      "execution_count": 18,
      "metadata": {
        "id": "aV_UKgVsdql7"
      },
      "outputs": [],
      "source": [
        "X_train, X_test, y_train, y_test = train_test_split(\n",
        "    X,\n",
        "    y,\n",
        "    test_size=0.2,\n",
        "    random_state=42\n",
        ")"
      ]
    },
    {
      "cell_type": "markdown",
      "metadata": {
        "id": "Bh4mcZ_H-UiG"
      },
      "source": [
        "\n",
        "## Manejo de variables categóricas\n",
        "Usaremos one-hot encoding para el manejo de las variables categóricas *Year*, *Season* y *Location*."
      ]
    },
    {
      "cell_type": "code",
      "execution_count": 19,
      "metadata": {
        "id": "UiY5w4RiC10l"
      },
      "outputs": [],
      "source": [
        "columnas_categoricas: List[str] = ['Year', 'Season']\n",
        "\n",
        "encoder: OneHotEncoder = OneHotEncoder(handle_unknown='ignore', sparse_output = False).set_output(transform='pandas')"
      ]
    },
    {
      "cell_type": "code",
      "execution_count": 20,
      "metadata": {
        "id": "xB2cfo1wK9oL"
      },
      "outputs": [],
      "source": [
        "X_train_enc = encoder.fit_transform(X_train[columnas_categoricas])\n",
        "X_test_enc = encoder.transform(X_test[columnas_categoricas])"
      ]
    },
    {
      "cell_type": "code",
      "execution_count": 21,
      "metadata": {
        "id": "dL4AKY1sLIq6"
      },
      "outputs": [],
      "source": [
        "X_train = pd.concat([X_train, X_train_enc], axis=1)\n",
        "X_test = pd.concat([X_test, X_test_enc], axis=1)"
      ]
    },
    {
      "cell_type": "code",
      "execution_count": 22,
      "metadata": {
        "id": "oiWuAv2jLo2S"
      },
      "outputs": [],
      "source": [
        "X_train.drop(columns=columnas_categoricas, inplace=True)\n",
        "X_test.drop(columns=columnas_categoricas, inplace=True)"
      ]
    },
    {
      "cell_type": "code",
      "execution_count": 23,
      "metadata": {
        "colab": {
          "base_uri": "https://localhost:8080/",
          "height": 444
        },
        "id": "GUWCXsLcLurx",
        "outputId": "80a9b0cd-bd66-45cd-f37b-66dfa22a0af9"
      },
      "outputs": [
        {
          "name": "stdout",
          "output_type": "stream",
          "text": [
            "<class 'pandas.core.frame.DataFrame'>\n",
            "Index: 24654 entries, 2194 to 23654\n",
            "Data columns (total 40 columns):\n",
            " #   Column            Non-Null Count  Dtype  \n",
            "---  ------            --------------  -----  \n",
            " 0   MinTemp           24206 non-null  float64\n",
            " 1   MaxTemp           24363 non-null  float64\n",
            " 2   Rainfall          24203 non-null  float64\n",
            " 3   Evaporation       8560 non-null   float64\n",
            " 4   Sunshine          8124 non-null   float64\n",
            " 5   WindGustSpeed     21457 non-null  float64\n",
            " 6   WindSpeed9am      23961 non-null  float64\n",
            " 7   WindSpeed3pm      23442 non-null  float64\n",
            " 8   Humidity9am       23876 non-null  float64\n",
            " 9   Humidity3pm       23487 non-null  float64\n",
            " 10  Pressure9am       17026 non-null  float64\n",
            " 11  Pressure3pm       17062 non-null  float64\n",
            " 12  Cloud9am          12440 non-null  float64\n",
            " 13  Cloud3pm          11253 non-null  float64\n",
            " 14  Temp9am           23997 non-null  float64\n",
            " 15  Temp3pm           23570 non-null  float64\n",
            " 16  RainToday         24203 non-null  float64\n",
            " 17  WindDir3pm_x      23032 non-null  float64\n",
            " 18  WindDir3pm_y      23032 non-null  float64\n",
            " 19  WindDir9am_x      21660 non-null  float64\n",
            " 20  WindDir9am_y      21660 non-null  float64\n",
            " 21  WindGustDir_x     21443 non-null  float64\n",
            " 22  WindGustDir_y     21443 non-null  float64\n",
            " 23  latitude          24654 non-null  float64\n",
            " 24  longitude         24654 non-null  float64\n",
            " 25  Year_2007         24654 non-null  float64\n",
            " 26  Year_2008         24654 non-null  float64\n",
            " 27  Year_2009         24654 non-null  float64\n",
            " 28  Year_2010         24654 non-null  float64\n",
            " 29  Year_2011         24654 non-null  float64\n",
            " 30  Year_2012         24654 non-null  float64\n",
            " 31  Year_2013         24654 non-null  float64\n",
            " 32  Year_2014         24654 non-null  float64\n",
            " 33  Year_2015         24654 non-null  float64\n",
            " 34  Year_2016         24654 non-null  float64\n",
            " 35  Year_2017         24654 non-null  float64\n",
            " 36  Season_Invierno   24654 non-null  float64\n",
            " 37  Season_Otoño      24654 non-null  float64\n",
            " 38  Season_Primavera  24654 non-null  float64\n",
            " 39  Season_Verano     24654 non-null  float64\n",
            "dtypes: float64(40)\n",
            "memory usage: 7.7 MB\n"
          ]
        }
      ],
      "source": [
        "X_train.info()"
      ]
    },
    {
      "cell_type": "markdown",
      "metadata": {
        "id": "DE9RylgKdql9"
      },
      "source": [
        "\n",
        "## Manejo de valores faltantes\n",
        "\n",
        "Se utiliza KNN Imputer para imputar los valores faltantes."
      ]
    },
    {
      "cell_type": "code",
      "execution_count": 24,
      "metadata": {
        "colab": {
          "base_uri": "https://localhost:8080/"
        },
        "id": "v01itsrzdqmC",
        "outputId": "47e1f312-c06c-464e-9fbc-2d88fd3a994b"
      },
      "outputs": [
        {
          "data": {
            "text/plain": [
              "MinTemp               448\n",
              "MaxTemp               291\n",
              "Rainfall              451\n",
              "Evaporation         16094\n",
              "Sunshine            16530\n",
              "WindGustSpeed        3197\n",
              "WindSpeed9am          693\n",
              "WindSpeed3pm         1212\n",
              "Humidity9am           778\n",
              "Humidity3pm          1167\n",
              "Pressure9am          7628\n",
              "Pressure3pm          7592\n",
              "Cloud9am            12214\n",
              "Cloud3pm            13401\n",
              "Temp9am               657\n",
              "Temp3pm              1084\n",
              "RainToday             451\n",
              "WindDir3pm_x         1622\n",
              "WindDir3pm_y         1622\n",
              "WindDir9am_x         2994\n",
              "WindDir9am_y         2994\n",
              "WindGustDir_x        3211\n",
              "WindGustDir_y        3211\n",
              "latitude                0\n",
              "longitude               0\n",
              "Year_2007               0\n",
              "Year_2008               0\n",
              "Year_2009               0\n",
              "Year_2010               0\n",
              "Year_2011               0\n",
              "Year_2012               0\n",
              "Year_2013               0\n",
              "Year_2014               0\n",
              "Year_2015               0\n",
              "Year_2016               0\n",
              "Year_2017               0\n",
              "Season_Invierno         0\n",
              "Season_Otoño            0\n",
              "Season_Primavera        0\n",
              "Season_Verano           0\n",
              "dtype: int64"
            ]
          },
          "execution_count": 24,
          "metadata": {},
          "output_type": "execute_result"
        }
      ],
      "source": [
        "X_train.isna().sum()"
      ]
    },
    {
      "cell_type": "markdown",
      "metadata": {},
      "source": [
        "Observamos que el dataset y_train tiene 24654 datos."
      ]
    },
    {
      "cell_type": "code",
      "execution_count": 25,
      "metadata": {},
      "outputs": [
        {
          "name": "stdout",
          "output_type": "stream",
          "text": [
            "<class 'pandas.core.frame.DataFrame'>\n",
            "Index: 24654 entries, 2194 to 23654\n",
            "Data columns (total 1 columns):\n",
            " #   Column        Non-Null Count  Dtype  \n",
            "---  ------        --------------  -----  \n",
            " 0   RainTomorrow  24203 non-null  float64\n",
            "dtypes: float64(1)\n",
            "memory usage: 385.2 KB\n"
          ]
        }
      ],
      "source": [
        "y_train.info()"
      ]
    },
    {
      "cell_type": "markdown",
      "metadata": {},
      "source": [
        "Tenemos 451 valores faltantes. Representan aprox. 1.8% del dataset. Por eso decidimos dropearlos."
      ]
    },
    {
      "cell_type": "code",
      "execution_count": 26,
      "metadata": {},
      "outputs": [
        {
          "data": {
            "text/plain": [
              "Index(['RainTomorrow'], dtype='object')"
            ]
          },
          "execution_count": 26,
          "metadata": {},
          "output_type": "execute_result"
        }
      ],
      "source": [
        "y_train.columns"
      ]
    },
    {
      "cell_type": "code",
      "execution_count": 27,
      "metadata": {},
      "outputs": [
        {
          "data": {
            "text/plain": [
              "RainTomorrow    451\n",
              "dtype: int64"
            ]
          },
          "execution_count": 27,
          "metadata": {},
          "output_type": "execute_result"
        }
      ],
      "source": [
        "y_train.isna().sum()"
      ]
    },
    {
      "cell_type": "code",
      "execution_count": 28,
      "metadata": {},
      "outputs": [],
      "source": [
        "knn = KNNImputer(n_neighbors=5)\n",
        "\n",
        "X_train = pd.DataFrame(knn.fit_transform(X_train), columns=X_train.columns)\n",
        "X_test = pd.DataFrame(knn.transform(X_test), columns=X_test.columns)"
      ]
    },
    {
      "cell_type": "markdown",
      "metadata": {
        "id": "mKN-wqE9dqmE"
      },
      "source": [
        "## Analisis de balance"
      ]
    },
    {
      "cell_type": "code",
      "execution_count": 30,
      "metadata": {},
      "outputs": [
        {
          "data": {
            "text/plain": [
              "RainTomorrow\n",
              "0.0             18561\n",
              "1.0              5642\n",
              "Name: count, dtype: int64"
            ]
          },
          "execution_count": 30,
          "metadata": {},
          "output_type": "execute_result"
        }
      ],
      "source": [
        "y_train.value_counts()"
      ]
    },
    {
      "cell_type": "code",
      "execution_count": 31,
      "metadata": {},
      "outputs": [
        {
          "ename": "TypeError",
          "evalue": "only length-1 arrays can be converted to Python scalars",
          "output_type": "error",
          "traceback": [
            "\u001b[0;31m---------------------------------------------------------------------------\u001b[0m",
            "\u001b[0;31mTypeError\u001b[0m                                 Traceback (most recent call last)",
            "Cell \u001b[0;32mIn[31], line 1\u001b[0m\n\u001b[0;32m----> 1\u001b[0m \u001b[43mplt\u001b[49m\u001b[38;5;241;43m.\u001b[39;49m\u001b[43mbar\u001b[49m\u001b[43m(\u001b[49m\u001b[43my_train\u001b[49m\u001b[38;5;241;43m.\u001b[39;49m\u001b[43mindex\u001b[49m\u001b[43m,\u001b[49m\u001b[43m \u001b[49m\u001b[43my_train\u001b[49m\u001b[38;5;241;43m.\u001b[39;49m\u001b[43mvalues\u001b[49m\u001b[43m)\u001b[49m\n\u001b[1;32m      2\u001b[0m plt\u001b[38;5;241m.\u001b[39mtitle(\u001b[38;5;124m'\u001b[39m\u001b[38;5;124mBalanceo de variable respuesta\u001b[39m\u001b[38;5;124m'\u001b[39m)\n\u001b[1;32m      3\u001b[0m plt\u001b[38;5;241m.\u001b[39mxtitle(\u001b[38;5;124m'\u001b[39m\u001b[38;5;124mLlueve mañana\u001b[39m\u001b[38;5;124m'\u001b[39m)\n",
            "File \u001b[0;32m~/Documents/TUIA/AA/.venv_ML/lib64/python3.12/site-packages/matplotlib/pyplot.py:2956\u001b[0m, in \u001b[0;36mbar\u001b[0;34m(x, height, width, bottom, align, data, **kwargs)\u001b[0m\n\u001b[1;32m   2945\u001b[0m \u001b[38;5;129m@_copy_docstring_and_deprecators\u001b[39m(Axes\u001b[38;5;241m.\u001b[39mbar)\n\u001b[1;32m   2946\u001b[0m \u001b[38;5;28;01mdef\u001b[39;00m \u001b[38;5;21mbar\u001b[39m(\n\u001b[1;32m   2947\u001b[0m     x: \u001b[38;5;28mfloat\u001b[39m \u001b[38;5;241m|\u001b[39m ArrayLike,\n\u001b[0;32m   (...)\u001b[0m\n\u001b[1;32m   2954\u001b[0m     \u001b[38;5;241m*\u001b[39m\u001b[38;5;241m*\u001b[39mkwargs,\n\u001b[1;32m   2955\u001b[0m ) \u001b[38;5;241m-\u001b[39m\u001b[38;5;241m>\u001b[39m BarContainer:\n\u001b[0;32m-> 2956\u001b[0m     \u001b[38;5;28;01mreturn\u001b[39;00m \u001b[43mgca\u001b[49m\u001b[43m(\u001b[49m\u001b[43m)\u001b[49m\u001b[38;5;241;43m.\u001b[39;49m\u001b[43mbar\u001b[49m\u001b[43m(\u001b[49m\n\u001b[1;32m   2957\u001b[0m \u001b[43m        \u001b[49m\u001b[43mx\u001b[49m\u001b[43m,\u001b[49m\n\u001b[1;32m   2958\u001b[0m \u001b[43m        \u001b[49m\u001b[43mheight\u001b[49m\u001b[43m,\u001b[49m\n\u001b[1;32m   2959\u001b[0m \u001b[43m        \u001b[49m\u001b[43mwidth\u001b[49m\u001b[38;5;241;43m=\u001b[39;49m\u001b[43mwidth\u001b[49m\u001b[43m,\u001b[49m\n\u001b[1;32m   2960\u001b[0m \u001b[43m        \u001b[49m\u001b[43mbottom\u001b[49m\u001b[38;5;241;43m=\u001b[39;49m\u001b[43mbottom\u001b[49m\u001b[43m,\u001b[49m\n\u001b[1;32m   2961\u001b[0m \u001b[43m        \u001b[49m\u001b[43malign\u001b[49m\u001b[38;5;241;43m=\u001b[39;49m\u001b[43malign\u001b[49m\u001b[43m,\u001b[49m\n\u001b[1;32m   2962\u001b[0m \u001b[43m        \u001b[49m\u001b[38;5;241;43m*\u001b[39;49m\u001b[38;5;241;43m*\u001b[39;49m\u001b[43m(\u001b[49m\u001b[43m{\u001b[49m\u001b[38;5;124;43m\"\u001b[39;49m\u001b[38;5;124;43mdata\u001b[39;49m\u001b[38;5;124;43m\"\u001b[39;49m\u001b[43m:\u001b[49m\u001b[43m \u001b[49m\u001b[43mdata\u001b[49m\u001b[43m}\u001b[49m\u001b[43m \u001b[49m\u001b[38;5;28;43;01mif\u001b[39;49;00m\u001b[43m \u001b[49m\u001b[43mdata\u001b[49m\u001b[43m \u001b[49m\u001b[38;5;129;43;01mis\u001b[39;49;00m\u001b[43m \u001b[49m\u001b[38;5;129;43;01mnot\u001b[39;49;00m\u001b[43m \u001b[49m\u001b[38;5;28;43;01mNone\u001b[39;49;00m\u001b[43m \u001b[49m\u001b[38;5;28;43;01melse\u001b[39;49;00m\u001b[43m \u001b[49m\u001b[43m{\u001b[49m\u001b[43m}\u001b[49m\u001b[43m)\u001b[49m\u001b[43m,\u001b[49m\n\u001b[1;32m   2963\u001b[0m \u001b[43m        \u001b[49m\u001b[38;5;241;43m*\u001b[39;49m\u001b[38;5;241;43m*\u001b[39;49m\u001b[43mkwargs\u001b[49m\u001b[43m,\u001b[49m\n\u001b[1;32m   2964\u001b[0m \u001b[43m    \u001b[49m\u001b[43m)\u001b[49m\n",
            "File \u001b[0;32m~/Documents/TUIA/AA/.venv_ML/lib64/python3.12/site-packages/matplotlib/__init__.py:1473\u001b[0m, in \u001b[0;36m_preprocess_data.<locals>.inner\u001b[0;34m(ax, data, *args, **kwargs)\u001b[0m\n\u001b[1;32m   1470\u001b[0m \u001b[38;5;129m@functools\u001b[39m\u001b[38;5;241m.\u001b[39mwraps(func)\n\u001b[1;32m   1471\u001b[0m \u001b[38;5;28;01mdef\u001b[39;00m \u001b[38;5;21minner\u001b[39m(ax, \u001b[38;5;241m*\u001b[39margs, data\u001b[38;5;241m=\u001b[39m\u001b[38;5;28;01mNone\u001b[39;00m, \u001b[38;5;241m*\u001b[39m\u001b[38;5;241m*\u001b[39mkwargs):\n\u001b[1;32m   1472\u001b[0m     \u001b[38;5;28;01mif\u001b[39;00m data \u001b[38;5;129;01mis\u001b[39;00m \u001b[38;5;28;01mNone\u001b[39;00m:\n\u001b[0;32m-> 1473\u001b[0m         \u001b[38;5;28;01mreturn\u001b[39;00m \u001b[43mfunc\u001b[49m\u001b[43m(\u001b[49m\n\u001b[1;32m   1474\u001b[0m \u001b[43m            \u001b[49m\u001b[43max\u001b[49m\u001b[43m,\u001b[49m\n\u001b[1;32m   1475\u001b[0m \u001b[43m            \u001b[49m\u001b[38;5;241;43m*\u001b[39;49m\u001b[38;5;28;43mmap\u001b[39;49m\u001b[43m(\u001b[49m\u001b[43msanitize_sequence\u001b[49m\u001b[43m,\u001b[49m\u001b[43m \u001b[49m\u001b[43margs\u001b[49m\u001b[43m)\u001b[49m\u001b[43m,\u001b[49m\n\u001b[1;32m   1476\u001b[0m \u001b[43m            \u001b[49m\u001b[38;5;241;43m*\u001b[39;49m\u001b[38;5;241;43m*\u001b[39;49m\u001b[43m{\u001b[49m\u001b[43mk\u001b[49m\u001b[43m:\u001b[49m\u001b[43m \u001b[49m\u001b[43msanitize_sequence\u001b[49m\u001b[43m(\u001b[49m\u001b[43mv\u001b[49m\u001b[43m)\u001b[49m\u001b[43m \u001b[49m\u001b[38;5;28;43;01mfor\u001b[39;49;00m\u001b[43m \u001b[49m\u001b[43mk\u001b[49m\u001b[43m,\u001b[49m\u001b[43m \u001b[49m\u001b[43mv\u001b[49m\u001b[43m \u001b[49m\u001b[38;5;129;43;01min\u001b[39;49;00m\u001b[43m \u001b[49m\u001b[43mkwargs\u001b[49m\u001b[38;5;241;43m.\u001b[39;49m\u001b[43mitems\u001b[49m\u001b[43m(\u001b[49m\u001b[43m)\u001b[49m\u001b[43m}\u001b[49m\u001b[43m)\u001b[49m\n\u001b[1;32m   1478\u001b[0m     bound \u001b[38;5;241m=\u001b[39m new_sig\u001b[38;5;241m.\u001b[39mbind(ax, \u001b[38;5;241m*\u001b[39margs, \u001b[38;5;241m*\u001b[39m\u001b[38;5;241m*\u001b[39mkwargs)\n\u001b[1;32m   1479\u001b[0m     auto_label \u001b[38;5;241m=\u001b[39m (bound\u001b[38;5;241m.\u001b[39marguments\u001b[38;5;241m.\u001b[39mget(label_namer)\n\u001b[1;32m   1480\u001b[0m                   \u001b[38;5;129;01mor\u001b[39;00m bound\u001b[38;5;241m.\u001b[39mkwargs\u001b[38;5;241m.\u001b[39mget(label_namer))\n",
            "File \u001b[0;32m~/Documents/TUIA/AA/.venv_ML/lib64/python3.12/site-packages/matplotlib/axes/_axes.py:2583\u001b[0m, in \u001b[0;36mAxes.bar\u001b[0;34m(self, x, height, width, bottom, align, **kwargs)\u001b[0m\n\u001b[1;32m   2580\u001b[0m args \u001b[38;5;241m=\u001b[39m \u001b[38;5;28mzip\u001b[39m(left, bottom, width, height, color, edgecolor, linewidth,\n\u001b[1;32m   2581\u001b[0m            hatch, patch_labels)\n\u001b[1;32m   2582\u001b[0m \u001b[38;5;28;01mfor\u001b[39;00m l, b, w, h, c, e, lw, htch, lbl \u001b[38;5;129;01min\u001b[39;00m args:\n\u001b[0;32m-> 2583\u001b[0m     r \u001b[38;5;241m=\u001b[39m \u001b[43mmpatches\u001b[49m\u001b[38;5;241;43m.\u001b[39;49m\u001b[43mRectangle\u001b[49m\u001b[43m(\u001b[49m\n\u001b[1;32m   2584\u001b[0m \u001b[43m        \u001b[49m\u001b[43mxy\u001b[49m\u001b[38;5;241;43m=\u001b[39;49m\u001b[43m(\u001b[49m\u001b[43ml\u001b[49m\u001b[43m,\u001b[49m\u001b[43m \u001b[49m\u001b[43mb\u001b[49m\u001b[43m)\u001b[49m\u001b[43m,\u001b[49m\u001b[43m \u001b[49m\u001b[43mwidth\u001b[49m\u001b[38;5;241;43m=\u001b[39;49m\u001b[43mw\u001b[49m\u001b[43m,\u001b[49m\u001b[43m \u001b[49m\u001b[43mheight\u001b[49m\u001b[38;5;241;43m=\u001b[39;49m\u001b[43mh\u001b[49m\u001b[43m,\u001b[49m\n\u001b[1;32m   2585\u001b[0m \u001b[43m        \u001b[49m\u001b[43mfacecolor\u001b[49m\u001b[38;5;241;43m=\u001b[39;49m\u001b[43mc\u001b[49m\u001b[43m,\u001b[49m\n\u001b[1;32m   2586\u001b[0m \u001b[43m        \u001b[49m\u001b[43medgecolor\u001b[49m\u001b[38;5;241;43m=\u001b[39;49m\u001b[43me\u001b[49m\u001b[43m,\u001b[49m\n\u001b[1;32m   2587\u001b[0m \u001b[43m        \u001b[49m\u001b[43mlinewidth\u001b[49m\u001b[38;5;241;43m=\u001b[39;49m\u001b[43mlw\u001b[49m\u001b[43m,\u001b[49m\n\u001b[1;32m   2588\u001b[0m \u001b[43m        \u001b[49m\u001b[43mlabel\u001b[49m\u001b[38;5;241;43m=\u001b[39;49m\u001b[43mlbl\u001b[49m\u001b[43m,\u001b[49m\n\u001b[1;32m   2589\u001b[0m \u001b[43m        \u001b[49m\u001b[43mhatch\u001b[49m\u001b[38;5;241;43m=\u001b[39;49m\u001b[43mhtch\u001b[49m\u001b[43m,\u001b[49m\n\u001b[1;32m   2590\u001b[0m \u001b[43m        \u001b[49m\u001b[43m)\u001b[49m\n\u001b[1;32m   2591\u001b[0m     r\u001b[38;5;241m.\u001b[39m_internal_update(kwargs)\n\u001b[1;32m   2592\u001b[0m     r\u001b[38;5;241m.\u001b[39mget_path()\u001b[38;5;241m.\u001b[39m_interpolation_steps \u001b[38;5;241m=\u001b[39m \u001b[38;5;241m100\u001b[39m\n",
            "File \u001b[0;32m~/Documents/TUIA/AA/.venv_ML/lib64/python3.12/site-packages/matplotlib/patches.py:762\u001b[0m, in \u001b[0;36mRectangle.__init__\u001b[0;34m(self, xy, width, height, angle, rotation_point, **kwargs)\u001b[0m\n\u001b[1;32m    738\u001b[0m \u001b[38;5;129m@_docstring\u001b[39m\u001b[38;5;241m.\u001b[39mdedent_interpd\n\u001b[1;32m    739\u001b[0m \u001b[38;5;28;01mdef\u001b[39;00m \u001b[38;5;21m__init__\u001b[39m(\u001b[38;5;28mself\u001b[39m, xy, width, height, \u001b[38;5;241m*\u001b[39m,\n\u001b[1;32m    740\u001b[0m              angle\u001b[38;5;241m=\u001b[39m\u001b[38;5;241m0.0\u001b[39m, rotation_point\u001b[38;5;241m=\u001b[39m\u001b[38;5;124m'\u001b[39m\u001b[38;5;124mxy\u001b[39m\u001b[38;5;124m'\u001b[39m, \u001b[38;5;241m*\u001b[39m\u001b[38;5;241m*\u001b[39mkwargs):\n\u001b[1;32m    741\u001b[0m \u001b[38;5;250m    \u001b[39m\u001b[38;5;124;03m\"\"\"\u001b[39;00m\n\u001b[1;32m    742\u001b[0m \u001b[38;5;124;03m    Parameters\u001b[39;00m\n\u001b[1;32m    743\u001b[0m \u001b[38;5;124;03m    ----------\u001b[39;00m\n\u001b[0;32m   (...)\u001b[0m\n\u001b[1;32m    760\u001b[0m \u001b[38;5;124;03m        %(Patch:kwdoc)s\u001b[39;00m\n\u001b[1;32m    761\u001b[0m \u001b[38;5;124;03m    \"\"\"\u001b[39;00m\n\u001b[0;32m--> 762\u001b[0m     \u001b[38;5;28;43msuper\u001b[39;49m\u001b[43m(\u001b[49m\u001b[43m)\u001b[49m\u001b[38;5;241;43m.\u001b[39;49m\u001b[38;5;21;43m__init__\u001b[39;49m\u001b[43m(\u001b[49m\u001b[38;5;241;43m*\u001b[39;49m\u001b[38;5;241;43m*\u001b[39;49m\u001b[43mkwargs\u001b[49m\u001b[43m)\u001b[49m\n\u001b[1;32m    763\u001b[0m     \u001b[38;5;28mself\u001b[39m\u001b[38;5;241m.\u001b[39m_x0 \u001b[38;5;241m=\u001b[39m xy[\u001b[38;5;241m0\u001b[39m]\n\u001b[1;32m    764\u001b[0m     \u001b[38;5;28mself\u001b[39m\u001b[38;5;241m.\u001b[39m_y0 \u001b[38;5;241m=\u001b[39m xy[\u001b[38;5;241m1\u001b[39m]\n",
            "File \u001b[0;32m~/Documents/TUIA/AA/.venv_ML/lib64/python3.12/site-packages/matplotlib/patches.py:91\u001b[0m, in \u001b[0;36mPatch.__init__\u001b[0;34m(self, edgecolor, facecolor, color, linewidth, linestyle, antialiased, hatch, fill, capstyle, joinstyle, **kwargs)\u001b[0m\n\u001b[1;32m     88\u001b[0m \u001b[38;5;28mself\u001b[39m\u001b[38;5;241m.\u001b[39m_dash_pattern \u001b[38;5;241m=\u001b[39m (\u001b[38;5;241m0\u001b[39m, \u001b[38;5;28;01mNone\u001b[39;00m)  \u001b[38;5;66;03m# offset, dash (scaled by linewidth)\u001b[39;00m\n\u001b[1;32m     90\u001b[0m \u001b[38;5;28mself\u001b[39m\u001b[38;5;241m.\u001b[39mset_linestyle(linestyle)\n\u001b[0;32m---> 91\u001b[0m \u001b[38;5;28;43mself\u001b[39;49m\u001b[38;5;241;43m.\u001b[39;49m\u001b[43mset_linewidth\u001b[49m\u001b[43m(\u001b[49m\u001b[43mlinewidth\u001b[49m\u001b[43m)\u001b[49m\n\u001b[1;32m     92\u001b[0m \u001b[38;5;28mself\u001b[39m\u001b[38;5;241m.\u001b[39mset_antialiased(antialiased)\n\u001b[1;32m     93\u001b[0m \u001b[38;5;28mself\u001b[39m\u001b[38;5;241m.\u001b[39mset_hatch(hatch)\n",
            "File \u001b[0;32m~/Documents/TUIA/AA/.venv_ML/lib64/python3.12/site-packages/matplotlib/patches.py:438\u001b[0m, in \u001b[0;36mPatch.set_linewidth\u001b[0;34m(self, w)\u001b[0m\n\u001b[1;32m    436\u001b[0m \u001b[38;5;28;01mif\u001b[39;00m w \u001b[38;5;129;01mis\u001b[39;00m \u001b[38;5;28;01mNone\u001b[39;00m:\n\u001b[1;32m    437\u001b[0m     w \u001b[38;5;241m=\u001b[39m mpl\u001b[38;5;241m.\u001b[39mrcParams[\u001b[38;5;124m'\u001b[39m\u001b[38;5;124mpatch.linewidth\u001b[39m\u001b[38;5;124m'\u001b[39m]\n\u001b[0;32m--> 438\u001b[0m \u001b[38;5;28mself\u001b[39m\u001b[38;5;241m.\u001b[39m_linewidth \u001b[38;5;241m=\u001b[39m \u001b[38;5;28;43mfloat\u001b[39;49m\u001b[43m(\u001b[49m\u001b[43mw\u001b[49m\u001b[43m)\u001b[49m\n\u001b[1;32m    439\u001b[0m \u001b[38;5;28mself\u001b[39m\u001b[38;5;241m.\u001b[39m_dash_pattern \u001b[38;5;241m=\u001b[39m mlines\u001b[38;5;241m.\u001b[39m_scale_dashes(\n\u001b[1;32m    440\u001b[0m     \u001b[38;5;241m*\u001b[39m\u001b[38;5;28mself\u001b[39m\u001b[38;5;241m.\u001b[39m_unscaled_dash_pattern, w)\n\u001b[1;32m    441\u001b[0m \u001b[38;5;28mself\u001b[39m\u001b[38;5;241m.\u001b[39mstale \u001b[38;5;241m=\u001b[39m \u001b[38;5;28;01mTrue\u001b[39;00m\n",
            "\u001b[0;31mTypeError\u001b[0m: only length-1 arrays can be converted to Python scalars"
          ]
        },
        {
          "data": {
            "image/png": "[encoded data removed]",
            "text/plain": [
              "<Figure size 640x480 with 1 Axes>"
            ]
          },
          "metadata": {},
          "output_type": "display_data"
        }
      ],
      "source": [
        "plt.bar(y_train.index, y_train.values)\n",
        "plt.title('Balanceo de variable respuesta')\n",
        "plt.xtitle('Llueve mañana')"
      ]
    },
    {
      "cell_type": "code",
      "execution_count": 33,
      "metadata": {},
      "outputs": [
        {
          "ename": "ValueError",
          "evalue": "Unknown label type: continuous. Maybe you are trying to fit a classifier, which expects discrete classes on a regression target with continuous values.",
          "output_type": "error",
          "traceback": [
            "\u001b[0;31m---------------------------------------------------------------------------\u001b[0m",
            "\u001b[0;31mValueError\u001b[0m                                Traceback (most recent call last)",
            "Cell \u001b[0;32mIn[33], line 2\u001b[0m\n\u001b[1;32m      1\u001b[0m oversampler: RandomOverSampler \u001b[38;5;241m=\u001b[39m RandomOverSampler(random_state\u001b[38;5;241m=\u001b[39m\u001b[38;5;241m42\u001b[39m)\n\u001b[0;32m----> 2\u001b[0m X_resampled, y_resampled \u001b[38;5;241m=\u001b[39m \u001b[43moversampler\u001b[49m\u001b[38;5;241;43m.\u001b[39;49m\u001b[43mfit_resample\u001b[49m\u001b[43m(\u001b[49m\u001b[43mX_train\u001b[49m\u001b[43m,\u001b[49m\u001b[43m \u001b[49m\u001b[43my_train\u001b[49m\u001b[43m)\u001b[49m\n",
            "File \u001b[0;32m~/Documents/TUIA/AA/.venv_ML/lib64/python3.12/site-packages/imblearn/base.py:208\u001b[0m, in \u001b[0;36mBaseSampler.fit_resample\u001b[0;34m(self, X, y)\u001b[0m\n\u001b[1;32m    187\u001b[0m \u001b[38;5;250m\u001b[39m\u001b[38;5;124;03m\"\"\"Resample the dataset.\u001b[39;00m\n\u001b[1;32m    188\u001b[0m \n\u001b[1;32m    189\u001b[0m \u001b[38;5;124;03mParameters\u001b[39;00m\n\u001b[0;32m   (...)\u001b[0m\n\u001b[1;32m    205\u001b[0m \u001b[38;5;124;03m    The corresponding label of `X_resampled`.\u001b[39;00m\n\u001b[1;32m    206\u001b[0m \u001b[38;5;124;03m\"\"\"\u001b[39;00m\n\u001b[1;32m    207\u001b[0m \u001b[38;5;28mself\u001b[39m\u001b[38;5;241m.\u001b[39m_validate_params()\n\u001b[0;32m--> 208\u001b[0m \u001b[38;5;28;01mreturn\u001b[39;00m \u001b[38;5;28;43msuper\u001b[39;49m\u001b[43m(\u001b[49m\u001b[43m)\u001b[49m\u001b[38;5;241;43m.\u001b[39;49m\u001b[43mfit_resample\u001b[49m\u001b[43m(\u001b[49m\u001b[43mX\u001b[49m\u001b[43m,\u001b[49m\u001b[43m \u001b[49m\u001b[43my\u001b[49m\u001b[43m)\u001b[49m\n",
            "File \u001b[0;32m~/Documents/TUIA/AA/.venv_ML/lib64/python3.12/site-packages/imblearn/base.py:104\u001b[0m, in \u001b[0;36mSamplerMixin.fit_resample\u001b[0;34m(self, X, y)\u001b[0m\n\u001b[1;32m     83\u001b[0m \u001b[38;5;28;01mdef\u001b[39;00m \u001b[38;5;21mfit_resample\u001b[39m(\u001b[38;5;28mself\u001b[39m, X, y):\n\u001b[1;32m     84\u001b[0m \u001b[38;5;250m    \u001b[39m\u001b[38;5;124;03m\"\"\"Resample the dataset.\u001b[39;00m\n\u001b[1;32m     85\u001b[0m \n\u001b[1;32m     86\u001b[0m \u001b[38;5;124;03m    Parameters\u001b[39;00m\n\u001b[0;32m   (...)\u001b[0m\n\u001b[1;32m    102\u001b[0m \u001b[38;5;124;03m        The corresponding label of `X_resampled`.\u001b[39;00m\n\u001b[1;32m    103\u001b[0m \u001b[38;5;124;03m    \"\"\"\u001b[39;00m\n\u001b[0;32m--> 104\u001b[0m     \u001b[43mcheck_classification_targets\u001b[49m\u001b[43m(\u001b[49m\u001b[43my\u001b[49m\u001b[43m)\u001b[49m\n\u001b[1;32m    105\u001b[0m     arrays_transformer \u001b[38;5;241m=\u001b[39m ArraysTransformer(X, y)\n\u001b[1;32m    106\u001b[0m     X, y, binarize_y \u001b[38;5;241m=\u001b[39m \u001b[38;5;28mself\u001b[39m\u001b[38;5;241m.\u001b[39m_check_X_y(X, y)\n",
            "File \u001b[0;32m~/Documents/TUIA/AA/.venv_ML/lib64/python3.12/site-packages/sklearn/utils/multiclass.py:219\u001b[0m, in \u001b[0;36mcheck_classification_targets\u001b[0;34m(y)\u001b[0m\n\u001b[1;32m    211\u001b[0m y_type \u001b[38;5;241m=\u001b[39m type_of_target(y, input_name\u001b[38;5;241m=\u001b[39m\u001b[38;5;124m\"\u001b[39m\u001b[38;5;124my\u001b[39m\u001b[38;5;124m\"\u001b[39m)\n\u001b[1;32m    212\u001b[0m \u001b[38;5;28;01mif\u001b[39;00m y_type \u001b[38;5;129;01mnot\u001b[39;00m \u001b[38;5;129;01min\u001b[39;00m [\n\u001b[1;32m    213\u001b[0m     \u001b[38;5;124m\"\u001b[39m\u001b[38;5;124mbinary\u001b[39m\u001b[38;5;124m\"\u001b[39m,\n\u001b[1;32m    214\u001b[0m     \u001b[38;5;124m\"\u001b[39m\u001b[38;5;124mmulticlass\u001b[39m\u001b[38;5;124m\"\u001b[39m,\n\u001b[0;32m   (...)\u001b[0m\n\u001b[1;32m    217\u001b[0m     \u001b[38;5;124m\"\u001b[39m\u001b[38;5;124mmultilabel-sequences\u001b[39m\u001b[38;5;124m\"\u001b[39m,\n\u001b[1;32m    218\u001b[0m ]:\n\u001b[0;32m--> 219\u001b[0m     \u001b[38;5;28;01mraise\u001b[39;00m \u001b[38;5;167;01mValueError\u001b[39;00m(\n\u001b[1;32m    220\u001b[0m         \u001b[38;5;124mf\u001b[39m\u001b[38;5;124m\"\u001b[39m\u001b[38;5;124mUnknown label type: \u001b[39m\u001b[38;5;132;01m{\u001b[39;00my_type\u001b[38;5;132;01m}\u001b[39;00m\u001b[38;5;124m. Maybe you are trying to fit a \u001b[39m\u001b[38;5;124m\"\u001b[39m\n\u001b[1;32m    221\u001b[0m         \u001b[38;5;124m\"\u001b[39m\u001b[38;5;124mclassifier, which expects discrete classes on a \u001b[39m\u001b[38;5;124m\"\u001b[39m\n\u001b[1;32m    222\u001b[0m         \u001b[38;5;124m\"\u001b[39m\u001b[38;5;124mregression target with continuous values.\u001b[39m\u001b[38;5;124m\"\u001b[39m\n\u001b[1;32m    223\u001b[0m     )\n",
            "\u001b[0;31mValueError\u001b[0m: Unknown label type: continuous. Maybe you are trying to fit a classifier, which expects discrete classes on a regression target with continuous values."
          ]
        }
      ],
      "source": [
        "oversampler: RandomOverSampler = RandomOverSampler(random_state=42)\n",
        "X_resampled, y_resampled = oversampler.fit_resample(X_train, y_train)"
      ]
    },
    {
      "cell_type": "code",
      "execution_count": null,
      "metadata": {},
      "outputs": [],
      "source": [
        "fig, ax = plt.subplots(1, 2, figsize=(10,5))\n",
        "ax[0].scatter(X_train[:, 0], X_train[:, 1], c=y_train, cmap=plt.cm.RdBu)\n",
        "ax[1].scatter(X_resampled[:, 0], X_resampled[:, 1], c=y_resampled, cmap=plt.cm.RdBu)\n",
        "plt.show()"
      ]
    },
    {
      "cell_type": "code",
      "execution_count": null,
      "metadata": {
        "id": "Q02t-ygldqmV"
      },
      "outputs": [],
      "source": [
        "numerical_float_columns: list[str] = X_train.select_dtypes(include=[np.number, 'float']).columns.to_list()"
      ]
    },
    {
      "cell_type": "code",
      "execution_count": null,
      "metadata": {
        "id": "skxmd3D3dqmX",
        "outputId": "0a9d1d30-8841-4adb-e797-fee203b72c28"
      },
      "outputs": [],
      "source": [
        "num_columns = 3  # Number of columns per row\n",
        "num_rows = (len(numerical_float_columns) + num_columns - 1) // num_columns  # Calculate required rows\n",
        "\n",
        "# Create a figure with subplots\n",
        "fig, axes = plt.subplots(num_rows, num_columns, figsize=(5 * num_columns, 4 * num_rows))\n",
        "\n",
        "# Flatten axes array for easier iteration\n",
        "axes = axes.flatten()\n",
        "\n",
        "# Plot histograms for each numerical column\n",
        "for ax, col in zip(axes, numerical_float_columns):\n",
        "    ax.hist(X_train[col], bins=20, color='blue', alpha=0.7)\n",
        "    ax.set_title(f'{col}')\n",
        "    #ax.set_xlabel(col)\n",
        "    ax.set_ylabel('Frequency')\n",
        "\n",
        "# Hide any unused subplots\n",
        "for i in range(len(numerical_float_columns), len(axes)):\n",
        "    fig.delaxes(axes[i])"
      ]
    },
    {
      "cell_type": "markdown",
      "metadata": {
        "id": "p7KXy9o_dqmZ"
      },
      "source": [
        "Observamos que las siguientes distribuciones son **normales**:\n",
        " - Temp3pm\n",
        " - Temp9am\n",
        " - Pressure9am, con una cola pesada hacia la izquierda.\n",
        " - Pressure3pm\n",
        " - Humidity3pm\n",
        " - MinTemp, con una cola pesada hacia la izquierda.\n",
        " - WinSpeed9am, con una cola pesada hacia la derecha.\n",
        "\n",
        " Hay distribuciones **binomiales**:\n",
        "  - Cloud9am\n",
        "  - Cloud3pm"
      ]
    },
    {
      "cell_type": "code",
      "execution_count": null,
      "metadata": {},
      "outputs": [],
      "source": [
        "corr_matrix = X_train.corr()\n",
        "\n",
        "fig = px.imshow(corr_matrix, title='Correlación entre las características', aspect='auto', color_continuous_scale='RdBu',\n",
        "          zmin= -1, zmax=1, text_auto=True)\n",
        "\n",
        "fig.show()"
      ]
    },
    {
      "cell_type": "code",
      "execution_count": null,
      "metadata": {
        "id": "Q_MCpNcOdqmc",
        "outputId": "20da9bb4-ebfb-41cd-a781-f79fcfb20da1"
      },
      "outputs": [
        {
          "data": {
            "text/plain": [
              "\"\\nk_values = [1, 3, 5, 7, 9, 11]\\n \\n# Create subplots for each k value\\nfig, axes = plt.subplots(1, len(k_values), figsize=(15, 3))\\n \\n# Train and visualize the models with varying k values\\nfor i, k in enumerate(k_values):\\n    # Create KNN model\\n    knn = KNNImputer(n_neighbors=k)\\n \\n    # Train the model\\n    knn.fit(X_train[numerical_float_columns], y_train)\\n \\n    # Make predictions\\n    y_pred = knn.predict(X_test)\\n \\n    # Calculate accuracy\\n    accuracy = accuracy_score(y_test, y_pred)\\n \\n    # Plot decision boundary\\n    h = 0.02  # Step size in the mesh\\n    x_min, x_max = X[:, 0].min() - 1, X[:, 0].max() + 1\\n    y_min, y_max = X[:, 1].min() - 1, X[:, 1].max() + 1\\n    xx, yy = np.meshgrid(np.arange(x_min, x_max, h),\\n                         np.arange(y_min, y_max, h))\\n    Z = knn.predict(np.c_[xx.ravel(), yy.ravel()])\\n    Z = Z.reshape(xx.shape)\\n \\n    # Plot the decision boundary\\n    axes[i].contourf(xx, yy, Z, cmap=plt.cm.Paired, alpha=0.8)\\n \\n    # Plot the training points\\n    axes[i].scatter(X_train[:, 0], X_train[:, 1], c=y_train,\\n                    edgecolors='k', cmap=plt.cm.Paired)\\n \\n    # Plot the testing points\\n    axes[i].scatter(X_test[:, 0], X_test[:, 1], c=y_test,\\n                    marker='x', edgecolors='k', cmap=plt.cm.Paired)\\n \\n    # Set plot labels and title\\n    axes[i].set_title(f'k={k}, Accuracy={accuracy:.2f}')\\n    axes[i].set_xlabel('Feature 1')\\n    axes[i].set_ylabel('Feature 2')\\n \\nplt.show()\\n\\n\""
            ]
          },
          "execution_count": 23,
          "metadata": {},
          "output_type": "execute_result"
        }
      ],
      "source": [
        "\"\"\"\n",
        "k_values = [1, 3, 5, 7, 9, 11]\n",
        "\n",
        "# Create subplots for each k value\n",
        "fig, axes = plt.subplots(1, len(k_values), figsize=(15, 3))\n",
        "\n",
        "# Train and visualize the models with varying k values\n",
        "for i, k in enumerate(k_values):\n",
        "    # Create KNN model\n",
        "    knn = KNNImputer(n_neighbors=k)\n",
        "\n",
        "    # Train the model\n",
        "    knn.fit(X_train[numerical_float_columns], y_train)\n",
        "\n",
        "    # Make predictions\n",
        "    y_pred = knn.predict(X_test)\n",
        "\n",
        "    # Calculate accuracy\n",
        "    accuracy = accuracy_score(y_test, y_pred)\n",
        "\n",
        "    # Plot decision boundary\n",
        "    h = 0.02  # Step size in the mesh\n",
        "    x_min, x_max = X[:, 0].min() - 1, X[:, 0].max() + 1\n",
        "    y_min, y_max = X[:, 1].min() - 1, X[:, 1].max() + 1\n",
        "    xx, yy = np.meshgrid(np.arange(x_min, x_max, h),\n",
        "                         np.arange(y_min, y_max, h))\n",
        "    Z = knn.predict(np.c_[xx.ravel(), yy.ravel()])\n",
        "    Z = Z.reshape(xx.shape)\n",
        "\n",
        "    # Plot the decision boundary\n",
        "    axes[i].contourf(xx, yy, Z, cmap=plt.cm.Paired, alpha=0.8)\n",
        "\n",
        "    # Plot the training points\n",
        "    axes[i].scatter(X_train[:, 0], X_train[:, 1], c=y_train,\n",
        "                    edgecolors='k', cmap=plt.cm.Paired)\n",
        "\n",
        "    # Plot the testing points\n",
        "    axes[i].scatter(X_test[:, 0], X_test[:, 1], c=y_test,\n",
        "                    marker='x', edgecolors='k', cmap=plt.cm.Paired)\n",
        "\n",
        "    # Set plot labels and title\n",
        "    axes[i].set_title(f'k={k}, Accuracy={accuracy:.2f}')\n",
        "    axes[i].set_xlabel('Feature 1')\n",
        "    axes[i].set_ylabel('Feature 2')\n",
        "\n",
        "plt.show()\n",
        "\n",
        "\"\"\"\n"
      ]
    }
  ],
  "metadata": {
    "colab": {
      "provenance": []
    },
    "kernelspec": {
      "display_name": ".venv_ML",
      "language": "python",
      "name": "python3"
    },
    "language_info": {
      "codemirror_mode": {
        "name": "ipython",
        "version": 3
      },
      "file_extension": ".py",
      "mimetype": "text/x-python",
      "name": "python",
      "nbconvert_exporter": "python",
      "pygments_lexer": "ipython3",
      "version": "3.12.7"
    }
  },
  "nbformat": 4,
  "nbformat_minor": 0
}
