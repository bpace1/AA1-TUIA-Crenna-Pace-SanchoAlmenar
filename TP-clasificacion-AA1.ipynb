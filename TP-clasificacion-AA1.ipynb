{
  "cells": [
    {
      "cell_type": "markdown",
      "metadata": {
        "id": "KVU8b4zYdqlU"
      },
      "source": [
        "**UNR - TUIA**\n",
        "\n",
        "# Trabajo Prático N°: 2 - Aprendizaje Automático\n",
        "\n",
        "### Integrantes:\n",
        "*   Crenna, Giuliano. Legajo: C-7438/1.\n",
        "*   Pace, Bruno. Legajo: P-5295/7.\n",
        "*   Sancho Almenar, Mariano. Legajo: S-5778/9."
      ]
    },
    {
      "cell_type": "code",
      "execution_count": 181,
      "metadata": {
        "id": "2TdOjxNrdqlf"
      },
      "outputs": [],
      "source": [
        "#Tratamiento de datos:\n",
        "import numpy as np\n",
        "import pandas as pd\n",
        "import math\n",
        "\n",
        "#Gráficos:\n",
        "import matplotlib.pyplot as plt\n",
        "import seaborn as sns\n",
        "import plotly.express as px\n",
        "\n",
        "#Preprocesado y modelado:\n",
        "from sklearn.model_selection import train_test_split, GridSearchCV\n",
        "from imblearn.over_sampling import RandomOverSampler\n",
        "from sklearn.preprocessing import StandardScaler, OneHotEncoder\n",
        "from sklearn.impute import KNNImputer\n",
        "from sklearn.linear_model import LinearRegression, Ridge, Lasso, ElasticNet, RidgeCV, ElasticNetCV, LassoCV, SGDRegressor\n",
        "from sklearn.metrics import mean_squared_error, r2_score, accuracy_score\n",
        "import random\n",
        "\n",
        "from typing import Dict, List, Tuple\n",
        "\n",
        "#Configuración de warnings:\n",
        "import warnings\n",
        "warnings.filterwarnings('ignore')"
      ]
    },
    {
      "cell_type": "markdown",
      "metadata": {
        "id": "pU7pQtrodqlm"
      },
      "source": [
        "\n",
        "## Lectura, selección de ciudades y analisis de variables"
      ]
    },
    {
      "cell_type": "code",
      "execution_count": 182,
      "metadata": {
        "id": "Ejn__JDPdqlo"
      },
      "outputs": [],
      "source": [
        "df: pd.DataFrame = pd.read_csv('weatherAUS.csv')"
      ]
    },
    {
      "cell_type": "markdown",
      "metadata": {},
      "source": [
        "Se seleccionan 10 ciudades aleatorias de dataset para analizar"
      ]
    },
    {
      "cell_type": "code",
      "execution_count": 183,
      "metadata": {
        "colab": {
          "base_uri": "https://localhost:8080/"
        },
        "id": "09BgJw0Gdqlr",
        "outputId": "c98ae50b-b46d-4b02-ee59-0f21cea8686e"
      },
      "outputs": [],
      "source": [
        "random.seed(42)\n",
        "choosen_cities =  random.sample(df['Location'].unique().tolist(), k=10)"
      ]
    },
    {
      "cell_type": "code",
      "execution_count": 184,
      "metadata": {
        "id": "uR_Ixeb2dqly"
      },
      "outputs": [],
      "source": [
        "# Se guarda en el DataFrame las tuplas con las ciudades elegidas\n",
        "df: pd.DataFrame = df[df['Location'].isin(choosen_cities)].reset_index(drop = True) "
      ]
    },
    {
      "cell_type": "markdown",
      "metadata": {},
      "source": [
        "\n",
        "### Tipo de dato de las variables"
      ]
    },
    {
      "cell_type": "code",
      "execution_count": 185,
      "metadata": {},
      "outputs": [
        {
          "name": "stdout",
          "output_type": "stream",
          "text": [
            "<class 'pandas.core.frame.DataFrame'>\n",
            "RangeIndex: 30818 entries, 0 to 30817\n",
            "Data columns (total 23 columns):\n",
            " #   Column         Non-Null Count  Dtype  \n",
            "---  ------         --------------  -----  \n",
            " 0   Date           30818 non-null  object \n",
            " 1   Location       30818 non-null  object \n",
            " 2   MinTemp        30254 non-null  float64\n",
            " 3   MaxTemp        30421 non-null  float64\n",
            " 4   Rainfall       30243 non-null  float64\n",
            " 5   Evaporation    10686 non-null  float64\n",
            " 6   Sunshine       10127 non-null  float64\n",
            " 7   WindGustDir    26779 non-null  object \n",
            " 8   WindGustSpeed  26797 non-null  float64\n",
            " 9   WindDir9am     27071 non-null  object \n",
            " 10  WindDir3pm     28746 non-null  object \n",
            " 11  WindSpeed9am   29921 non-null  float64\n",
            " 12  WindSpeed3pm   29269 non-null  float64\n",
            " 13  Humidity9am    29837 non-null  float64\n",
            " 14  Humidity3pm    29348 non-null  float64\n",
            " 15  Pressure9am    21206 non-null  float64\n",
            " 16  Pressure3pm    21250 non-null  float64\n",
            " 17  Cloud9am       15523 non-null  float64\n",
            " 18  Cloud3pm       14073 non-null  float64\n",
            " 19  Temp9am        29988 non-null  float64\n",
            " 20  Temp3pm        29450 non-null  float64\n",
            " 21  RainToday      30243 non-null  object \n",
            " 22  RainTomorrow   30243 non-null  object \n",
            "dtypes: float64(16), object(7)\n",
            "memory usage: 5.4+ MB\n"
          ]
        }
      ],
      "source": [
        "df.info()"
      ]
    },
    {
      "cell_type": "code",
      "execution_count": 186,
      "metadata": {},
      "outputs": [
        {
          "data": {
            "text/html": [
              "<div>\n",
              "<style scoped>\n",
              "    .dataframe tbody tr th:only-of-type {\n",
              "        vertical-align: middle;\n",
              "    }\n",
              "\n",
              "    .dataframe tbody tr th {\n",
              "        vertical-align: top;\n",
              "    }\n",
              "\n",
              "    .dataframe thead th {\n",
              "        text-align: right;\n",
              "    }\n",
              "</style>\n",
              "<table border=\"1\" class=\"dataframe\">\n",
              "  <thead>\n",
              "    <tr style=\"text-align: right;\">\n",
              "      <th></th>\n",
              "      <th>Date</th>\n",
              "      <th>Location</th>\n",
              "      <th>WindGustDir</th>\n",
              "      <th>WindDir9am</th>\n",
              "      <th>WindDir3pm</th>\n",
              "      <th>RainToday</th>\n",
              "      <th>RainTomorrow</th>\n",
              "    </tr>\n",
              "  </thead>\n",
              "  <tbody>\n",
              "    <tr>\n",
              "      <th>14362</th>\n",
              "      <td>2015-06-19</td>\n",
              "      <td>Penrith</td>\n",
              "      <td>SW</td>\n",
              "      <td>SW</td>\n",
              "      <td>SSW</td>\n",
              "      <td>Yes</td>\n",
              "      <td>No</td>\n",
              "    </tr>\n",
              "    <tr>\n",
              "      <th>26466</th>\n",
              "      <td>2014-04-24</td>\n",
              "      <td>Nuriootpa</td>\n",
              "      <td>SE</td>\n",
              "      <td>SSW</td>\n",
              "      <td>ESE</td>\n",
              "      <td>No</td>\n",
              "      <td>No</td>\n",
              "    </tr>\n",
              "  </tbody>\n",
              "</table>\n",
              "</div>"
            ],
            "text/plain": [
              "             Date   Location WindGustDir WindDir9am WindDir3pm RainToday  \\\n",
              "14362  2015-06-19    Penrith          SW         SW        SSW       Yes   \n",
              "26466  2014-04-24  Nuriootpa          SE        SSW        ESE        No   \n",
              "\n",
              "      RainTomorrow  \n",
              "14362           No  \n",
              "26466           No  "
            ]
          },
          "execution_count": 186,
          "metadata": {},
          "output_type": "execute_result"
        }
      ],
      "source": [
        "df[['Date', 'Location', 'WindGustDir', 'WindDir9am', 'WindDir3pm',  'RainToday', 'RainTomorrow']].sample(2)"
      ]
    },
    {
      "cell_type": "markdown",
      "metadata": {},
      "source": [
        "Se observa la presencia de ocho columnas categóricas, su análisis y procesamiento a continuacion."
      ]
    },
    {
      "cell_type": "markdown",
      "metadata": {
        "id": "JHfX5Gj3g5sp"
      },
      "source": [
        "\n",
        "### Date\n",
        "\n",
        "Dado que 'Date' se encuentra con formato 'YYYY-MM-DD', se dividirá en 2 columnas distintas.\n",
        "\n",
        "- **Year**: Será una variable categórica indicando el año, luego se codificará utilizando One-Hot Encoder.\n",
        "- **Season**:  Indicará en qué temporada del año ocurrió la medición."
      ]
    },
    {
      "cell_type": "code",
      "execution_count": 187,
      "metadata": {},
      "outputs": [],
      "source": [
        "# OPCION 2\n",
        "\"\"\"\n",
        "Juntar mes y dia para que sea una columna numerica de 0 a 365, \n",
        "así hay un menor salto entre estaciones del año\n",
        "el unico problema -> el salto de fin/comienzo de año\n",
        "\n",
        "ANALIZAR HACER PROYECCIONES X E Y \n",
        "para mi (Mariano) probar este metodo, si sobra tiempo lo hacemos\n",
        "\"\"\" \n",
        "\n",
        "\n",
        "df['Date'] = pd.to_datetime(df['Date'])\n",
        "df['Year'] = df['Date'].dt.year\n",
        "\n",
        "df['Day'] = df['Date'].dt.dayofyear"
      ]
    },
    {
      "cell_type": "code",
      "execution_count": 188,
      "metadata": {},
      "outputs": [
        {
          "data": {
            "text/html": [
              "<div>\n",
              "<style scoped>\n",
              "    .dataframe tbody tr th:only-of-type {\n",
              "        vertical-align: middle;\n",
              "    }\n",
              "\n",
              "    .dataframe tbody tr th {\n",
              "        vertical-align: top;\n",
              "    }\n",
              "\n",
              "    .dataframe thead th {\n",
              "        text-align: right;\n",
              "    }\n",
              "</style>\n",
              "<table border=\"1\" class=\"dataframe\">\n",
              "  <thead>\n",
              "    <tr style=\"text-align: right;\">\n",
              "      <th></th>\n",
              "      <th>Date</th>\n",
              "      <th>Year</th>\n",
              "      <th>Day</th>\n",
              "    </tr>\n",
              "  </thead>\n",
              "  <tbody>\n",
              "    <tr>\n",
              "      <th>13014</th>\n",
              "      <td>2011-08-12</td>\n",
              "      <td>2011</td>\n",
              "      <td>224</td>\n",
              "    </tr>\n",
              "    <tr>\n",
              "      <th>23497</th>\n",
              "      <td>2014-06-03</td>\n",
              "      <td>2014</td>\n",
              "      <td>154</td>\n",
              "    </tr>\n",
              "  </tbody>\n",
              "</table>\n",
              "</div>"
            ],
            "text/plain": [
              "            Date  Year  Day\n",
              "13014 2011-08-12  2011  224\n",
              "23497 2014-06-03  2014  154"
            ]
          },
          "execution_count": 188,
          "metadata": {},
          "output_type": "execute_result"
        }
      ],
      "source": [
        "df[['Date', 'Year', 'Day']].sample(2)"
      ]
    },
    {
      "cell_type": "code",
      "execution_count": 189,
      "metadata": {},
      "outputs": [],
      "source": [
        "df.drop(columns= 'Date', inplace=True)"
      ]
    },
    {
      "cell_type": "code",
      "execution_count": 190,
      "metadata": {
        "id": "2EYJpue7rcke"
      },
      "outputs": [],
      "source": [
        "# Cambiamos el formato de 'Date' a datetime de pandas para su manejo\n",
        "# df['Date'] = pd.to_datetime(df['Date'])\n",
        "# df['Year'] = df['Date'].dt.year\n",
        "\n",
        "# Función para determinar la estación\n",
        "def get_season(date):\n",
        "    Y = date.year\n",
        "    if pd.Timestamp(f'{Y}-12-1') <= date or date < pd.Timestamp(f'{Y}-03-01'):\n",
        "        return 'Verano'\n",
        "    elif pd.Timestamp(f'{Y}-03-01') <= date < pd.Timestamp(f'{Y}-06-01'):\n",
        "        return 'Otoño'\n",
        "    elif pd.Timestamp(f'{Y}-06-01') <= date < pd.Timestamp(f'{Y}-09-01'):\n",
        "        return 'Invierno'\n",
        "    else:\n",
        "        return 'Primavera'\n",
        "\n",
        "\n",
        "# df['Season'] = df['Date'].apply(get_season)\n",
        "\n",
        "# df.drop(columns='Date', inplace=True)"
      ]
    },
    {
      "cell_type": "markdown",
      "metadata": {
        "id": "f5jf3t5gxJyE"
      },
      "source": [
        "\n",
        "### Mediciones del viento\n",
        "\n",
        "Las columnas *WindGustDir*, *WindDir9am*, *WindDir3pm*, *WindSpeed3pm* indican la dirección del viento utilizando las direcciones cardinales.\n",
        "\n",
        "Se transformarán dichas direcciones en las proyecciones que tienen sobre los ejes x e y."
      ]
    },
    {
      "cell_type": "code",
      "execution_count": 191,
      "metadata": {
        "id": "70qalt8exQLi"
      },
      "outputs": [],
      "source": [
        "def angle_to_xy(angle):\n",
        "    \"\"\"\n",
        "    Función que recibe la dirección del viento en grados y la transformará en projecciones sobre el eje x e y, \n",
        "    obteniendo así dos valores numéricos por cada columna.\n",
        "    \"\"\"\n",
        "\n",
        "    if math.isnan(angle):\n",
        "        return (np.nan, np.nan)\n",
        "\n",
        "    # Convertimos el ángulo a radianes\n",
        "    angle_rad = math.radians(angle)\n",
        "\n",
        "\n",
        "    x = math.sin(angle_rad)\n",
        "    y = math.cos(angle_rad)\n",
        "\n",
        "    return (x, y)"
      ]
    },
    {
      "cell_type": "code",
      "execution_count": 192,
      "metadata": {
        "id": "RkJYEsPjzBXc"
      },
      "outputs": [],
      "source": [
        "direction_angles = {\n",
        "        'N': 0,\n",
        "        'NNE': 22.5,\n",
        "        'NE': 45,\n",
        "        'ENE': 67.5,\n",
        "        'E': 90,\n",
        "        'ESE': 112.5,\n",
        "        'SE': 135,\n",
        "        'SSE': 157.5,\n",
        "        'S': 180,\n",
        "        'SSW': 202.5,\n",
        "        'SW': 225,\n",
        "        'WSW': 247.5,\n",
        "        'W': 270,\n",
        "        'WNW': 292.5,\n",
        "        'NW': 315,\n",
        "        'NNW': 337.5\n",
        "}\n",
        "\n",
        "columnas_viento = ['WindDir3pm','WindDir9am', 'WindGustDir']\n",
        "\n",
        "for columna in columnas_viento:\n",
        "    \n",
        "    df[columna] = df[columna].map(direction_angles)\n",
        "\n",
        "# Creamos las columnas con las projecciones x e y para los distintos vientos.\n",
        "df[['WindDir3pm_x', 'WindDir3pm_y']] = df['WindDir3pm'].apply(\n",
        "    lambda angle: pd.Series(angle_to_xy(angle))\n",
        ")\n",
        "\n",
        "df[['WindDir9am_x', 'WindDir9am_y']] = df['WindDir9am'].apply(\n",
        "    lambda angle: pd.Series(angle_to_xy(angle))\n",
        ")\n",
        "\n",
        "df[['WindGustDir_x', 'WindGustDir_y']] = df['WindGustDir'].apply(\n",
        "    lambda angle: pd.Series(angle_to_xy(angle))\n",
        ")"
      ]
    },
    {
      "cell_type": "code",
      "execution_count": 193,
      "metadata": {
        "id": "0tguaPok7T-2"
      },
      "outputs": [],
      "source": [
        "df.drop(columns= columnas_viento , inplace=True)"
      ]
    },
    {
      "cell_type": "markdown",
      "metadata": {
        "id": "N6Oa_hXz80QQ"
      },
      "source": [
        "\n",
        "### Columnas categóricas Yes/No\n",
        "\n",
        "Se remplazan por valores 1 y 0 "
      ]
    },
    {
      "cell_type": "code",
      "execution_count": 194,
      "metadata": {
        "id": "AdLyjIPU86IV"
      },
      "outputs": [],
      "source": [
        "df['RainToday'] = df['RainToday'].map({'Yes': 1, 'No': 0})\n",
        "df['RainTomorrow'] = df['RainTomorrow'].map({'Yes': 1, 'No': 0})"
      ]
    },
    {
      "cell_type": "code",
      "execution_count": 195,
      "metadata": {},
      "outputs": [
        {
          "data": {
            "text/html": [
              "<div>\n",
              "<style scoped>\n",
              "    .dataframe tbody tr th:only-of-type {\n",
              "        vertical-align: middle;\n",
              "    }\n",
              "\n",
              "    .dataframe tbody tr th {\n",
              "        vertical-align: top;\n",
              "    }\n",
              "\n",
              "    .dataframe thead th {\n",
              "        text-align: right;\n",
              "    }\n",
              "</style>\n",
              "<table border=\"1\" class=\"dataframe\">\n",
              "  <thead>\n",
              "    <tr style=\"text-align: right;\">\n",
              "      <th></th>\n",
              "      <th>Year</th>\n",
              "      <th>Day</th>\n",
              "      <th>Location</th>\n",
              "      <th>WindDir3pm_x</th>\n",
              "      <th>WindDir3pm_y</th>\n",
              "      <th>WindDir9am_x</th>\n",
              "      <th>WindDir9am_y</th>\n",
              "      <th>WindGustDir_x</th>\n",
              "      <th>WindGustDir_y</th>\n",
              "      <th>RainToday</th>\n",
              "      <th>RainTomorrow</th>\n",
              "    </tr>\n",
              "  </thead>\n",
              "  <tbody>\n",
              "    <tr>\n",
              "      <th>3777</th>\n",
              "      <td>2011</td>\n",
              "      <td>8</td>\n",
              "      <td>Newcastle</td>\n",
              "      <td>0.707107</td>\n",
              "      <td>-0.707107</td>\n",
              "      <td>NaN</td>\n",
              "      <td>NaN</td>\n",
              "      <td>NaN</td>\n",
              "      <td>NaN</td>\n",
              "      <td>0.0</td>\n",
              "      <td>0.0</td>\n",
              "    </tr>\n",
              "    <tr>\n",
              "      <th>17834</th>\n",
              "      <td>2016</td>\n",
              "      <td>237</td>\n",
              "      <td>Wollongong</td>\n",
              "      <td>-0.707107</td>\n",
              "      <td>-0.707107</td>\n",
              "      <td>-0.707107</td>\n",
              "      <td>-0.707107</td>\n",
              "      <td>0.382683</td>\n",
              "      <td>-0.92388</td>\n",
              "      <td>1.0</td>\n",
              "      <td>1.0</td>\n",
              "    </tr>\n",
              "    <tr>\n",
              "      <th>2817</th>\n",
              "      <td>2016</td>\n",
              "      <td>351</td>\n",
              "      <td>BadgerysCreek</td>\n",
              "      <td>-0.923880</td>\n",
              "      <td>0.382683</td>\n",
              "      <td>NaN</td>\n",
              "      <td>NaN</td>\n",
              "      <td>NaN</td>\n",
              "      <td>NaN</td>\n",
              "      <td>NaN</td>\n",
              "      <td>NaN</td>\n",
              "    </tr>\n",
              "  </tbody>\n",
              "</table>\n",
              "</div>"
            ],
            "text/plain": [
              "       Year  Day       Location  WindDir3pm_x  WindDir3pm_y  WindDir9am_x  \\\n",
              "3777   2011    8      Newcastle      0.707107     -0.707107           NaN   \n",
              "17834  2016  237     Wollongong     -0.707107     -0.707107     -0.707107   \n",
              "2817   2016  351  BadgerysCreek     -0.923880      0.382683           NaN   \n",
              "\n",
              "       WindDir9am_y  WindGustDir_x  WindGustDir_y  RainToday  RainTomorrow  \n",
              "3777            NaN            NaN            NaN        0.0           0.0  \n",
              "17834     -0.707107       0.382683       -0.92388        1.0           1.0  \n",
              "2817            NaN            NaN            NaN        NaN           NaN  "
            ]
          },
          "execution_count": 195,
          "metadata": {},
          "output_type": "execute_result"
        }
      ],
      "source": [
        "# df[['Year', 'Season', 'Location', 'WindDir3pm_x', 'WindDir3pm_y', 'WindDir9am_x', 'WindDir9am_y','WindGustDir_x', 'WindGustDir_y' ,  'RainToday', 'RainTomorrow']].sample(2)\n",
        "\n",
        "df[['Year', 'Day', 'Location', 'WindDir3pm_x', 'WindDir3pm_y', 'WindDir9am_x', 'WindDir9am_y','WindGustDir_x', 'WindGustDir_y' ,  'RainToday', 'RainTomorrow']].sample(3)"
      ]
    },
    {
      "cell_type": "markdown",
      "metadata": {},
      "source": [
        "### Location\n",
        "\n",
        "Para la localidad, se remplaza su valor con su respectiva coordenada\n"
      ]
    },
    {
      "cell_type": "code",
      "execution_count": 196,
      "metadata": {},
      "outputs": [],
      "source": [
        "chosen_cities_coordinates: Dict [str, Dict[str, float]] = {\n",
        "    \"Newcastle\": {\"latitude\": -32.9282, \"longitude\": 151.7817},\n",
        "    \"BadgerysCreek\": {\"latitude\": -33.8836, \"longitude\": 150.7386},\n",
        "    \"Penrith\": {\"latitude\": -33.7532, \"longitude\": 150.6880},\n",
        "    \"Perth\": {\"latitude\": -31.9505, \"longitude\": 115.8605},\n",
        "    \"Canberra\": {\"latitude\": -35.2809, \"longitude\": 149.1300},\n",
        "    \"Wollongong\": {\"latitude\": -34.4278, \"longitude\": 150.8931},\n",
        "    \"Nuriootpa\": {\"latitude\": -34.4658, \"longitude\": 138.9784},\n",
        "    \"NorahHead\": {\"latitude\": -33.2886, \"longitude\": 151.6154},\n",
        "    \"NorfolkIsland\": {\"latitude\": -29.0408, \"longitude\": 167.9547},\n",
        "    \"MountGinini\": {\"latitude\": -35.4622, \"longitude\": 148.9525}\n",
        "}\n"
      ]
    },
    {
      "cell_type": "code",
      "execution_count": 197,
      "metadata": {},
      "outputs": [
        {
          "data": {
            "text/html": [
              "<div>\n",
              "<style scoped>\n",
              "    .dataframe tbody tr th:only-of-type {\n",
              "        vertical-align: middle;\n",
              "    }\n",
              "\n",
              "    .dataframe tbody tr th {\n",
              "        vertical-align: top;\n",
              "    }\n",
              "\n",
              "    .dataframe thead th {\n",
              "        text-align: right;\n",
              "    }\n",
              "</style>\n",
              "<table border=\"1\" class=\"dataframe\">\n",
              "  <thead>\n",
              "    <tr style=\"text-align: right;\">\n",
              "      <th></th>\n",
              "      <th>Location</th>\n",
              "      <th>latitude</th>\n",
              "      <th>longitude</th>\n",
              "    </tr>\n",
              "  </thead>\n",
              "  <tbody>\n",
              "    <tr>\n",
              "      <th>0</th>\n",
              "      <td>Newcastle</td>\n",
              "      <td>-32.9282</td>\n",
              "      <td>151.7817</td>\n",
              "    </tr>\n",
              "    <tr>\n",
              "      <th>1</th>\n",
              "      <td>BadgerysCreek</td>\n",
              "      <td>-33.8836</td>\n",
              "      <td>150.7386</td>\n",
              "    </tr>\n",
              "    <tr>\n",
              "      <th>2</th>\n",
              "      <td>Penrith</td>\n",
              "      <td>-33.7532</td>\n",
              "      <td>150.6880</td>\n",
              "    </tr>\n",
              "    <tr>\n",
              "      <th>3</th>\n",
              "      <td>Perth</td>\n",
              "      <td>-31.9505</td>\n",
              "      <td>115.8605</td>\n",
              "    </tr>\n",
              "    <tr>\n",
              "      <th>4</th>\n",
              "      <td>Canberra</td>\n",
              "      <td>-35.2809</td>\n",
              "      <td>149.1300</td>\n",
              "    </tr>\n",
              "    <tr>\n",
              "      <th>5</th>\n",
              "      <td>Wollongong</td>\n",
              "      <td>-34.4278</td>\n",
              "      <td>150.8931</td>\n",
              "    </tr>\n",
              "    <tr>\n",
              "      <th>6</th>\n",
              "      <td>Nuriootpa</td>\n",
              "      <td>-34.4658</td>\n",
              "      <td>138.9784</td>\n",
              "    </tr>\n",
              "    <tr>\n",
              "      <th>7</th>\n",
              "      <td>NorahHead</td>\n",
              "      <td>-33.2886</td>\n",
              "      <td>151.6154</td>\n",
              "    </tr>\n",
              "    <tr>\n",
              "      <th>8</th>\n",
              "      <td>NorfolkIsland</td>\n",
              "      <td>-29.0408</td>\n",
              "      <td>167.9547</td>\n",
              "    </tr>\n",
              "    <tr>\n",
              "      <th>9</th>\n",
              "      <td>MountGinini</td>\n",
              "      <td>-35.4622</td>\n",
              "      <td>148.9525</td>\n",
              "    </tr>\n",
              "  </tbody>\n",
              "</table>\n",
              "</div>"
            ],
            "text/plain": [
              "        Location  latitude  longitude\n",
              "0      Newcastle  -32.9282   151.7817\n",
              "1  BadgerysCreek  -33.8836   150.7386\n",
              "2        Penrith  -33.7532   150.6880\n",
              "3          Perth  -31.9505   115.8605\n",
              "4       Canberra  -35.2809   149.1300\n",
              "5     Wollongong  -34.4278   150.8931\n",
              "6      Nuriootpa  -34.4658   138.9784\n",
              "7      NorahHead  -33.2886   151.6154\n",
              "8  NorfolkIsland  -29.0408   167.9547\n",
              "9    MountGinini  -35.4622   148.9525"
            ]
          },
          "execution_count": 197,
          "metadata": {},
          "output_type": "execute_result"
        }
      ],
      "source": [
        "coords_df: pd.DataFrame = pd.DataFrame.from_dict(chosen_cities_coordinates, orient='index') \n",
        "coords_df.reset_index(inplace=True) \n",
        "coords_df.rename(columns={'index':'Location'}, inplace=True) \n",
        "coords_df\n"
      ]
    },
    {
      "cell_type": "code",
      "execution_count": 198,
      "metadata": {},
      "outputs": [],
      "source": [
        "df: pd.DataFrame = df.merge(coords_df, on='Location', how='left')\n",
        "df: pd.DataFrame = df.drop(columns=['Location'])"
      ]
    },
    {
      "cell_type": "markdown",
      "metadata": {
        "id": "A37M2V1Ws9ZL"
      },
      "source": [
        "\n",
        "## Division del conjunto"
      ]
    },
    {
      "cell_type": "code",
      "execution_count": 199,
      "metadata": {
        "id": "8qdx_7_sdql5"
      },
      "outputs": [],
      "source": [
        "X: pd.DataFrame = df.drop(columns='RainTomorrow')\n",
        "y: pd.DataFrame = df[['RainTomorrow']] #Variable a predecir"
      ]
    },
    {
      "cell_type": "markdown",
      "metadata": {
        "id": "G2KMmdIadql6"
      },
      "source": [
        "Separación test y train conforme a las convenciones del 80% para Train y 20% para test."
      ]
    },
    {
      "cell_type": "code",
      "execution_count": 200,
      "metadata": {
        "id": "aV_UKgVsdql7"
      },
      "outputs": [],
      "source": [
        "X_train, X_test, y_train, y_test = train_test_split(\n",
        "    X,\n",
        "    y,\n",
        "    test_size=0.2,\n",
        "    random_state=42\n",
        ")"
      ]
    },
    {
      "cell_type": "markdown",
      "metadata": {
        "id": "Bh4mcZ_H-UiG"
      },
      "source": [
        "\n",
        "## Manejo de variables categóricas\n",
        "Usaremos one-hot encoding para el manejo de la columna *Year*."
      ]
    },
    {
      "cell_type": "code",
      "execution_count": 201,
      "metadata": {
        "id": "UiY5w4RiC10l"
      },
      "outputs": [],
      "source": [
        "#columnas_categoricas: List[str] = ['Year', 'Season']\n",
        "columnas_categoricas: List[str] = ['Year']\n",
        "\n",
        "encoder: OneHotEncoder = OneHotEncoder(handle_unknown='ignore', sparse_output = False).set_output(transform='pandas')"
      ]
    },
    {
      "cell_type": "code",
      "execution_count": 202,
      "metadata": {
        "id": "xB2cfo1wK9oL"
      },
      "outputs": [],
      "source": [
        "X_train_enc = encoder.fit_transform(X_train[columnas_categoricas])\n",
        "X_test_enc = encoder.transform(X_test[columnas_categoricas])"
      ]
    },
    {
      "cell_type": "code",
      "execution_count": 203,
      "metadata": {
        "id": "dL4AKY1sLIq6"
      },
      "outputs": [],
      "source": [
        "X_train = pd.concat([X_train, X_train_enc], axis=1)\n",
        "X_test = pd.concat([X_test, X_test_enc], axis=1)"
      ]
    },
    {
      "cell_type": "code",
      "execution_count": 204,
      "metadata": {
        "id": "oiWuAv2jLo2S"
      },
      "outputs": [],
      "source": [
        "X_train.drop(columns=columnas_categoricas, inplace=True)\n",
        "X_test.drop(columns=columnas_categoricas, inplace=True)"
      ]
    },
    {
      "cell_type": "code",
      "execution_count": 205,
      "metadata": {
        "colab": {
          "base_uri": "https://localhost:8080/",
          "height": 444
        },
        "id": "GUWCXsLcLurx",
        "outputId": "80a9b0cd-bd66-45cd-f37b-66dfa22a0af9"
      },
      "outputs": [
        {
          "name": "stdout",
          "output_type": "stream",
          "text": [
            "<class 'pandas.core.frame.DataFrame'>\n",
            "Index: 24654 entries, 2194 to 23654\n",
            "Data columns (total 37 columns):\n",
            " #   Column         Non-Null Count  Dtype  \n",
            "---  ------         --------------  -----  \n",
            " 0   MinTemp        24206 non-null  float64\n",
            " 1   MaxTemp        24363 non-null  float64\n",
            " 2   Rainfall       24203 non-null  float64\n",
            " 3   Evaporation    8560 non-null   float64\n",
            " 4   Sunshine       8124 non-null   float64\n",
            " 5   WindGustSpeed  21457 non-null  float64\n",
            " 6   WindSpeed9am   23961 non-null  float64\n",
            " 7   WindSpeed3pm   23442 non-null  float64\n",
            " 8   Humidity9am    23876 non-null  float64\n",
            " 9   Humidity3pm    23487 non-null  float64\n",
            " 10  Pressure9am    17026 non-null  float64\n",
            " 11  Pressure3pm    17062 non-null  float64\n",
            " 12  Cloud9am       12440 non-null  float64\n",
            " 13  Cloud3pm       11253 non-null  float64\n",
            " 14  Temp9am        23997 non-null  float64\n",
            " 15  Temp3pm        23570 non-null  float64\n",
            " 16  RainToday      24203 non-null  float64\n",
            " 17  Day            24654 non-null  int32  \n",
            " 18  WindDir3pm_x   23032 non-null  float64\n",
            " 19  WindDir3pm_y   23032 non-null  float64\n",
            " 20  WindDir9am_x   21660 non-null  float64\n",
            " 21  WindDir9am_y   21660 non-null  float64\n",
            " 22  WindGustDir_x  21443 non-null  float64\n",
            " 23  WindGustDir_y  21443 non-null  float64\n",
            " 24  latitude       24654 non-null  float64\n",
            " 25  longitude      24654 non-null  float64\n",
            " 26  Year_2007      24654 non-null  float64\n",
            " 27  Year_2008      24654 non-null  float64\n",
            " 28  Year_2009      24654 non-null  float64\n",
            " 29  Year_2010      24654 non-null  float64\n",
            " 30  Year_2011      24654 non-null  float64\n",
            " 31  Year_2012      24654 non-null  float64\n",
            " 32  Year_2013      24654 non-null  float64\n",
            " 33  Year_2014      24654 non-null  float64\n",
            " 34  Year_2015      24654 non-null  float64\n",
            " 35  Year_2016      24654 non-null  float64\n",
            " 36  Year_2017      24654 non-null  float64\n",
            "dtypes: float64(36), int32(1)\n",
            "memory usage: 7.1 MB\n"
          ]
        }
      ],
      "source": [
        "X_train.info()"
      ]
    },
    {
      "cell_type": "markdown",
      "metadata": {
        "id": "DE9RylgKdql9"
      },
      "source": [
        "\n",
        "## Manejo de valores faltantes\n",
        "\n",
        "Se utiliza KNN Imputer para imputar los valores faltantes."
      ]
    },
    {
      "cell_type": "code",
      "execution_count": 206,
      "metadata": {},
      "outputs": [
        {
          "name": "stdout",
          "output_type": "stream",
          "text": [
            "<class 'pandas.core.frame.DataFrame'>\n",
            "Index: 24654 entries, 2194 to 23654\n",
            "Data columns (total 1 columns):\n",
            " #   Column        Non-Null Count  Dtype  \n",
            "---  ------        --------------  -----  \n",
            " 0   RainTomorrow  24203 non-null  float64\n",
            "dtypes: float64(1)\n",
            "memory usage: 385.2 KB\n"
          ]
        }
      ],
      "source": [
        "y_train.info()"
      ]
    },
    {
      "cell_type": "code",
      "execution_count": 207,
      "metadata": {},
      "outputs": [
        {
          "data": {
            "text/plain": [
              "RainTomorrow    451\n",
              "dtype: int64"
            ]
          },
          "execution_count": 207,
          "metadata": {},
          "output_type": "execute_result"
        }
      ],
      "source": [
        "y_train.isna().sum()"
      ]
    },
    {
      "cell_type": "markdown",
      "metadata": {},
      "source": [
        "Se observa que y_train tiene 24654 datos, de los cuales 451 son datos faltantes. \n",
        "\n",
        "Esto representa aproximadamente 1.8% del dataset. Por eso se decide dropearlos."
      ]
    },
    {
      "cell_type": "code",
      "execution_count": 208,
      "metadata": {},
      "outputs": [],
      "source": [
        "# Hacer una funcion elegante y que no se note que esta gpteada, a mi no me da la cabeza a esta hora\n",
        "# Basicamente es eliminar una tupla de x_train si en el mismo indice y_train es nan\n",
        "\n",
        "for index, row in y_train.iterrows():\n",
        "    \n",
        "    if pd.isna(row['RainTomorrow']): \n",
        "        \n",
        "        X_train = X_train.drop(index = index)\n",
        "        y_train = y_train.drop(index = index)\n"
      ]
    },
    {
      "cell_type": "code",
      "execution_count": 209,
      "metadata": {},
      "outputs": [
        {
          "data": {
            "text/plain": [
              "RainTomorrow    0\n",
              "dtype: int64"
            ]
          },
          "execution_count": 209,
          "metadata": {},
          "output_type": "execute_result"
        }
      ],
      "source": [
        "y_train.isna().sum()"
      ]
    },
    {
      "cell_type": "code",
      "execution_count": 211,
      "metadata": {},
      "outputs": [],
      "source": [
        "knn = KNNImputer(n_neighbors=5)\n",
        "\n",
        "X_train = pd.DataFrame(knn.fit_transform(X_train), columns=X_train.columns)\n",
        "X_test = pd.DataFrame(knn.transform(X_test), columns=X_test.columns)"
      ]
    },
    {
      "cell_type": "markdown",
      "metadata": {},
      "source": [
        "\n",
        "## Visulizaciones de distribuciones"
      ]
    },
    {
      "cell_type": "code",
      "execution_count": 221,
      "metadata": {},
      "outputs": [
        {
          "data": {
            "image/png": "[encoded data removed]",
            "text/plain": [
              "<Figure size 2000x1700 with 42 Axes>"
            ]
          },
          "metadata": {},
          "output_type": "display_data"
        }
      ],
      "source": [
        "X_train.hist(figsize= (20,17), bins=100)\n",
        "\n",
        "plt.show()"
      ]
    },
    {
      "cell_type": "code",
      "execution_count": 222,
      "metadata": {},
      "outputs": [
        {
          "data": {
            "image/png": "[encoded data removed]",
            "text/plain": [
              "<Figure size 2000x1700 with 30 Axes>"
            ]
          },
          "metadata": {},
          "output_type": "display_data"
        }
      ],
      "source": [
        "df.hist(figsize= (20,17), bins=100)\n",
        "\n",
        "plt.show()"
      ]
    },
    {
      "cell_type": "code",
      "execution_count": 228,
      "metadata": {},
      "outputs": [
        {
          "data": {
            "application/vnd.plotly.v1+json": {
              "config": {
                "plotlyServerURL": "https://plot.ly"
              },
              "data": [
                {
                  "coloraxis": "coloraxis",
                  "hovertemplate": "Variables: %{x}<br>Variables: %{y}<br>color: %{z}<extra></extra>",
                  "name": "0",
                  "texttemplate": "%{z}",
                  "type": "heatmap",
                  "x": [
                    "MinTemp",
                    "MaxTemp",
                    "Rainfall",
                    "Evaporation",
                    "Sunshine",
                    "WindGustSpeed",
                    "WindSpeed9am",
                    "WindSpeed3pm",
                    "Humidity9am",
                    "Humidity3pm",
                    "Pressure9am",
                    "Pressure3pm",
                    "Cloud9am",
                    "Cloud3pm",
                    "Temp9am",
                    "Temp3pm",
                    "RainToday",
                    "Day",
                    "WindDir3pm_x",
                    "WindDir3pm_y",
                    "WindDir9am_x",
                    "WindDir9am_y",
                    "WindGustDir_x",
                    "WindGustDir_y",
                    "latitude",
                    "longitude",
                    "Year_2007",
                    "Year_2008",
                    "Year_2009",
                    "Year_2010",
                    "Year_2011",
                    "Year_2012",
                    "Year_2013",
                    "Year_2014",
                    "Year_2015",
                    "Year_2016",
                    "Year_2017"
                  ],
                  "xaxis": "x",
                  "y": [
                    "MinTemp",
                    "MaxTemp",
                    "Rainfall",
                    "Evaporation",
                    "Sunshine",
                    "WindGustSpeed",
                    "WindSpeed9am",
                    "WindSpeed3pm",
                    "Humidity9am",
                    "Humidity3pm",
                    "Pressure9am",
                    "Pressure3pm",
                    "Cloud9am",
                    "Cloud3pm",
                    "Temp9am",
                    "Temp3pm",
                    "RainToday",
                    "Day",
                    "WindDir3pm_x",
                    "WindDir3pm_y",
                    "WindDir9am_x",
                    "WindDir9am_y",
                    "WindGustDir_x",
                    "WindGustDir_y",
                    "latitude",
                    "longitude",
                    "Year_2007",
                    "Year_2008",
                    "Year_2009",
                    "Year_2010",
                    "Year_2011",
                    "Year_2012",
                    "Year_2013",
                    "Year_2014",
                    "Year_2015",
                    "Year_2016",
                    "Year_2017"
                  ],
                  "yaxis": "y",
                  "z": [
                    [
                      1,
                      0.7028480397125704,
                      0.06880671091965924,
                      0.48683182598315905,
                      0.06284196577075163,
                      0.08987257487106788,
                      0.1128746829449613,
                      0.1506333291180258,
                      -0.12068433799791148,
                      0.09382701613646191,
                      -0.3438577842630609,
                      -0.3278157687273299,
                      0.11068918839371525,
                      0.046976520078816225,
                      0.9072839207721536,
                      0.682448382609841,
                      0.08303007203322738,
                      -0.22491616736241143,
                      0.2975660333131392,
                      -0.10997876106547252,
                      0.16629984290422764,
                      -0.0531105169264611,
                      0.26721477099977736,
                      -0.06308206141437164,
                      0.4500918631043788,
                      0.12064459900304363,
                      0.006502318225191439,
                      -0.0529046652427219,
                      0.015864789372144084,
                      0.0017808179503134034,
                      -0.004744703147953297,
                      -0.050760562532024024,
                      -0.024515565460561908,
                      0.010554657236382624,
                      0.00209060065338916,
                      0.020045083655989313,
                      0.06974969646513082
                    ],
                    [
                      0.7028480397125704,
                      1,
                      -0.10955536811070803,
                      0.5940803708673258,
                      0.46435293191973676,
                      -0.07618511305488203,
                      -0.19640774769367814,
                      -0.01745753352603212,
                      -0.3321135024291115,
                      -0.4679457249354925,
                      -0.24816961137917687,
                      -0.3226452318020892,
                      -0.23485792955892523,
                      -0.3014380518612165,
                      0.8661581223861362,
                      0.9810787347918611,
                      -0.19000269991319207,
                      -0.17008907832048545,
                      0.18302125960037963,
                      0.0800547163921672,
                      0.2518796987924911,
                      0.11141271318324225,
                      0.2229755726643413,
                      0.06991825335907972,
                      0.20985178638539234,
                      -0.10988396947304913,
                      0.01940459550514228,
                      -0.0030629374299813053,
                      0.01713612419650492,
                      -0.016995788562161617,
                      -0.026977753453250534,
                      -0.04520851614233821,
                      -0.0003536102207567008,
                      0.00745070653381602,
                      0.00004159765558249819,
                      0.014264519014822792,
                      0.06479192084181516
                    ],
                    [
                      0.06880671091965924,
                      -0.10955536811070803,
                      1,
                      -0.049391001896880275,
                      -0.23023853589571217,
                      0.16860268065880482,
                      0.14027815916264755,
                      0.0747136663364592,
                      0.23553363887886838,
                      0.2581130540352332,
                      -0.13568449781558875,
                      -0.08986169128340289,
                      0.2366338674953356,
                      0.1981794513505659,
                      -0.021322488881934352,
                      -0.10783491291925594,
                      0.539325894770725,
                      -0.02087748540564871,
                      -0.024750872964819863,
                      -0.09024318418805054,
                      -0.06609813293331901,
                      -0.08265870640154681,
                      -0.004114789875460739,
                      -0.06911107448930925,
                      0.018748419430335464,
                      0.04903767572140825,
                      0.004390861988783028,
                      -0.015174431509460413,
                      -0.022006862744958892,
                      0.004486273318146085,
                      0.022462742959804834,
                      0.005077783233593281,
                      0.0006616303117187547,
                      -0.01387424963076024,
                      -0.0008860650034061369,
                      0.009045886970675548,
                      0.003241860894878098
                    ],
                    [
                      0.48683182598315905,
                      0.5940803708673258,
                      -0.049391001896880275,
                      1,
                      0.40159201680165557,
                      0.20626813704589786,
                      0.12702768728745384,
                      0.16094784422500827,
                      -0.4337586117359349,
                      -0.3016874193196626,
                      -0.37660385591892875,
                      -0.37619873010698646,
                      -0.07115857960246805,
                      -0.126445920592956,
                      0.5814131782352283,
                      0.572336705741643,
                      -0.12917917790667371,
                      -0.06160908045809474,
                      0.08628501787365098,
                      -0.062182957874107485,
                      0.20300682907228315,
                      -0.03959481533336869,
                      0.15759370009361215,
                      -0.07147698980578024,
                      0.057106323751891425,
                      -0.1239016379311541,
                      0.019456439729592875,
                      0.03883154109603298,
                      0.032128908775748574,
                      -0.009401500313945852,
                      -0.016639175369402535,
                      -0.04179264550162669,
                      -0.009412958576170227,
                      -0.005399992265656743,
                      0.00016131800512445818,
                      0.012335459250486843,
                      0.02117370661293518
                    ],
                    [
                      0.06284196577075163,
                      0.46435293191973676,
                      -0.23023853589571217,
                      0.40159201680165557,
                      1,
                      -0.00007426378892294519,
                      -0.00401435064596982,
                      0.07801956596044872,
                      -0.5451121602510645,
                      -0.72889079218134,
                      -0.037509219450594655,
                      -0.07439721352835785,
                      -0.5653846089929656,
                      -0.6327377362779342,
                      0.2799188352440789,
                      0.49067663986247817,
                      -0.30706641385402955,
                      0.058238033059435444,
                      -0.08893155132868467,
                      -0.0005210418257218393,
                      0.12048860112807389,
                      0.03551284949977229,
                      -0.023977561479521885,
                      -0.0324127654840729,
                      0.09849072302819316,
                      -0.1979123857861069,
                      0.011785750561253286,
                      0.05582074301597825,
                      0.028569181154556995,
                      -0.00862574031014716,
                      -0.03649511998375781,
                      -0.03141788768449155,
                      0.02421607118646001,
                      0.0054848964804909426,
                      -0.0061063227098390295,
                      0.006984304661106631,
                      -0.015776066683213998
                    ],
                    [
                      0.08987257487106788,
                      -0.07618511305488203,
                      0.16860268065880482,
                      0.20626813704589786,
                      -0.00007426378892294519,
                      1,
                      0.5930762728017718,
                      0.68278170408711,
                      -0.14153920186937796,
                      0.08169832785463708,
                      -0.48376132548013306,
                      -0.4205670585020848,
                      0.0965010484204085,
                      0.1512909439703426,
                      0.03987644492032335,
                      -0.10856700703706695,
                      0.18183832434236935,
                      0.08147917150093471,
                      -0.20711443188060694,
                      -0.05029604749995259,
                      -0.13257114281430096,
                      0.0499515706813184,
                      -0.20824855734503828,
                      -0.04322599437772979,
                      -0.05177122044148119,
                      0.10111751791549861,
                      0.008201114775764363,
                      0.017926052535565777,
                      0.047035097029596976,
                      -0.0052936060884487745,
                      0.0038123781808865067,
                      -0.008555082323697644,
                      0.008303910168927743,
                      -0.017719622555594693,
                      -0.025831594653036718,
                      0.013832755230627184,
                      -0.034513551005736255
                    ],
                    [
                      0.1128746829449613,
                      -0.19640774769367814,
                      0.14027815916264755,
                      0.12702768728745384,
                      -0.00401435064596982,
                      0.5930762728017718,
                      1,
                      0.5309363737650967,
                      -0.1631026281558414,
                      0.17556196372337485,
                      -0.24744276888501884,
                      -0.14453750659491862,
                      0.12496355305626847,
                      0.1758136386283539,
                      0.013310054451841191,
                      -0.2053835494612661,
                      0.16705299213428346,
                      0.03764758072428196,
                      -0.07283176678366975,
                      -0.1669377429889194,
                      -0.06836519909784236,
                      -0.08847684892797684,
                      -0.06797138737235836,
                      -0.14589561995265307,
                      0.14411575171468283,
                      0.13699924573151326,
                      -0.01209109994839636,
                      -0.01686921381289913,
                      0.04196116728429094,
                      0.00870602521117882,
                      0.012124253926332387,
                      -0.0018072202550608177,
                      0.0047953351937620224,
                      -0.028947996676365342,
                      -0.023452529872602313,
                      0.008171331665828962,
                      -0.015510241649575563
                    ],
                    [
                      0.1506333291180258,
                      -0.01745753352603212,
                      0.0747136663364592,
                      0.16094784422500827,
                      0.07801956596044872,
                      0.68278170408711,
                      0.5309363737650967,
                      1,
                      -0.1317733397860416,
                      0.07598878146479467,
                      -0.3056957009662739,
                      -0.24825613010930817,
                      0.05896339401191122,
                      0.09536203345870986,
                      0.12545343615014135,
                      -0.040084749130295395,
                      0.09159718491979899,
                      0.07419608921500423,
                      -0.11784629047453439,
                      -0.06257770058914149,
                      -0.0800742774684346,
                      0.02894695754449903,
                      -0.1205075718966313,
                      -0.009506567045164985,
                      0.06911107642226948,
                      0.1332912304416971,
                      0.0013792210971941353,
                      0.01977572504478378,
                      0.050461257142484936,
                      0.003816441372022688,
                      -0.01047262715716266,
                      -0.012632881940989157,
                      0.017386139697710922,
                      -0.019270290660047318,
                      -0.02427303796989194,
                      0.011728812549921301,
                      -0.03598540522826791
                    ],
                    [
                      -0.12068433799791148,
                      -0.3321135024291115,
                      0.23553363887886838,
                      -0.4337586117359349,
                      -0.5451121602510645,
                      -0.14153920186937796,
                      -0.1631026281558414,
                      -0.1317733397860416,
                      1,
                      0.5709031170910268,
                      0.1171333652655517,
                      0.12173638068364971,
                      0.47668391683366546,
                      0.3445581371091876,
                      -0.34845685614961625,
                      -0.3198960456654248,
                      0.333624116480377,
                      -0.11836350896169012,
                      0.0567760416556069,
                      0.07022042971268995,
                      -0.038830569592538174,
                      -0.02306468462725217,
                      0.06580892240823372,
                      0.07357980277211325,
                      -0.08475740647337762,
                      0.167943165496039,
                      -0.004195779986728669,
                      -0.02027384375189791,
                      -0.03303474998905888,
                      0.012419659065223245,
                      0.030009186862899304,
                      -0.0007750073246071746,
                      -0.03314294996635,
                      -0.002256456042690397,
                      0.011818371335159748,
                      -0.0008376824642310933,
                      0.035782232248364354
                    ],
                    [
                      0.09382701613646191,
                      -0.4679457249354925,
                      0.2581130540352332,
                      -0.3016874193196626,
                      -0.72889079218134,
                      0.08169832785463708,
                      0.17556196372337485,
                      0.07598878146479467,
                      0.5709031170910268,
                      1,
                      -0.020076536343437316,
                      0.050141970207947244,
                      0.501692951193679,
                      0.6075067714201948,
                      -0.156669327495208,
                      -0.5166891146495981,
                      0.3511515189690845,
                      -0.05193811594718013,
                      0.14717109674190676,
                      -0.09301058359204564,
                      -0.09063729937694241,
                      -0.10195175263492233,
                      0.07324463009789269,
                      -0.045586200914129744,
                      0.109851742100323,
                      0.26518047586224336,
                      -0.020630705269941936,
                      -0.06540273369940634,
                      -0.030037235165033108,
                      0.011133149788557204,
                      0.03399501301341447,
                      0.00749177203160098,
                      -0.031970565769472464,
                      0.0017555497917813986,
                      0.010122627107857007,
                      0.01094597939178812,
                      0.027457180605043575
                    ],
                    [
                      -0.3438577842630609,
                      -0.24816961137917687,
                      -0.13568449781558875,
                      -0.37660385591892875,
                      -0.037509219450594655,
                      -0.48376132548013306,
                      -0.24744276888501884,
                      -0.3056957009662739,
                      0.1171333652655517,
                      -0.020076536343437316,
                      1,
                      0.9603961931619264,
                      -0.09600144328792659,
                      -0.08385032700204699,
                      -0.32498571402128135,
                      -0.21100647676008166,
                      -0.1531318818581546,
                      0.031333286308604325,
                      0.22635998729291165,
                      -0.01984635379873294,
                      0.10307592826296863,
                      -0.12792455835353553,
                      0.20286150549369356,
                      -0.02294851612785989,
                      -0.03094510760123793,
                      0.001264976854797249,
                      -0.011777745555308531,
                      -0.02171654261812915,
                      -0.040587163478472375,
                      0.02311659135246599,
                      -0.018033427395427386,
                      0.011368931733333316,
                      -0.019594277736991256,
                      0.02231183372296477,
                      0.06204695079515228,
                      -0.045347862214137634,
                      0.021965033259969974
                    ],
                    [
                      -0.3278157687273299,
                      -0.3226452318020892,
                      -0.08986169128340289,
                      -0.37619873010698646,
                      -0.07439721352835785,
                      -0.4205670585020848,
                      -0.14453750659491862,
                      -0.24825613010930817,
                      0.12173638068364971,
                      0.050141970207947244,
                      0.9603961931619264,
                      1,
                      -0.04496301739533655,
                      -0.029169803512608918,
                      -0.340304623368184,
                      -0.29010557591966807,
                      -0.08613509755934844,
                      0.019489161486199807,
                      0.19243038297684065,
                      -0.12663692279409783,
                      0.053894502397888705,
                      -0.1996136551399518,
                      0.17074173257237452,
                      -0.1136413107949813,
                      -0.011454885128760101,
                      0.009242302929674893,
                      -0.01382129490272106,
                      -0.02387765835906874,
                      -0.04055190213125982,
                      0.02536885084346449,
                      -0.012128008054624075,
                      0.01180903900800315,
                      -0.02344778805107911,
                      0.0209991739156413,
                      0.06333259049523074,
                      -0.05037502801081822,
                      0.024313893900495775
                    ],
                    [
                      0.11068918839371525,
                      -0.23485792955892523,
                      0.2366338674953356,
                      -0.07115857960246805,
                      -0.5653846089929656,
                      0.0965010484204085,
                      0.12496355305626847,
                      0.05896339401191122,
                      0.47668391683366546,
                      0.501692951193679,
                      -0.09600144328792659,
                      -0.04496301739533655,
                      1,
                      0.5729204471104709,
                      -0.09735254175362065,
                      -0.24311732430740324,
                      0.3203320658045113,
                      -0.051601905309569554,
                      0.04791972493479687,
                      -0.02809408737328599,
                      -0.0008982444556979426,
                      -0.11052971440647516,
                      0.06815346518579993,
                      -0.005803295750459507,
                      -0.05314745751789506,
                      0.1333582824734609,
                      0.011282562026041712,
                      -0.020337087964527774,
                      -0.0222870034231299,
                      0.012244937907798136,
                      0.016472776133265102,
                      -0.01282987396519772,
                      -0.028679933478687775,
                      0.0018846518695951546,
                      0.005698896116178366,
                      0.011756606540175435,
                      0.03153885034034815
                    ],
                    [
                      0.046976520078816225,
                      -0.3014380518612165,
                      0.1981794513505659,
                      -0.126445920592956,
                      -0.6327377362779342,
                      0.1512909439703426,
                      0.1758136386283539,
                      0.09536203345870986,
                      0.3445581371091876,
                      0.6075067714201948,
                      -0.08385032700204699,
                      -0.029169803512608918,
                      0.5729204471104709,
                      1,
                      -0.11333442457910631,
                      -0.3408143772818509,
                      0.26972494869542674,
                      -0.002940917205926475,
                      0.05581332246342496,
                      -0.02984808941546454,
                      -0.048049730113496086,
                      -0.051173968069591035,
                      0.04045578477854927,
                      -0.008059242634116092,
                      -0.09284683848128476,
                      0.15116798013946675,
                      0.008173423007203681,
                      -0.026613538361077545,
                      -0.023500849834721924,
                      0.013347667821904961,
                      0.02451463605242763,
                      -0.00048497876789559916,
                      -0.024018730513649892,
                      -0.01056478662499915,
                      0.003714132881339699,
                      0.01748447508565359,
                      0.014849147949481294
                    ],
                    [
                      0.9072839207721536,
                      0.8661581223861362,
                      -0.021322488881934352,
                      0.5814131782352283,
                      0.2799188352440789,
                      0.03987644492032335,
                      0.013310054451841191,
                      0.12545343615014135,
                      -0.34845685614961625,
                      -0.156669327495208,
                      -0.32498571402128135,
                      -0.340304623368184,
                      -0.09735254175362065,
                      -0.11333442457910631,
                      1,
                      0.8426045862430959,
                      -0.06304473336575524,
                      -0.16295458790004091,
                      0.2549420860747954,
                      -0.05376231150910357,
                      0.2105012212714316,
                      0.02848001165291906,
                      0.24597704310325272,
                      -0.015476271915416352,
                      0.40701823374645374,
                      0.014897048154187572,
                      0.007570747081933528,
                      -0.04071369237119777,
                      0.013414709120206862,
                      -0.007188721599947622,
                      -0.013767835406176945,
                      -0.04232411995971451,
                      -0.007679322329972641,
                      0.007187170716051665,
                      0.00011590194660835583,
                      0.019714649862882353,
                      0.06360138085651126
                    ],
                    [
                      0.682448382609841,
                      0.9810787347918611,
                      -0.10783491291925594,
                      0.572336705741643,
                      0.49067663986247817,
                      -0.10856700703706695,
                      -0.2053835494612661,
                      -0.040084749130295395,
                      -0.3198960456654248,
                      -0.5166891146495981,
                      -0.21100647676008166,
                      -0.29010557591966807,
                      -0.24311732430740324,
                      -0.3408143772818509,
                      0.8426045862430959,
                      1,
                      -0.18934930209351178,
                      -0.18129207454823024,
                      0.18522724100965754,
                      0.08671860465405741,
                      0.2584970347662918,
                      0.0978980793994351,
                      0.2311923175910366,
                      0.0725847603702208,
                      0.21676769940689097,
                      -0.10947495459108596,
                      0.018718332089899717,
                      -0.0029421810135289127,
                      0.020233989744356248,
                      -0.014425315471525648,
                      -0.02655903273053154,
                      -0.0421385034558436,
                      -0.000879966587403801,
                      0.009306191227382021,
                      -0.0022647664057607784,
                      0.009311227660180098,
                      0.06055384806552408
                    ],
                    [
                      0.08303007203322738,
                      -0.19000269991319207,
                      0.539325894770725,
                      -0.12917917790667371,
                      -0.30706641385402955,
                      0.18183832434236935,
                      0.16705299213428346,
                      0.09159718491979899,
                      0.333624116480377,
                      0.3511515189690845,
                      -0.1531318818581546,
                      -0.08613509755934844,
                      0.3203320658045113,
                      0.26972494869542674,
                      -0.06304473336575524,
                      -0.18934930209351178,
                      1,
                      -0.0020932887661348418,
                      -0.05556718732691111,
                      -0.13343477527806982,
                      -0.11815289299453985,
                      -0.10625479924047317,
                      -0.049042927930366145,
                      -0.10093731669313416,
                      0.0544328655767487,
                      0.05834272439850258,
                      0.011200300863365494,
                      -0.010119263866231243,
                      -0.013219356312709905,
                      0.0029359503701131624,
                      0.017086278929763984,
                      0.006065322686033864,
                      -0.024791353480330777,
                      -0.004577051857018992,
                      0.008811201090477337,
                      0.006929160306136861,
                      0.005161000082908528
                    ],
                    [
                      -0.22491616736241143,
                      -0.17008907832048545,
                      -0.02087748540564871,
                      -0.06160908045809474,
                      0.058238033059435444,
                      0.08147917150093471,
                      0.03764758072428196,
                      0.07419608921500423,
                      -0.11836350896169012,
                      -0.05193811594718013,
                      0.031333286308604325,
                      0.019489161486199807,
                      -0.051601905309569554,
                      -0.002940917205926475,
                      -0.16295458790004091,
                      -0.18129207454823024,
                      -0.0020932887661348418,
                      1,
                      -0.08843304552461564,
                      0.045954398103108876,
                      -0.08614463589656561,
                      0.06560863021501738,
                      -0.12519849378701853,
                      0.04126625927573937,
                      0.0010383899134895488,
                      -0.013013211790106474,
                      0.07034829314161684,
                      0.08274501910569103,
                      0.002686110452603913,
                      0.01898776531425899,
                      0.03884406004616787,
                      -0.038160578741422785,
                      0.05206749803258397,
                      0.013499535967620026,
                      0.00940234291905847,
                      0.007137435265716917,
                      -0.21093075249156623
                    ],
                    [
                      0.2975660333131392,
                      0.18302125960037963,
                      -0.024750872964819863,
                      0.08628501787365098,
                      -0.08893155132868467,
                      -0.20711443188060694,
                      -0.07283176678366975,
                      -0.11784629047453439,
                      0.0567760416556069,
                      0.14717109674190676,
                      0.22635998729291165,
                      0.19243038297684065,
                      0.04791972493479687,
                      0.05581332246342496,
                      0.2549420860747954,
                      0.18522724100965754,
                      -0.05556718732691111,
                      -0.08843304552461564,
                      1,
                      -0.004482813336817523,
                      0.3778892708928132,
                      -0.1475654012591122,
                      0.6723275692744048,
                      -0.004159618581263521,
                      0.157929769870993,
                      0.20210166695869028,
                      0.009399266423858275,
                      -0.045068277222189534,
                      0.007300529631193925,
                      0.011688864932920155,
                      0.009265603360384834,
                      -0.0036102298141136484,
                      -0.018686478121188732,
                      0.022971554337385822,
                      -0.0008549740925002969,
                      -0.026543625647505037,
                      0.023879727078681672
                    ],
                    [
                      -0.10997876106547252,
                      0.0800547163921672,
                      -0.09024318418805054,
                      -0.062182957874107485,
                      -0.0005210418257218393,
                      -0.05029604749995259,
                      -0.1669377429889194,
                      -0.06257770058914149,
                      0.07022042971268995,
                      -0.09301058359204564,
                      -0.01984635379873294,
                      -0.12663692279409783,
                      -0.02809408737328599,
                      -0.02984808941546454,
                      -0.05376231150910357,
                      0.08671860465405741,
                      -0.13343477527806982,
                      0.045954398103108876,
                      -0.004482813336817523,
                      1,
                      0.04794047871341381,
                      0.4584840661334591,
                      0.03412926304061083,
                      0.6458934588146792,
                      -0.19825842117877102,
                      0.08255813940183437,
                      0.017553341756071737,
                      0.023796707489092503,
                      0.00180965539712463,
                      0.0003156707753985536,
                      -0.013984821748663003,
                      -0.007994521176573925,
                      0.005901698567554715,
                      0.001966374065349483,
                      -0.005542877572554557,
                      0.02882720904048079,
                      -0.03526878160746008
                    ],
                    [
                      0.16629984290422764,
                      0.2518796987924911,
                      -0.06609813293331901,
                      0.20300682907228315,
                      0.12048860112807389,
                      -0.13257114281430096,
                      -0.06836519909784236,
                      -0.0800742774684346,
                      -0.038830569592538174,
                      -0.09063729937694241,
                      0.10307592826296863,
                      0.053894502397888705,
                      -0.0008982444556979426,
                      -0.048049730113496086,
                      0.2105012212714316,
                      0.2584970347662918,
                      -0.11815289299453985,
                      -0.08614463589656561,
                      0.3778892708928132,
                      0.04794047871341381,
                      1,
                      0.04080620096799195,
                      0.4634221475385234,
                      0.03215447536954605,
                      0.19475817131462253,
                      -0.1464513971967233,
                      0.019060732542040937,
                      0.03420174193784715,
                      0.008949760489056708,
                      0.01455314825487235,
                      -0.005311316418583736,
                      -0.021491191323305875,
                      -0.02455052612302641,
                      -0.0005677751737074644,
                      0.006268809445516233,
                      -0.020671075885904906,
                      0.03228781497327944
                    ],
                    [
                      -0.0531105169264611,
                      0.11141271318324225,
                      -0.08265870640154681,
                      -0.03959481533336869,
                      0.03551284949977229,
                      0.0499515706813184,
                      -0.08847684892797684,
                      0.02894695754449903,
                      -0.02306468462725217,
                      -0.10195175263492233,
                      -0.12792455835353553,
                      -0.1996136551399518,
                      -0.11052971440647516,
                      -0.051173968069591035,
                      0.02848001165291906,
                      0.0978980793994351,
                      -0.10625479924047317,
                      0.06560863021501738,
                      -0.1475654012591122,
                      0.4584840661334591,
                      0.04080620096799195,
                      1,
                      -0.10528364880963154,
                      0.4691015217433594,
                      -0.04256291369982749,
                      -0.04790710534978671,
                      -0.007974112228028732,
                      -0.0007450565889319411,
                      0.009322509485650674,
                      0.005605942731812263,
                      -0.011904538906141765,
                      -0.0020919615629324097,
                      0.013837713239494034,
                      -0.004247478965168785,
                      -0.008454724742873508,
                      0.02767252374703164,
                      -0.03921102738941746
                    ],
                    [
                      0.26721477099977736,
                      0.2229755726643413,
                      -0.004114789875460739,
                      0.15759370009361215,
                      -0.023977561479521885,
                      -0.20824855734503828,
                      -0.06797138737235836,
                      -0.1205075718966313,
                      0.06580892240823372,
                      0.07324463009789269,
                      0.20286150549369356,
                      0.17074173257237452,
                      0.06815346518579993,
                      0.04045578477854927,
                      0.24597704310325272,
                      0.2311923175910366,
                      -0.049042927930366145,
                      -0.12519849378701853,
                      0.6723275692744048,
                      0.03412926304061083,
                      0.4634221475385234,
                      -0.10528364880963154,
                      1,
                      0.052518208766805775,
                      0.13788704902690596,
                      0.1325443442647487,
                      0.025569495342519972,
                      -0.015807687781515083,
                      -0.004677171435491961,
                      0.021272692018985247,
                      0.0099357697405234,
                      -0.013781582144779148,
                      -0.020942286241465276,
                      0.009840106318896683,
                      0.006109643489491806,
                      -0.03151578453771517,
                      0.037189441420475956
                    ],
                    [
                      -0.06308206141437164,
                      0.06991825335907972,
                      -0.06911107448930925,
                      -0.07147698980578024,
                      -0.0324127654840729,
                      -0.04322599437772979,
                      -0.14589561995265307,
                      -0.009506567045164985,
                      0.07357980277211325,
                      -0.045586200914129744,
                      -0.02294851612785989,
                      -0.1136413107949813,
                      -0.005803295750459507,
                      -0.008059242634116092,
                      -0.015476271915416352,
                      0.0725847603702208,
                      -0.10093731669313416,
                      0.04126625927573937,
                      -0.004159618581263521,
                      0.6458934588146792,
                      0.03215447536954605,
                      0.4691015217433594,
                      0.052518208766805775,
                      1,
                      -0.11626489538039479,
                      0.0749039753758249,
                      0.015810811254437833,
                      0.02752451625977088,
                      0.0006269720931551166,
                      0.008101593282815848,
                      -0.01756295012655985,
                      -0.008085375648279968,
                      0.012145808264257287,
                      -0.0010298149580700883,
                      -0.011523511979164156,
                      0.02975689311791332,
                      -0.03845634330594174
                    ],
                    [
                      0.4500918631043788,
                      0.20985178638539234,
                      0.018748419430335464,
                      0.057106323751891425,
                      0.09849072302819316,
                      -0.05177122044148119,
                      0.14411575171468283,
                      0.06911107642226948,
                      -0.08475740647337762,
                      0.109851742100323,
                      -0.03094510760123793,
                      -0.011454885128760101,
                      -0.05314745751789506,
                      -0.09284683848128476,
                      0.40701823374645374,
                      0.21676769940689097,
                      0.0544328655767487,
                      0.0010383899134895488,
                      0.157929769870993,
                      -0.19825842117877102,
                      0.19475817131462253,
                      -0.04256291369982749,
                      0.13788704902690596,
                      -0.11626489538039479,
                      1,
                      0.16944175308262857,
                      -0.04865461972522283,
                      -0.05743731294907734,
                      0.008723738474282794,
                      0.01415346566098683,
                      0.00495029548826695,
                      0.005079371037144062,
                      0.002918978504165714,
                      -0.0014947953216446262,
                      0.0009205774870027601,
                      0.0005630538790418499,
                      -0.0025795154444414724
                    ],
                    [
                      0.12064459900304363,
                      -0.10988396947304913,
                      0.04903767572140825,
                      -0.1239016379311541,
                      -0.1979123857861069,
                      0.10111751791549861,
                      0.13699924573151326,
                      0.1332912304416971,
                      0.167943165496039,
                      0.26518047586224336,
                      0.001264976854797249,
                      0.009242302929674893,
                      0.1333582824734609,
                      0.15116798013946675,
                      0.014897048154187572,
                      -0.10947495459108596,
                      0.05834272439850258,
                      -0.013013211790106474,
                      0.20210166695869028,
                      0.08255813940183437,
                      -0.1464513971967233,
                      -0.04790710534978671,
                      0.1325443442647487,
                      0.0749039753758249,
                      0.16944175308262857,
                      1,
                      0.006368375619776235,
                      -0.08624067857235107,
                      0.0024099123105630013,
                      0.006336061705307738,
                      0.007637911333159668,
                      0.006998965382608129,
                      0.003709305618974247,
                      0.009783595116027593,
                      -0.0006188812333117859,
                      0.0029026684397762664,
                      -0.000491061019152356
                    ],
                    [
                      0.006502318225191439,
                      0.01940459550514228,
                      0.004390861988783028,
                      0.019456439729592875,
                      0.011785750561253286,
                      0.008201114775764363,
                      -0.01209109994839636,
                      0.0013792210971941353,
                      -0.004195779986728669,
                      -0.020630705269941936,
                      -0.011777745555308531,
                      -0.01382129490272106,
                      0.011282562026041712,
                      0.008173423007203681,
                      0.007570747081933528,
                      0.018718332089899717,
                      0.011200300863365494,
                      0.07034829314161684,
                      0.009399266423858275,
                      0.017553341756071737,
                      0.019060732542040937,
                      -0.007974112228028732,
                      0.025569495342519972,
                      0.015810811254437833,
                      -0.04865461972522283,
                      0.006368375619776235,
                      1,
                      -0.0071546480449725305,
                      -0.017449338874497657,
                      -0.0170377848414691,
                      -0.01685116627800824,
                      -0.016659835813156533,
                      -0.016769823384383924,
                      -0.017752938623672207,
                      -0.0175116621995417,
                      -0.017508202857824666,
                      -0.0116856126626613
                    ],
                    [
                      -0.0529046652427219,
                      -0.0030629374299813053,
                      -0.015174431509460413,
                      0.03883154109603298,
                      0.05582074301597825,
                      0.017926052535565777,
                      -0.01686921381289913,
                      0.01977572504478378,
                      -0.02027384375189791,
                      -0.06540273369940634,
                      -0.02171654261812915,
                      -0.02387765835906874,
                      -0.020337087964527774,
                      -0.026613538361077545,
                      -0.04071369237119777,
                      -0.0029421810135289127,
                      -0.010119263866231243,
                      0.08274501910569103,
                      -0.045068277222189534,
                      0.023796707489092503,
                      0.03420174193784715,
                      -0.0007450565889319411,
                      -0.015807687781515083,
                      0.02752451625977088,
                      -0.05743731294907734,
                      -0.08624067857235107,
                      -0.0071546480449725305,
                      1,
                      -0.05481327222419737,
                      -0.0535204654646059,
                      -0.05293424416449506,
                      -0.05233322145927306,
                      -0.05267872329898914,
                      -0.055766964270549446,
                      -0.05500904728513925,
                      -0.05499818052161287,
                      -0.03670779005393276
                    ],
                    [
                      0.015864789372144084,
                      0.01713612419650492,
                      -0.022006862744958892,
                      0.032128908775748574,
                      0.028569181154556995,
                      0.047035097029596976,
                      0.04196116728429094,
                      0.050461257142484936,
                      -0.03303474998905888,
                      -0.030037235165033108,
                      -0.040587163478472375,
                      -0.04055190213125982,
                      -0.0222870034231299,
                      -0.023500849834721924,
                      0.013414709120206862,
                      0.020233989744356248,
                      -0.013219356312709905,
                      0.002686110452603913,
                      0.007300529631193925,
                      0.00180965539712463,
                      0.008949760489056708,
                      0.009322509485650674,
                      -0.004677171435491961,
                      0.0006269720931551166,
                      0.008723738474282794,
                      0.0024099123105630013,
                      -0.017449338874497657,
                      -0.05481327222419737,
                      1,
                      -0.1305300739802279,
                      -0.12910034968676407,
                      -0.12763452651995325,
                      -0.12847716457078084,
                      -0.13600901839505614,
                      -0.13416054866823882,
                      -0.13413404591952993,
                      -0.08952595067692738
                    ],
                    [
                      0.0017808179503134034,
                      -0.016995788562161617,
                      0.004486273318146085,
                      -0.009401500313945852,
                      -0.00862574031014716,
                      -0.0052936060884487745,
                      0.00870602521117882,
                      0.003816441372022688,
                      0.012419659065223245,
                      0.011133149788557204,
                      0.02311659135246599,
                      0.02536885084346449,
                      0.012244937907798136,
                      0.013347667821904961,
                      -0.007188721599947622,
                      -0.014425315471525648,
                      0.0029359503701131624,
                      0.01898776531425899,
                      0.011688864932920155,
                      0.0003156707753985536,
                      0.01455314825487235,
                      0.005605942731812263,
                      0.021272692018985247,
                      0.008101593282815848,
                      0.01415346566098683,
                      0.006336061705307738,
                      -0.0170377848414691,
                      -0.0535204654646059,
                      -0.1305300739802279,
                      1,
                      -0.1260554337755584,
                      -0.12462418300374542,
                      -0.12544694688680594,
                      -0.1328011570284257,
                      -0.1309962846651818,
                      -0.13097040700107807,
                      -0.08741442276593925
                    ],
                    [
                      -0.004744703147953297,
                      -0.026977753453250534,
                      0.022462742959804834,
                      -0.016639175369402535,
                      -0.03649511998375781,
                      0.0038123781808865067,
                      0.012124253926332387,
                      -0.01047262715716266,
                      0.030009186862899304,
                      0.03399501301341447,
                      -0.018033427395427386,
                      -0.012128008054624075,
                      0.016472776133265102,
                      0.02451463605242763,
                      -0.013767835406176945,
                      -0.02655903273053154,
                      0.017086278929763984,
                      0.03884406004616787,
                      0.009265603360384834,
                      -0.013984821748663003,
                      -0.005311316418583736,
                      -0.011904538906141765,
                      0.0099357697405234,
                      -0.01756295012655985,
                      0.00495029548826695,
                      0.007637911333159668,
                      -0.01685116627800824,
                      -0.05293424416449506,
                      -0.12910034968676407,
                      -0.1260554337755584,
                      1,
                      -0.12325914721880846,
                      -0.12407289919008878,
                      -0.13134655706832457,
                      -0.1295614538646748,
                      -0.1295358596442556,
                      -0.08645695357882728
                    ],
                    [
                      -0.050760562532024024,
                      -0.04520851614233821,
                      0.005077783233593281,
                      -0.04179264550162669,
                      -0.03141788768449155,
                      -0.008555082323697644,
                      -0.0018072202550608177,
                      -0.012632881940989157,
                      -0.0007750073246071746,
                      0.00749177203160098,
                      0.011368931733333316,
                      0.01180903900800315,
                      -0.01282987396519772,
                      -0.00048497876789559916,
                      -0.04232411995971451,
                      -0.0421385034558436,
                      0.006065322686033864,
                      -0.038160578741422785,
                      -0.0036102298141136484,
                      -0.007994521176573925,
                      -0.021491191323305875,
                      -0.0020919615629324097,
                      -0.013781582144779148,
                      -0.008085375648279968,
                      0.005079371037144062,
                      0.006998965382608129,
                      -0.016659835813156533,
                      -0.05233322145927306,
                      -0.12763452651995325,
                      -0.12462418300374542,
                      -0.12325914721880846,
                      1,
                      -0.12266415838925158,
                      -0.12985523015326433,
                      -0.12809039525746468,
                      -0.12806509163735125,
                      -0.0854753094098129
                    ],
                    [
                      -0.024515565460561908,
                      -0.0003536102207567008,
                      0.0006616303117187547,
                      -0.009412958576170227,
                      0.02421607118646001,
                      0.008303910168927743,
                      0.0047953351937620224,
                      0.017386139697710922,
                      -0.03314294996635,
                      -0.031970565769472464,
                      -0.019594277736991256,
                      -0.02344778805107911,
                      -0.028679933478687775,
                      -0.024018730513649892,
                      -0.007679322329972641,
                      -0.000879966587403801,
                      -0.024791353480330777,
                      0.05206749803258397,
                      -0.018686478121188732,
                      0.005901698567554715,
                      -0.02455052612302641,
                      0.013837713239494034,
                      -0.020942286241465276,
                      0.012145808264257287,
                      0.002918978504165714,
                      0.003709305618974247,
                      -0.016769823384383924,
                      -0.05267872329898914,
                      -0.12847716457078084,
                      -0.12544694688680594,
                      -0.12407289919008878,
                      -0.12266415838925158,
                      1,
                      -0.13071252920086057,
                      -0.12893604293550648,
                      -0.12891057226190353,
                      -0.08603961399164285
                    ],
                    [
                      0.010554657236382624,
                      0.00745070653381602,
                      -0.01387424963076024,
                      -0.005399992265656743,
                      0.0054848964804909426,
                      -0.017719622555594693,
                      -0.028947996676365342,
                      -0.019270290660047318,
                      -0.002256456042690397,
                      0.0017555497917813986,
                      0.02231183372296477,
                      0.0209991739156413,
                      0.0018846518695951546,
                      -0.01056478662499915,
                      0.007187170716051665,
                      0.009306191227382021,
                      -0.004577051857018992,
                      0.013499535967620026,
                      0.022971554337385822,
                      0.001966374065349483,
                      -0.0005677751737074644,
                      -0.004247478965168785,
                      0.009840106318896683,
                      -0.0010298149580700883,
                      -0.0014947953216446262,
                      0.009783595116027593,
                      -0.017752938623672207,
                      -0.055766964270549446,
                      -0.13600901839505614,
                      -0.1328011570284257,
                      -0.13134655706832457,
                      -0.12985523015326433,
                      -0.13071252920086057,
                      1,
                      -0.13649479807549494,
                      -0.13646783420743208,
                      -0.09108360603370805
                    ],
                    [
                      0.00209060065338916,
                      0.00004159765558249819,
                      -0.0008860650034061369,
                      0.00016131800512445818,
                      -0.0061063227098390295,
                      -0.025831594653036718,
                      -0.023452529872602313,
                      -0.02427303796989194,
                      0.011818371335159748,
                      0.010122627107857007,
                      0.06204695079515228,
                      0.06333259049523074,
                      0.005698896116178366,
                      0.003714132881339699,
                      0.00011590194660835583,
                      -0.0022647664057607784,
                      0.008811201090477337,
                      0.00940234291905847,
                      -0.0008549740925002969,
                      -0.005542877572554557,
                      0.006268809445516233,
                      -0.008454724742873508,
                      0.006109643489491806,
                      -0.011523511979164156,
                      0.0009205774870027601,
                      -0.0006188812333117859,
                      -0.0175116621995417,
                      -0.05500904728513925,
                      -0.13416054866823882,
                      -0.1309962846651818,
                      -0.1295614538646748,
                      -0.12809039525746468,
                      -0.12893604293550648,
                      -0.13649479807549494,
                      1,
                      -0.1346131288122071,
                      -0.0898457080593725
                    ],
                    [
                      0.020045083655989313,
                      0.014264519014822792,
                      0.009045886970675548,
                      0.012335459250486843,
                      0.006984304661106631,
                      0.013832755230627184,
                      0.008171331665828962,
                      0.011728812549921301,
                      -0.0008376824642310933,
                      0.01094597939178812,
                      -0.045347862214137634,
                      -0.05037502801081822,
                      0.011756606540175435,
                      0.01748447508565359,
                      0.019714649862882353,
                      0.009311227660180098,
                      0.006929160306136861,
                      0.007137435265716917,
                      -0.026543625647505037,
                      0.02882720904048079,
                      -0.020671075885904906,
                      0.02767252374703164,
                      -0.03151578453771517,
                      0.02975689311791332,
                      0.0005630538790418499,
                      0.0029026684397762664,
                      -0.017508202857824666,
                      -0.05499818052161287,
                      -0.13413404591952993,
                      -0.13097040700107807,
                      -0.1295358596442556,
                      -0.12806509163735125,
                      -0.12891057226190353,
                      -0.13646783420743208,
                      -0.1346131288122071,
                      1,
                      -0.08982795948688181
                    ],
                    [
                      0.06974969646513082,
                      0.06479192084181516,
                      0.003241860894878098,
                      0.02117370661293518,
                      -0.015776066683213998,
                      -0.034513551005736255,
                      -0.015510241649575563,
                      -0.03598540522826791,
                      0.035782232248364354,
                      0.027457180605043575,
                      0.021965033259969974,
                      0.024313893900495775,
                      0.03153885034034815,
                      0.014849147949481294,
                      0.06360138085651126,
                      0.06055384806552408,
                      0.005161000082908528,
                      -0.21093075249156623,
                      0.023879727078681672,
                      -0.03526878160746008,
                      0.03228781497327944,
                      -0.03921102738941746,
                      0.037189441420475956,
                      -0.03845634330594174,
                      -0.0025795154444414724,
                      -0.000491061019152356,
                      -0.0116856126626613,
                      -0.03670779005393276,
                      -0.08952595067692738,
                      -0.08741442276593925,
                      -0.08645695357882728,
                      -0.0854753094098129,
                      -0.08603961399164285,
                      -0.09108360603370805,
                      -0.0898457080593725,
                      -0.08982795948688181,
                      1
                    ]
                  ]
                }
              ],
              "layout": {
                "coloraxis": {
                  "colorscale": [
                    [
                      0,
                      "#440154"
                    ],
                    [
                      0.1111111111111111,
                      "#482878"
                    ],
                    [
                      0.2222222222222222,
                      "#3e4989"
                    ],
                    [
                      0.3333333333333333,
                      "#31688e"
                    ],
                    [
                      0.4444444444444444,
                      "#26828e"
                    ],
                    [
                      0.5555555555555556,
                      "#1f9e89"
                    ],
                    [
                      0.6666666666666666,
                      "#35b779"
                    ],
                    [
                      0.7777777777777778,
                      "#6ece58"
                    ],
                    [
                      0.8888888888888888,
                      "#b5de2b"
                    ],
                    [
                      1,
                      "#fde725"
                    ]
                  ]
                },
                "height": 800,
                "template": {
                  "data": {
                    "bar": [
                      {
                        "error_x": {
                          "color": "#2a3f5f"
                        },
                        "error_y": {
                          "color": "#2a3f5f"
                        },
                        "marker": {
                          "line": {
                            "color": "#E5ECF6",
                            "width": 0.5
                          },
                          "pattern": {
                            "fillmode": "overlay",
                            "size": 10,
                            "solidity": 0.2
                          }
                        },
                        "type": "bar"
                      }
                    ],
                    "barpolar": [
                      {
                        "marker": {
                          "line": {
                            "color": "#E5ECF6",
                            "width": 0.5
                          },
                          "pattern": {
                            "fillmode": "overlay",
                            "size": 10,
                            "solidity": 0.2
                          }
                        },
                        "type": "barpolar"
                      }
                    ],
                    "carpet": [
                      {
                        "aaxis": {
                          "endlinecolor": "#2a3f5f",
                          "gridcolor": "white",
                          "linecolor": "white",
                          "minorgridcolor": "white",
                          "startlinecolor": "#2a3f5f"
                        },
                        "baxis": {
                          "endlinecolor": "#2a3f5f",
                          "gridcolor": "white",
                          "linecolor": "white",
                          "minorgridcolor": "white",
                          "startlinecolor": "#2a3f5f"
                        },
                        "type": "carpet"
                      }
                    ],
                    "choropleth": [
                      {
                        "colorbar": {
                          "outlinewidth": 0,
                          "ticks": ""
                        },
                        "type": "choropleth"
                      }
                    ],
                    "contour": [
                      {
                        "colorbar": {
                          "outlinewidth": 0,
                          "ticks": ""
                        },
                        "colorscale": [
                          [
                            0,
                            "#0d0887"
                          ],
                          [
                            0.1111111111111111,
                            "#46039f"
                          ],
                          [
                            0.2222222222222222,
                            "#7201a8"
                          ],
                          [
                            0.3333333333333333,
                            "#9c179e"
                          ],
                          [
                            0.4444444444444444,
                            "#bd3786"
                          ],
                          [
                            0.5555555555555556,
                            "#d8576b"
                          ],
                          [
                            0.6666666666666666,
                            "#ed7953"
                          ],
                          [
                            0.7777777777777778,
                            "#fb9f3a"
                          ],
                          [
                            0.8888888888888888,
                            "#fdca26"
                          ],
                          [
                            1,
                            "#f0f921"
                          ]
                        ],
                        "type": "contour"
                      }
                    ],
                    "contourcarpet": [
                      {
                        "colorbar": {
                          "outlinewidth": 0,
                          "ticks": ""
                        },
                        "type": "contourcarpet"
                      }
                    ],
                    "heatmap": [
                      {
                        "colorbar": {
                          "outlinewidth": 0,
                          "ticks": ""
                        },
                        "colorscale": [
                          [
                            0,
                            "#0d0887"
                          ],
                          [
                            0.1111111111111111,
                            "#46039f"
                          ],
                          [
                            0.2222222222222222,
                            "#7201a8"
                          ],
                          [
                            0.3333333333333333,
                            "#9c179e"
                          ],
                          [
                            0.4444444444444444,
                            "#bd3786"
                          ],
                          [
                            0.5555555555555556,
                            "#d8576b"
                          ],
                          [
                            0.6666666666666666,
                            "#ed7953"
                          ],
                          [
                            0.7777777777777778,
                            "#fb9f3a"
                          ],
                          [
                            0.8888888888888888,
                            "#fdca26"
                          ],
                          [
                            1,
                            "#f0f921"
                          ]
                        ],
                        "type": "heatmap"
                      }
                    ],
                    "heatmapgl": [
                      {
                        "colorbar": {
                          "outlinewidth": 0,
                          "ticks": ""
                        },
                        "colorscale": [
                          [
                            0,
                            "#0d0887"
                          ],
                          [
                            0.1111111111111111,
                            "#46039f"
                          ],
                          [
                            0.2222222222222222,
                            "#7201a8"
                          ],
                          [
                            0.3333333333333333,
                            "#9c179e"
                          ],
                          [
                            0.4444444444444444,
                            "#bd3786"
                          ],
                          [
                            0.5555555555555556,
                            "#d8576b"
                          ],
                          [
                            0.6666666666666666,
                            "#ed7953"
                          ],
                          [
                            0.7777777777777778,
                            "#fb9f3a"
                          ],
                          [
                            0.8888888888888888,
                            "#fdca26"
                          ],
                          [
                            1,
                            "#f0f921"
                          ]
                        ],
                        "type": "heatmapgl"
                      }
                    ],
                    "histogram": [
                      {
                        "marker": {
                          "pattern": {
                            "fillmode": "overlay",
                            "size": 10,
                            "solidity": 0.2
                          }
                        },
                        "type": "histogram"
                      }
                    ],
                    "histogram2d": [
                      {
                        "colorbar": {
                          "outlinewidth": 0,
                          "ticks": ""
                        },
                        "colorscale": [
                          [
                            0,
                            "#0d0887"
                          ],
                          [
                            0.1111111111111111,
                            "#46039f"
                          ],
                          [
                            0.2222222222222222,
                            "#7201a8"
                          ],
                          [
                            0.3333333333333333,
                            "#9c179e"
                          ],
                          [
                            0.4444444444444444,
                            "#bd3786"
                          ],
                          [
                            0.5555555555555556,
                            "#d8576b"
                          ],
                          [
                            0.6666666666666666,
                            "#ed7953"
                          ],
                          [
                            0.7777777777777778,
                            "#fb9f3a"
                          ],
                          [
                            0.8888888888888888,
                            "#fdca26"
                          ],
                          [
                            1,
                            "#f0f921"
                          ]
                        ],
                        "type": "histogram2d"
                      }
                    ],
                    "histogram2dcontour": [
                      {
                        "colorbar": {
                          "outlinewidth": 0,
                          "ticks": ""
                        },
                        "colorscale": [
                          [
                            0,
                            "#0d0887"
                          ],
                          [
                            0.1111111111111111,
                            "#46039f"
                          ],
                          [
                            0.2222222222222222,
                            "#7201a8"
                          ],
                          [
                            0.3333333333333333,
                            "#9c179e"
                          ],
                          [
                            0.4444444444444444,
                            "#bd3786"
                          ],
                          [
                            0.5555555555555556,
                            "#d8576b"
                          ],
                          [
                            0.6666666666666666,
                            "#ed7953"
                          ],
                          [
                            0.7777777777777778,
                            "#fb9f3a"
                          ],
                          [
                            0.8888888888888888,
                            "#fdca26"
                          ],
                          [
                            1,
                            "#f0f921"
                          ]
                        ],
                        "type": "histogram2dcontour"
                      }
                    ],
                    "mesh3d": [
                      {
                        "colorbar": {
                          "outlinewidth": 0,
                          "ticks": ""
                        },
                        "type": "mesh3d"
                      }
                    ],
                    "parcoords": [
                      {
                        "line": {
                          "colorbar": {
                            "outlinewidth": 0,
                            "ticks": ""
                          }
                        },
                        "type": "parcoords"
                      }
                    ],
                    "pie": [
                      {
                        "automargin": true,
                        "type": "pie"
                      }
                    ],
                    "scatter": [
                      {
                        "fillpattern": {
                          "fillmode": "overlay",
                          "size": 10,
                          "solidity": 0.2
                        },
                        "type": "scatter"
                      }
                    ],
                    "scatter3d": [
                      {
                        "line": {
                          "colorbar": {
                            "outlinewidth": 0,
                            "ticks": ""
                          }
                        },
                        "marker": {
                          "colorbar": {
                            "outlinewidth": 0,
                            "ticks": ""
                          }
                        },
                        "type": "scatter3d"
                      }
                    ],
                    "scattercarpet": [
                      {
                        "marker": {
                          "colorbar": {
                            "outlinewidth": 0,
                            "ticks": ""
                          }
                        },
                        "type": "scattercarpet"
                      }
                    ],
                    "scattergeo": [
                      {
                        "marker": {
                          "colorbar": {
                            "outlinewidth": 0,
                            "ticks": ""
                          }
                        },
                        "type": "scattergeo"
                      }
                    ],
                    "scattergl": [
                      {
                        "marker": {
                          "colorbar": {
                            "outlinewidth": 0,
                            "ticks": ""
                          }
                        },
                        "type": "scattergl"
                      }
                    ],
                    "scattermapbox": [
                      {
                        "marker": {
                          "colorbar": {
                            "outlinewidth": 0,
                            "ticks": ""
                          }
                        },
                        "type": "scattermapbox"
                      }
                    ],
                    "scatterpolar": [
                      {
                        "marker": {
                          "colorbar": {
                            "outlinewidth": 0,
                            "ticks": ""
                          }
                        },
                        "type": "scatterpolar"
                      }
                    ],
                    "scatterpolargl": [
                      {
                        "marker": {
                          "colorbar": {
                            "outlinewidth": 0,
                            "ticks": ""
                          }
                        },
                        "type": "scatterpolargl"
                      }
                    ],
                    "scatterternary": [
                      {
                        "marker": {
                          "colorbar": {
                            "outlinewidth": 0,
                            "ticks": ""
                          }
                        },
                        "type": "scatterternary"
                      }
                    ],
                    "surface": [
                      {
                        "colorbar": {
                          "outlinewidth": 0,
                          "ticks": ""
                        },
                        "colorscale": [
                          [
                            0,
                            "#0d0887"
                          ],
                          [
                            0.1111111111111111,
                            "#46039f"
                          ],
                          [
                            0.2222222222222222,
                            "#7201a8"
                          ],
                          [
                            0.3333333333333333,
                            "#9c179e"
                          ],
                          [
                            0.4444444444444444,
                            "#bd3786"
                          ],
                          [
                            0.5555555555555556,
                            "#d8576b"
                          ],
                          [
                            0.6666666666666666,
                            "#ed7953"
                          ],
                          [
                            0.7777777777777778,
                            "#fb9f3a"
                          ],
                          [
                            0.8888888888888888,
                            "#fdca26"
                          ],
                          [
                            1,
                            "#f0f921"
                          ]
                        ],
                        "type": "surface"
                      }
                    ],
                    "table": [
                      {
                        "cells": {
                          "fill": {
                            "color": "#EBF0F8"
                          },
                          "line": {
                            "color": "white"
                          }
                        },
                        "header": {
                          "fill": {
                            "color": "#C8D4E3"
                          },
                          "line": {
                            "color": "white"
                          }
                        },
                        "type": "table"
                      }
                    ]
                  },
                  "layout": {
                    "annotationdefaults": {
                      "arrowcolor": "#2a3f5f",
                      "arrowhead": 0,
                      "arrowwidth": 1
                    },
                    "autotypenumbers": "strict",
                    "coloraxis": {
                      "colorbar": {
                        "outlinewidth": 0,
                        "ticks": ""
                      }
                    },
                    "colorscale": {
                      "diverging": [
                        [
                          0,
                          "#8e0152"
                        ],
                        [
                          0.1,
                          "#c51b7d"
                        ],
                        [
                          0.2,
                          "#de77ae"
                        ],
                        [
                          0.3,
                          "#f1b6da"
                        ],
                        [
                          0.4,
                          "#fde0ef"
                        ],
                        [
                          0.5,
                          "#f7f7f7"
                        ],
                        [
                          0.6,
                          "#e6f5d0"
                        ],
                        [
                          0.7,
                          "#b8e186"
                        ],
                        [
                          0.8,
                          "#7fbc41"
                        ],
                        [
                          0.9,
                          "#4d9221"
                        ],
                        [
                          1,
                          "#276419"
                        ]
                      ],
                      "sequential": [
                        [
                          0,
                          "#0d0887"
                        ],
                        [
                          0.1111111111111111,
                          "#46039f"
                        ],
                        [
                          0.2222222222222222,
                          "#7201a8"
                        ],
                        [
                          0.3333333333333333,
                          "#9c179e"
                        ],
                        [
                          0.4444444444444444,
                          "#bd3786"
                        ],
                        [
                          0.5555555555555556,
                          "#d8576b"
                        ],
                        [
                          0.6666666666666666,
                          "#ed7953"
                        ],
                        [
                          0.7777777777777778,
                          "#fb9f3a"
                        ],
                        [
                          0.8888888888888888,
                          "#fdca26"
                        ],
                        [
                          1,
                          "#f0f921"
                        ]
                      ],
                      "sequentialminus": [
                        [
                          0,
                          "#0d0887"
                        ],
                        [
                          0.1111111111111111,
                          "#46039f"
                        ],
                        [
                          0.2222222222222222,
                          "#7201a8"
                        ],
                        [
                          0.3333333333333333,
                          "#9c179e"
                        ],
                        [
                          0.4444444444444444,
                          "#bd3786"
                        ],
                        [
                          0.5555555555555556,
                          "#d8576b"
                        ],
                        [
                          0.6666666666666666,
                          "#ed7953"
                        ],
                        [
                          0.7777777777777778,
                          "#fb9f3a"
                        ],
                        [
                          0.8888888888888888,
                          "#fdca26"
                        ],
                        [
                          1,
                          "#f0f921"
                        ]
                      ]
                    },
                    "colorway": [
                      "#636efa",
                      "#EF553B",
                      "#00cc96",
                      "#ab63fa",
                      "#FFA15A",
                      "#19d3f3",
                      "#FF6692",
                      "#B6E880",
                      "#FF97FF",
                      "#FECB52"
                    ],
                    "font": {
                      "color": "#2a3f5f"
                    },
                    "geo": {
                      "bgcolor": "white",
                      "lakecolor": "white",
                      "landcolor": "#E5ECF6",
                      "showlakes": true,
                      "showland": true,
                      "subunitcolor": "white"
                    },
                    "hoverlabel": {
                      "align": "left"
                    },
                    "hovermode": "closest",
                    "mapbox": {
                      "style": "light"
                    },
                    "paper_bgcolor": "white",
                    "plot_bgcolor": "#E5ECF6",
                    "polar": {
                      "angularaxis": {
                        "gridcolor": "white",
                        "linecolor": "white",
                        "ticks": ""
                      },
                      "bgcolor": "#E5ECF6",
                      "radialaxis": {
                        "gridcolor": "white",
                        "linecolor": "white",
                        "ticks": ""
                      }
                    },
                    "scene": {
                      "xaxis": {
                        "backgroundcolor": "#E5ECF6",
                        "gridcolor": "white",
                        "gridwidth": 2,
                        "linecolor": "white",
                        "showbackground": true,
                        "ticks": "",
                        "zerolinecolor": "white"
                      },
                      "yaxis": {
                        "backgroundcolor": "#E5ECF6",
                        "gridcolor": "white",
                        "gridwidth": 2,
                        "linecolor": "white",
                        "showbackground": true,
                        "ticks": "",
                        "zerolinecolor": "white"
                      },
                      "zaxis": {
                        "backgroundcolor": "#E5ECF6",
                        "gridcolor": "white",
                        "gridwidth": 2,
                        "linecolor": "white",
                        "showbackground": true,
                        "ticks": "",
                        "zerolinecolor": "white"
                      }
                    },
                    "shapedefaults": {
                      "line": {
                        "color": "#2a3f5f"
                      }
                    },
                    "ternary": {
                      "aaxis": {
                        "gridcolor": "white",
                        "linecolor": "white",
                        "ticks": ""
                      },
                      "baxis": {
                        "gridcolor": "white",
                        "linecolor": "white",
                        "ticks": ""
                      },
                      "bgcolor": "#E5ECF6",
                      "caxis": {
                        "gridcolor": "white",
                        "linecolor": "white",
                        "ticks": ""
                      }
                    },
                    "title": {
                      "x": 0.05
                    },
                    "xaxis": {
                      "automargin": true,
                      "gridcolor": "white",
                      "linecolor": "white",
                      "ticks": "",
                      "title": {
                        "standoff": 15
                      },
                      "zerolinecolor": "white",
                      "zerolinewidth": 2
                    },
                    "yaxis": {
                      "automargin": true,
                      "gridcolor": "white",
                      "linecolor": "white",
                      "ticks": "",
                      "title": {
                        "standoff": 15
                      },
                      "zerolinecolor": "white",
                      "zerolinewidth": 2
                    }
                  }
                },
                "title": {
                  "text": "Matriz de Correlación"
                },
                "width": 1200,
                "xaxis": {
                  "anchor": "y",
                  "constrain": "domain",
                  "domain": [
                    0,
                    1
                  ],
                  "scaleanchor": "y",
                  "title": {
                    "text": "Variables"
                  }
                },
                "yaxis": {
                  "anchor": "x",
                  "autorange": "reversed",
                  "constrain": "domain",
                  "domain": [
                    0,
                    1
                  ],
                  "title": {
                    "text": "Variables"
                  }
                }
              }
            }
          },
          "metadata": {},
          "output_type": "display_data"
        }
      ],
      "source": [
        "corr_matrix = X_train.corr()\n",
        "\n",
        "# Crear un mapa de calor utilizando Plotly\n",
        "fig = px.imshow(corr_matrix, \n",
        "                text_auto=True,  # Muestra los valores de correlación en las celdas\n",
        "                color_continuous_scale='Viridis',  # Cambia la escala de colores\n",
        "                title='Matriz de Correlación',  # Título del gráfico\n",
        "                labels=dict(x='Variables', y='Variables'),  # Etiquetas para los ejes\n",
        "                width=1200,  # Ajustar el ancho de la figura\n",
        "                height=800)\n",
        "\n",
        "# Mostrar el gráfico\n",
        "fig.show()"
      ]
    },
    {
      "cell_type": "markdown",
      "metadata": {
        "id": "mKN-wqE9dqmE"
      },
      "source": [
        "## Analisis de balance"
      ]
    },
    {
      "cell_type": "code",
      "execution_count": 212,
      "metadata": {},
      "outputs": [
        {
          "data": {
            "text/plain": [
              "RainTomorrow\n",
              "0.0             18561\n",
              "1.0              5642\n",
              "Name: count, dtype: int64"
            ]
          },
          "execution_count": 212,
          "metadata": {},
          "output_type": "execute_result"
        }
      ],
      "source": [
        "y_train.value_counts()"
      ]
    },
    {
      "cell_type": "code",
      "execution_count": 213,
      "metadata": {},
      "outputs": [
        {
          "ename": "TypeError",
          "evalue": "only length-1 arrays can be converted to Python scalars",
          "output_type": "error",
          "traceback": [
            "\u001b[1;31m---------------------------------------------------------------------------\u001b[0m",
            "\u001b[1;31mTypeError\u001b[0m                                 Traceback (most recent call last)",
            "Cell \u001b[1;32mIn[213], line 1\u001b[0m\n\u001b[1;32m----> 1\u001b[0m \u001b[43mplt\u001b[49m\u001b[38;5;241;43m.\u001b[39;49m\u001b[43mbar\u001b[49m\u001b[43m(\u001b[49m\u001b[43my_train\u001b[49m\u001b[38;5;241;43m.\u001b[39;49m\u001b[43mindex\u001b[49m\u001b[43m,\u001b[49m\u001b[43m \u001b[49m\u001b[43my_train\u001b[49m\u001b[38;5;241;43m.\u001b[39;49m\u001b[43mvalues\u001b[49m\u001b[43m)\u001b[49m\n\u001b[0;32m      2\u001b[0m plt\u001b[38;5;241m.\u001b[39mtitle(\u001b[38;5;124m'\u001b[39m\u001b[38;5;124mBalanceo de variable respuesta\u001b[39m\u001b[38;5;124m'\u001b[39m)\n\u001b[0;32m      3\u001b[0m plt\u001b[38;5;241m.\u001b[39mxtitle(\u001b[38;5;124m'\u001b[39m\u001b[38;5;124mLlueve mañana\u001b[39m\u001b[38;5;124m'\u001b[39m)\n",
            "File \u001b[1;32mc:\\Users\\Administrador\\Downloads\\Aprendizaje Automatico - Repositorio\\.venv\\lib\\site-packages\\matplotlib\\pyplot.py:2956\u001b[0m, in \u001b[0;36mbar\u001b[1;34m(x, height, width, bottom, align, data, **kwargs)\u001b[0m\n\u001b[0;32m   2945\u001b[0m \u001b[38;5;129m@_copy_docstring_and_deprecators\u001b[39m(Axes\u001b[38;5;241m.\u001b[39mbar)\n\u001b[0;32m   2946\u001b[0m \u001b[38;5;28;01mdef\u001b[39;00m \u001b[38;5;21mbar\u001b[39m(\n\u001b[0;32m   2947\u001b[0m     x: \u001b[38;5;28mfloat\u001b[39m \u001b[38;5;241m|\u001b[39m ArrayLike,\n\u001b[1;32m   (...)\u001b[0m\n\u001b[0;32m   2954\u001b[0m     \u001b[38;5;241m*\u001b[39m\u001b[38;5;241m*\u001b[39mkwargs,\n\u001b[0;32m   2955\u001b[0m ) \u001b[38;5;241m-\u001b[39m\u001b[38;5;241m>\u001b[39m BarContainer:\n\u001b[1;32m-> 2956\u001b[0m     \u001b[38;5;28;01mreturn\u001b[39;00m gca()\u001b[38;5;241m.\u001b[39mbar(\n\u001b[0;32m   2957\u001b[0m         x,\n\u001b[0;32m   2958\u001b[0m         height,\n\u001b[0;32m   2959\u001b[0m         width\u001b[38;5;241m=\u001b[39mwidth,\n\u001b[0;32m   2960\u001b[0m         bottom\u001b[38;5;241m=\u001b[39mbottom,\n\u001b[0;32m   2961\u001b[0m         align\u001b[38;5;241m=\u001b[39malign,\n\u001b[0;32m   2962\u001b[0m         \u001b[38;5;241m*\u001b[39m\u001b[38;5;241m*\u001b[39m({\u001b[38;5;124m\"\u001b[39m\u001b[38;5;124mdata\u001b[39m\u001b[38;5;124m\"\u001b[39m: data} \u001b[38;5;28;01mif\u001b[39;00m data \u001b[38;5;129;01mis\u001b[39;00m \u001b[38;5;129;01mnot\u001b[39;00m \u001b[38;5;28;01mNone\u001b[39;00m \u001b[38;5;28;01melse\u001b[39;00m {}),\n\u001b[0;32m   2963\u001b[0m         \u001b[38;5;241m*\u001b[39m\u001b[38;5;241m*\u001b[39mkwargs,\n\u001b[0;32m   2964\u001b[0m     )\n",
            "File \u001b[1;32mc:\\Users\\Administrador\\Downloads\\Aprendizaje Automatico - Repositorio\\.venv\\lib\\site-packages\\matplotlib\\__init__.py:1473\u001b[0m, in \u001b[0;36m_preprocess_data.<locals>.inner\u001b[1;34m(ax, data, *args, **kwargs)\u001b[0m\n\u001b[0;32m   1470\u001b[0m \u001b[38;5;129m@functools\u001b[39m\u001b[38;5;241m.\u001b[39mwraps(func)\n\u001b[0;32m   1471\u001b[0m \u001b[38;5;28;01mdef\u001b[39;00m \u001b[38;5;21minner\u001b[39m(ax, \u001b[38;5;241m*\u001b[39margs, data\u001b[38;5;241m=\u001b[39m\u001b[38;5;28;01mNone\u001b[39;00m, \u001b[38;5;241m*\u001b[39m\u001b[38;5;241m*\u001b[39mkwargs):\n\u001b[0;32m   1472\u001b[0m     \u001b[38;5;28;01mif\u001b[39;00m data \u001b[38;5;129;01mis\u001b[39;00m \u001b[38;5;28;01mNone\u001b[39;00m:\n\u001b[1;32m-> 1473\u001b[0m         \u001b[38;5;28;01mreturn\u001b[39;00m func(\n\u001b[0;32m   1474\u001b[0m             ax,\n\u001b[0;32m   1475\u001b[0m             \u001b[38;5;241m*\u001b[39m\u001b[38;5;28mmap\u001b[39m(sanitize_sequence, args),\n\u001b[0;32m   1476\u001b[0m             \u001b[38;5;241m*\u001b[39m\u001b[38;5;241m*\u001b[39m{k: sanitize_sequence(v) \u001b[38;5;28;01mfor\u001b[39;00m k, v \u001b[38;5;129;01min\u001b[39;00m kwargs\u001b[38;5;241m.\u001b[39mitems()})\n\u001b[0;32m   1478\u001b[0m     bound \u001b[38;5;241m=\u001b[39m new_sig\u001b[38;5;241m.\u001b[39mbind(ax, \u001b[38;5;241m*\u001b[39margs, \u001b[38;5;241m*\u001b[39m\u001b[38;5;241m*\u001b[39mkwargs)\n\u001b[0;32m   1479\u001b[0m     auto_label \u001b[38;5;241m=\u001b[39m (bound\u001b[38;5;241m.\u001b[39marguments\u001b[38;5;241m.\u001b[39mget(label_namer)\n\u001b[0;32m   1480\u001b[0m                   \u001b[38;5;129;01mor\u001b[39;00m bound\u001b[38;5;241m.\u001b[39mkwargs\u001b[38;5;241m.\u001b[39mget(label_namer))\n",
            "File \u001b[1;32mc:\\Users\\Administrador\\Downloads\\Aprendizaje Automatico - Repositorio\\.venv\\lib\\site-packages\\matplotlib\\axes\\_axes.py:2583\u001b[0m, in \u001b[0;36mAxes.bar\u001b[1;34m(self, x, height, width, bottom, align, **kwargs)\u001b[0m\n\u001b[0;32m   2580\u001b[0m args \u001b[38;5;241m=\u001b[39m \u001b[38;5;28mzip\u001b[39m(left, bottom, width, height, color, edgecolor, linewidth,\n\u001b[0;32m   2581\u001b[0m            hatch, patch_labels)\n\u001b[0;32m   2582\u001b[0m \u001b[38;5;28;01mfor\u001b[39;00m l, b, w, h, c, e, lw, htch, lbl \u001b[38;5;129;01min\u001b[39;00m args:\n\u001b[1;32m-> 2583\u001b[0m     r \u001b[38;5;241m=\u001b[39m \u001b[43mmpatches\u001b[49m\u001b[38;5;241;43m.\u001b[39;49m\u001b[43mRectangle\u001b[49m\u001b[43m(\u001b[49m\n\u001b[0;32m   2584\u001b[0m \u001b[43m        \u001b[49m\u001b[43mxy\u001b[49m\u001b[38;5;241;43m=\u001b[39;49m\u001b[43m(\u001b[49m\u001b[43ml\u001b[49m\u001b[43m,\u001b[49m\u001b[43m \u001b[49m\u001b[43mb\u001b[49m\u001b[43m)\u001b[49m\u001b[43m,\u001b[49m\u001b[43m \u001b[49m\u001b[43mwidth\u001b[49m\u001b[38;5;241;43m=\u001b[39;49m\u001b[43mw\u001b[49m\u001b[43m,\u001b[49m\u001b[43m \u001b[49m\u001b[43mheight\u001b[49m\u001b[38;5;241;43m=\u001b[39;49m\u001b[43mh\u001b[49m\u001b[43m,\u001b[49m\n\u001b[0;32m   2585\u001b[0m \u001b[43m        \u001b[49m\u001b[43mfacecolor\u001b[49m\u001b[38;5;241;43m=\u001b[39;49m\u001b[43mc\u001b[49m\u001b[43m,\u001b[49m\n\u001b[0;32m   2586\u001b[0m \u001b[43m        \u001b[49m\u001b[43medgecolor\u001b[49m\u001b[38;5;241;43m=\u001b[39;49m\u001b[43me\u001b[49m\u001b[43m,\u001b[49m\n\u001b[0;32m   2587\u001b[0m \u001b[43m        \u001b[49m\u001b[43mlinewidth\u001b[49m\u001b[38;5;241;43m=\u001b[39;49m\u001b[43mlw\u001b[49m\u001b[43m,\u001b[49m\n\u001b[0;32m   2588\u001b[0m \u001b[43m        \u001b[49m\u001b[43mlabel\u001b[49m\u001b[38;5;241;43m=\u001b[39;49m\u001b[43mlbl\u001b[49m\u001b[43m,\u001b[49m\n\u001b[0;32m   2589\u001b[0m \u001b[43m        \u001b[49m\u001b[43mhatch\u001b[49m\u001b[38;5;241;43m=\u001b[39;49m\u001b[43mhtch\u001b[49m\u001b[43m,\u001b[49m\n\u001b[0;32m   2590\u001b[0m \u001b[43m        \u001b[49m\u001b[43m)\u001b[49m\n\u001b[0;32m   2591\u001b[0m     r\u001b[38;5;241m.\u001b[39m_internal_update(kwargs)\n\u001b[0;32m   2592\u001b[0m     r\u001b[38;5;241m.\u001b[39mget_path()\u001b[38;5;241m.\u001b[39m_interpolation_steps \u001b[38;5;241m=\u001b[39m \u001b[38;5;241m100\u001b[39m\n",
            "File \u001b[1;32mc:\\Users\\Administrador\\Downloads\\Aprendizaje Automatico - Repositorio\\.venv\\lib\\site-packages\\matplotlib\\patches.py:762\u001b[0m, in \u001b[0;36mRectangle.__init__\u001b[1;34m(self, xy, width, height, angle, rotation_point, **kwargs)\u001b[0m\n\u001b[0;32m    738\u001b[0m \u001b[38;5;129m@_docstring\u001b[39m\u001b[38;5;241m.\u001b[39mdedent_interpd\n\u001b[0;32m    739\u001b[0m \u001b[38;5;28;01mdef\u001b[39;00m \u001b[38;5;21m__init__\u001b[39m(\u001b[38;5;28mself\u001b[39m, xy, width, height, \u001b[38;5;241m*\u001b[39m,\n\u001b[0;32m    740\u001b[0m              angle\u001b[38;5;241m=\u001b[39m\u001b[38;5;241m0.0\u001b[39m, rotation_point\u001b[38;5;241m=\u001b[39m\u001b[38;5;124m'\u001b[39m\u001b[38;5;124mxy\u001b[39m\u001b[38;5;124m'\u001b[39m, \u001b[38;5;241m*\u001b[39m\u001b[38;5;241m*\u001b[39mkwargs):\n\u001b[0;32m    741\u001b[0m \u001b[38;5;250m    \u001b[39m\u001b[38;5;124;03m\"\"\"\u001b[39;00m\n\u001b[0;32m    742\u001b[0m \u001b[38;5;124;03m    Parameters\u001b[39;00m\n\u001b[0;32m    743\u001b[0m \u001b[38;5;124;03m    ----------\u001b[39;00m\n\u001b[1;32m   (...)\u001b[0m\n\u001b[0;32m    760\u001b[0m \u001b[38;5;124;03m        %(Patch:kwdoc)s\u001b[39;00m\n\u001b[0;32m    761\u001b[0m \u001b[38;5;124;03m    \"\"\"\u001b[39;00m\n\u001b[1;32m--> 762\u001b[0m     \u001b[38;5;28msuper\u001b[39m()\u001b[38;5;241m.\u001b[39m\u001b[38;5;21m__init__\u001b[39m(\u001b[38;5;241m*\u001b[39m\u001b[38;5;241m*\u001b[39mkwargs)\n\u001b[0;32m    763\u001b[0m     \u001b[38;5;28mself\u001b[39m\u001b[38;5;241m.\u001b[39m_x0 \u001b[38;5;241m=\u001b[39m xy[\u001b[38;5;241m0\u001b[39m]\n\u001b[0;32m    764\u001b[0m     \u001b[38;5;28mself\u001b[39m\u001b[38;5;241m.\u001b[39m_y0 \u001b[38;5;241m=\u001b[39m xy[\u001b[38;5;241m1\u001b[39m]\n",
            "File \u001b[1;32mc:\\Users\\Administrador\\Downloads\\Aprendizaje Automatico - Repositorio\\.venv\\lib\\site-packages\\matplotlib\\patches.py:91\u001b[0m, in \u001b[0;36mPatch.__init__\u001b[1;34m(self, edgecolor, facecolor, color, linewidth, linestyle, antialiased, hatch, fill, capstyle, joinstyle, **kwargs)\u001b[0m\n\u001b[0;32m     88\u001b[0m \u001b[38;5;28mself\u001b[39m\u001b[38;5;241m.\u001b[39m_dash_pattern \u001b[38;5;241m=\u001b[39m (\u001b[38;5;241m0\u001b[39m, \u001b[38;5;28;01mNone\u001b[39;00m)  \u001b[38;5;66;03m# offset, dash (scaled by linewidth)\u001b[39;00m\n\u001b[0;32m     90\u001b[0m \u001b[38;5;28mself\u001b[39m\u001b[38;5;241m.\u001b[39mset_linestyle(linestyle)\n\u001b[1;32m---> 91\u001b[0m \u001b[38;5;28;43mself\u001b[39;49m\u001b[38;5;241;43m.\u001b[39;49m\u001b[43mset_linewidth\u001b[49m\u001b[43m(\u001b[49m\u001b[43mlinewidth\u001b[49m\u001b[43m)\u001b[49m\n\u001b[0;32m     92\u001b[0m \u001b[38;5;28mself\u001b[39m\u001b[38;5;241m.\u001b[39mset_antialiased(antialiased)\n\u001b[0;32m     93\u001b[0m \u001b[38;5;28mself\u001b[39m\u001b[38;5;241m.\u001b[39mset_hatch(hatch)\n",
            "File \u001b[1;32mc:\\Users\\Administrador\\Downloads\\Aprendizaje Automatico - Repositorio\\.venv\\lib\\site-packages\\matplotlib\\patches.py:438\u001b[0m, in \u001b[0;36mPatch.set_linewidth\u001b[1;34m(self, w)\u001b[0m\n\u001b[0;32m    436\u001b[0m \u001b[38;5;28;01mif\u001b[39;00m w \u001b[38;5;129;01mis\u001b[39;00m \u001b[38;5;28;01mNone\u001b[39;00m:\n\u001b[0;32m    437\u001b[0m     w \u001b[38;5;241m=\u001b[39m mpl\u001b[38;5;241m.\u001b[39mrcParams[\u001b[38;5;124m'\u001b[39m\u001b[38;5;124mpatch.linewidth\u001b[39m\u001b[38;5;124m'\u001b[39m]\n\u001b[1;32m--> 438\u001b[0m \u001b[38;5;28mself\u001b[39m\u001b[38;5;241m.\u001b[39m_linewidth \u001b[38;5;241m=\u001b[39m \u001b[38;5;28;43mfloat\u001b[39;49m\u001b[43m(\u001b[49m\u001b[43mw\u001b[49m\u001b[43m)\u001b[49m\n\u001b[0;32m    439\u001b[0m \u001b[38;5;28mself\u001b[39m\u001b[38;5;241m.\u001b[39m_dash_pattern \u001b[38;5;241m=\u001b[39m mlines\u001b[38;5;241m.\u001b[39m_scale_dashes(\n\u001b[0;32m    440\u001b[0m     \u001b[38;5;241m*\u001b[39m\u001b[38;5;28mself\u001b[39m\u001b[38;5;241m.\u001b[39m_unscaled_dash_pattern, w)\n\u001b[0;32m    441\u001b[0m \u001b[38;5;28mself\u001b[39m\u001b[38;5;241m.\u001b[39mstale \u001b[38;5;241m=\u001b[39m \u001b[38;5;28;01mTrue\u001b[39;00m\n",
            "\u001b[1;31mTypeError\u001b[0m: only length-1 arrays can be converted to Python scalars"
          ]
        },
        {
          "data": {
            "image/png": "[encoded data removed]",
            "text/plain": [
              "<Figure size 640x480 with 1 Axes>"
            ]
          },
          "metadata": {},
          "output_type": "display_data"
        }
      ],
      "source": [
        "plt.bar(y_train.index, y_train.values)\n",
        "plt.title('Balanceo de variable respuesta')\n",
        "plt.xtitle('Llueve mañana')"
      ]
    },
    {
      "cell_type": "code",
      "execution_count": null,
      "metadata": {},
      "outputs": [
        {
          "ename": "ValueError",
          "evalue": "Unknown label type: continuous. Maybe you are trying to fit a classifier, which expects discrete classes on a regression target with continuous values.",
          "output_type": "error",
          "traceback": [
            "\u001b[0;31m---------------------------------------------------------------------------\u001b[0m",
            "\u001b[0;31mValueError\u001b[0m                                Traceback (most recent call last)",
            "Cell \u001b[0;32mIn[33], line 2\u001b[0m\n\u001b[1;32m      1\u001b[0m oversampler: RandomOverSampler \u001b[38;5;241m=\u001b[39m RandomOverSampler(random_state\u001b[38;5;241m=\u001b[39m\u001b[38;5;241m42\u001b[39m)\n\u001b[0;32m----> 2\u001b[0m X_resampled, y_resampled \u001b[38;5;241m=\u001b[39m \u001b[43moversampler\u001b[49m\u001b[38;5;241;43m.\u001b[39;49m\u001b[43mfit_resample\u001b[49m\u001b[43m(\u001b[49m\u001b[43mX_train\u001b[49m\u001b[43m,\u001b[49m\u001b[43m \u001b[49m\u001b[43my_train\u001b[49m\u001b[43m)\u001b[49m\n",
            "File \u001b[0;32m~/Documents/TUIA/AA/.venv_ML/lib64/python3.12/site-packages/imblearn/base.py:208\u001b[0m, in \u001b[0;36mBaseSampler.fit_resample\u001b[0;34m(self, X, y)\u001b[0m\n\u001b[1;32m    187\u001b[0m \u001b[38;5;250m\u001b[39m\u001b[38;5;124;03m\"\"\"Resample the dataset.\u001b[39;00m\n\u001b[1;32m    188\u001b[0m \n\u001b[1;32m    189\u001b[0m \u001b[38;5;124;03mParameters\u001b[39;00m\n\u001b[0;32m   (...)\u001b[0m\n\u001b[1;32m    205\u001b[0m \u001b[38;5;124;03m    The corresponding label of `X_resampled`.\u001b[39;00m\n\u001b[1;32m    206\u001b[0m \u001b[38;5;124;03m\"\"\"\u001b[39;00m\n\u001b[1;32m    207\u001b[0m \u001b[38;5;28mself\u001b[39m\u001b[38;5;241m.\u001b[39m_validate_params()\n\u001b[0;32m--> 208\u001b[0m \u001b[38;5;28;01mreturn\u001b[39;00m \u001b[38;5;28;43msuper\u001b[39;49m\u001b[43m(\u001b[49m\u001b[43m)\u001b[49m\u001b[38;5;241;43m.\u001b[39;49m\u001b[43mfit_resample\u001b[49m\u001b[43m(\u001b[49m\u001b[43mX\u001b[49m\u001b[43m,\u001b[49m\u001b[43m \u001b[49m\u001b[43my\u001b[49m\u001b[43m)\u001b[49m\n",
            "File \u001b[0;32m~/Documents/TUIA/AA/.venv_ML/lib64/python3.12/site-packages/imblearn/base.py:104\u001b[0m, in \u001b[0;36mSamplerMixin.fit_resample\u001b[0;34m(self, X, y)\u001b[0m\n\u001b[1;32m     83\u001b[0m \u001b[38;5;28;01mdef\u001b[39;00m \u001b[38;5;21mfit_resample\u001b[39m(\u001b[38;5;28mself\u001b[39m, X, y):\n\u001b[1;32m     84\u001b[0m \u001b[38;5;250m    \u001b[39m\u001b[38;5;124;03m\"\"\"Resample the dataset.\u001b[39;00m\n\u001b[1;32m     85\u001b[0m \n\u001b[1;32m     86\u001b[0m \u001b[38;5;124;03m    Parameters\u001b[39;00m\n\u001b[0;32m   (...)\u001b[0m\n\u001b[1;32m    102\u001b[0m \u001b[38;5;124;03m        The corresponding label of `X_resampled`.\u001b[39;00m\n\u001b[1;32m    103\u001b[0m \u001b[38;5;124;03m    \"\"\"\u001b[39;00m\n\u001b[0;32m--> 104\u001b[0m     \u001b[43mcheck_classification_targets\u001b[49m\u001b[43m(\u001b[49m\u001b[43my\u001b[49m\u001b[43m)\u001b[49m\n\u001b[1;32m    105\u001b[0m     arrays_transformer \u001b[38;5;241m=\u001b[39m ArraysTransformer(X, y)\n\u001b[1;32m    106\u001b[0m     X, y, binarize_y \u001b[38;5;241m=\u001b[39m \u001b[38;5;28mself\u001b[39m\u001b[38;5;241m.\u001b[39m_check_X_y(X, y)\n",
            "File \u001b[0;32m~/Documents/TUIA/AA/.venv_ML/lib64/python3.12/site-packages/sklearn/utils/multiclass.py:219\u001b[0m, in \u001b[0;36mcheck_classification_targets\u001b[0;34m(y)\u001b[0m\n\u001b[1;32m    211\u001b[0m y_type \u001b[38;5;241m=\u001b[39m type_of_target(y, input_name\u001b[38;5;241m=\u001b[39m\u001b[38;5;124m\"\u001b[39m\u001b[38;5;124my\u001b[39m\u001b[38;5;124m\"\u001b[39m)\n\u001b[1;32m    212\u001b[0m \u001b[38;5;28;01mif\u001b[39;00m y_type \u001b[38;5;129;01mnot\u001b[39;00m \u001b[38;5;129;01min\u001b[39;00m [\n\u001b[1;32m    213\u001b[0m     \u001b[38;5;124m\"\u001b[39m\u001b[38;5;124mbinary\u001b[39m\u001b[38;5;124m\"\u001b[39m,\n\u001b[1;32m    214\u001b[0m     \u001b[38;5;124m\"\u001b[39m\u001b[38;5;124mmulticlass\u001b[39m\u001b[38;5;124m\"\u001b[39m,\n\u001b[0;32m   (...)\u001b[0m\n\u001b[1;32m    217\u001b[0m     \u001b[38;5;124m\"\u001b[39m\u001b[38;5;124mmultilabel-sequences\u001b[39m\u001b[38;5;124m\"\u001b[39m,\n\u001b[1;32m    218\u001b[0m ]:\n\u001b[0;32m--> 219\u001b[0m     \u001b[38;5;28;01mraise\u001b[39;00m \u001b[38;5;167;01mValueError\u001b[39;00m(\n\u001b[1;32m    220\u001b[0m         \u001b[38;5;124mf\u001b[39m\u001b[38;5;124m\"\u001b[39m\u001b[38;5;124mUnknown label type: \u001b[39m\u001b[38;5;132;01m{\u001b[39;00my_type\u001b[38;5;132;01m}\u001b[39;00m\u001b[38;5;124m. Maybe you are trying to fit a \u001b[39m\u001b[38;5;124m\"\u001b[39m\n\u001b[1;32m    221\u001b[0m         \u001b[38;5;124m\"\u001b[39m\u001b[38;5;124mclassifier, which expects discrete classes on a \u001b[39m\u001b[38;5;124m\"\u001b[39m\n\u001b[1;32m    222\u001b[0m         \u001b[38;5;124m\"\u001b[39m\u001b[38;5;124mregression target with continuous values.\u001b[39m\u001b[38;5;124m\"\u001b[39m\n\u001b[1;32m    223\u001b[0m     )\n",
            "\u001b[0;31mValueError\u001b[0m: Unknown label type: continuous. Maybe you are trying to fit a classifier, which expects discrete classes on a regression target with continuous values."
          ]
        }
      ],
      "source": [
        "oversampler: RandomOverSampler = RandomOverSampler(random_state=42)\n",
        "X_resampled, y_resampled = oversampler.fit_resample(X_train, y_train)"
      ]
    },
    {
      "cell_type": "code",
      "execution_count": null,
      "metadata": {},
      "outputs": [],
      "source": [
        "fig, ax = plt.subplots(1, 2, figsize=(10,5))\n",
        "ax[0].scatter(X_train[:, 0], X_train[:, 1], c=y_train, cmap=plt.cm.RdBu)\n",
        "ax[1].scatter(X_resampled[:, 0], X_resampled[:, 1], c=y_resampled, cmap=plt.cm.RdBu)\n",
        "plt.show()"
      ]
    },
    {
      "cell_type": "code",
      "execution_count": null,
      "metadata": {
        "id": "Q02t-ygldqmV"
      },
      "outputs": [],
      "source": [
        "numerical_float_columns: list[str] = X_train.select_dtypes(include=[np.number, 'float']).columns.to_list()"
      ]
    },
    {
      "cell_type": "code",
      "execution_count": null,
      "metadata": {
        "id": "skxmd3D3dqmX",
        "outputId": "0a9d1d30-8841-4adb-e797-fee203b72c28"
      },
      "outputs": [],
      "source": [
        "num_columns = 3  # Number of columns per row\n",
        "num_rows = (len(numerical_float_columns) + num_columns - 1) // num_columns  # Calculate required rows\n",
        "\n",
        "# Create a figure with subplots\n",
        "fig, axes = plt.subplots(num_rows, num_columns, figsize=(5 * num_columns, 4 * num_rows))\n",
        "\n",
        "# Flatten axes array for easier iteration\n",
        "axes = axes.flatten()\n",
        "\n",
        "# Plot histograms for each numerical column\n",
        "for ax, col in zip(axes, numerical_float_columns):\n",
        "    ax.hist(X_train[col], bins=20, color='blue', alpha=0.7)\n",
        "    ax.set_title(f'{col}')\n",
        "    #ax.set_xlabel(col)\n",
        "    ax.set_ylabel('Frequency')\n",
        "\n",
        "# Hide any unused subplots\n",
        "for i in range(len(numerical_float_columns), len(axes)):\n",
        "    fig.delaxes(axes[i])"
      ]
    },
    {
      "cell_type": "markdown",
      "metadata": {
        "id": "p7KXy9o_dqmZ"
      },
      "source": [
        "Observamos que las siguientes distribuciones son **normales**:\n",
        " - Temp3pm\n",
        " - Temp9am\n",
        " - Pressure9am, con una cola pesada hacia la izquierda.\n",
        " - Pressure3pm\n",
        " - Humidity3pm\n",
        " - MinTemp, con una cola pesada hacia la izquierda.\n",
        " - WinSpeed9am, con una cola pesada hacia la derecha.\n",
        "\n",
        " Hay distribuciones **binomiales**:\n",
        "  - Cloud9am\n",
        "  - Cloud3pm"
      ]
    },
    {
      "cell_type": "code",
      "execution_count": null,
      "metadata": {},
      "outputs": [],
      "source": [
        "corr_matrix = X_train.corr()\n",
        "\n",
        "fig = px.imshow(corr_matrix, title='Correlación entre las características', aspect='auto', color_continuous_scale='RdBu',\n",
        "          zmin= -1, zmax=1, text_auto=True)\n",
        "\n",
        "fig.show()"
      ]
    },
    {
      "cell_type": "code",
      "execution_count": null,
      "metadata": {
        "id": "Q_MCpNcOdqmc",
        "outputId": "20da9bb4-ebfb-41cd-a781-f79fcfb20da1"
      },
      "outputs": [
        {
          "data": {
            "text/plain": [
              "\"\\nk_values = [1, 3, 5, 7, 9, 11]\\n \\n# Create subplots for each k value\\nfig, axes = plt.subplots(1, len(k_values), figsize=(15, 3))\\n \\n# Train and visualize the models with varying k values\\nfor i, k in enumerate(k_values):\\n    # Create KNN model\\n    knn = KNNImputer(n_neighbors=k)\\n \\n    # Train the model\\n    knn.fit(X_train[numerical_float_columns], y_train)\\n \\n    # Make predictions\\n    y_pred = knn.predict(X_test)\\n \\n    # Calculate accuracy\\n    accuracy = accuracy_score(y_test, y_pred)\\n \\n    # Plot decision boundary\\n    h = 0.02  # Step size in the mesh\\n    x_min, x_max = X[:, 0].min() - 1, X[:, 0].max() + 1\\n    y_min, y_max = X[:, 1].min() - 1, X[:, 1].max() + 1\\n    xx, yy = np.meshgrid(np.arange(x_min, x_max, h),\\n                         np.arange(y_min, y_max, h))\\n    Z = knn.predict(np.c_[xx.ravel(), yy.ravel()])\\n    Z = Z.reshape(xx.shape)\\n \\n    # Plot the decision boundary\\n    axes[i].contourf(xx, yy, Z, cmap=plt.cm.Paired, alpha=0.8)\\n \\n    # Plot the training points\\n    axes[i].scatter(X_train[:, 0], X_train[:, 1], c=y_train,\\n                    edgecolors='k', cmap=plt.cm.Paired)\\n \\n    # Plot the testing points\\n    axes[i].scatter(X_test[:, 0], X_test[:, 1], c=y_test,\\n                    marker='x', edgecolors='k', cmap=plt.cm.Paired)\\n \\n    # Set plot labels and title\\n    axes[i].set_title(f'k={k}, Accuracy={accuracy:.2f}')\\n    axes[i].set_xlabel('Feature 1')\\n    axes[i].set_ylabel('Feature 2')\\n \\nplt.show()\\n\\n\""
            ]
          },
          "execution_count": 23,
          "metadata": {},
          "output_type": "execute_result"
        }
      ],
      "source": [
        "\"\"\"\n",
        "k_values = [1, 3, 5, 7, 9, 11]\n",
        "\n",
        "# Create subplots for each k value\n",
        "fig, axes = plt.subplots(1, len(k_values), figsize=(15, 3))\n",
        "\n",
        "# Train and visualize the models with varying k values\n",
        "for i, k in enumerate(k_values):\n",
        "    # Create KNN model\n",
        "    knn = KNNImputer(n_neighbors=k)\n",
        "\n",
        "    # Train the model\n",
        "    knn.fit(X_train[numerical_float_columns], y_train)\n",
        "\n",
        "    # Make predictions\n",
        "    y_pred = knn.predict(X_test)\n",
        "\n",
        "    # Calculate accuracy\n",
        "    accuracy = accuracy_score(y_test, y_pred)\n",
        "\n",
        "    # Plot decision boundary\n",
        "    h = 0.02  # Step size in the mesh\n",
        "    x_min, x_max = X[:, 0].min() - 1, X[:, 0].max() + 1\n",
        "    y_min, y_max = X[:, 1].min() - 1, X[:, 1].max() + 1\n",
        "    xx, yy = np.meshgrid(np.arange(x_min, x_max, h),\n",
        "                         np.arange(y_min, y_max, h))\n",
        "    Z = knn.predict(np.c_[xx.ravel(), yy.ravel()])\n",
        "    Z = Z.reshape(xx.shape)\n",
        "\n",
        "    # Plot the decision boundary\n",
        "    axes[i].contourf(xx, yy, Z, cmap=plt.cm.Paired, alpha=0.8)\n",
        "\n",
        "    # Plot the training points\n",
        "    axes[i].scatter(X_train[:, 0], X_train[:, 1], c=y_train,\n",
        "                    edgecolors='k', cmap=plt.cm.Paired)\n",
        "\n",
        "    # Plot the testing points\n",
        "    axes[i].scatter(X_test[:, 0], X_test[:, 1], c=y_test,\n",
        "                    marker='x', edgecolors='k', cmap=plt.cm.Paired)\n",
        "\n",
        "    # Set plot labels and title\n",
        "    axes[i].set_title(f'k={k}, Accuracy={accuracy:.2f}')\n",
        "    axes[i].set_xlabel('Feature 1')\n",
        "    axes[i].set_ylabel('Feature 2')\n",
        "\n",
        "plt.show()\n",
        "\n",
        "\"\"\"\n"
      ]
    }
  ],
  "metadata": {
    "colab": {
      "provenance": []
    },
    "kernelspec": {
      "display_name": ".venv_ML",
      "language": "python",
      "name": "python3"
    },
    "language_info": {
      "codemirror_mode": {
        "name": "ipython",
        "version": 3
      },
      "file_extension": ".py",
      "mimetype": "text/x-python",
      "name": "python",
      "nbconvert_exporter": "python",
      "pygments_lexer": "ipython3",
      "version": "3.10.11"
    }
  },
  "nbformat": 4,
  "nbformat_minor": 0
}
